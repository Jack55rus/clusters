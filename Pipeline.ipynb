{
 "cells": [
  {
   "cell_type": "code",
   "execution_count": 1,
   "metadata": {},
   "outputs": [],
   "source": [
    "import yaml\n",
    "import random\n",
    "import numpy as np\n",
    "import time\n",
    "\n",
    "from reader import Reader\n",
    "\n",
    "from const import Const\n",
    "from utils import get_F_example\n",
    "from clustering import Clusters\n",
    "from fastclustering import Fast_Clusters\n",
    "from i_merge import IMerger\n",
    "from Subclusterring import Subclusters\n",
    "\n",
    "from sklearn.datasets import make_blobs\n",
    "import matplotlib.pyplot as plt\n",
    "import plotly.express as px\n",
    "import pandas as pd"
   ]
  },
  {
   "cell_type": "markdown",
   "metadata": {},
   "source": [
    "# Если есть желание создать свои данные, то вызвать этот код"
   ]
  },
  {
   "cell_type": "code",
   "execution_count": 2,
   "metadata": {},
   "outputs": [],
   "source": [
    "# X, y = make_blobs(n_samples=200, centers=7, cluster_std=0.6, random_state=0)\n",
    "\n",
    "# ids = [i+1 for i in range(len(X))]\n",
    "# df = pd.DataFrame()\n",
    "# df['id'] = ids\n",
    "# df['X1'] = X[:,0]\n",
    "# df['X2'] = X[:,1]"
   ]
  },
  {
   "cell_type": "code",
   "execution_count": 3,
   "metadata": {},
   "outputs": [],
   "source": [
    "# ids = []\n",
    "# X1 = []\n",
    "# X2 = []\n",
    "# with open('Two.txt', 'r') as f:\n",
    "#     for k, line in enumerate(f):\n",
    "#         if k==0:\n",
    "#             continue\n",
    "#         ids.append(int(line.split()[0]))\n",
    "#         X1.append(float(line.split()[1]))\n",
    "#         X2.append(float(line.split()[2]))\n",
    "#         if k>=205:\n",
    "#             break\n",
    "# df = pd.DataFrame()\n",
    "# df['id'] = ids\n",
    "# df['X1'] = X1\n",
    "# df['X2'] = X2\n",
    "    "
   ]
  },
  {
   "cell_type": "code",
   "execution_count": 4,
   "metadata": {},
   "outputs": [],
   "source": [
    "reader = Reader()"
   ]
  },
  {
   "cell_type": "code",
   "execution_count": 65,
   "metadata": {},
   "outputs": [
    {
     "name": "stdout",
     "output_type": "stream",
     "text": [
      "Stated size of data 500\n",
      "Data contained  0 incorrect rows\n",
      "Size of data 500\n",
      "X1 contain 1434 zero distances 0.00574\n",
      "Interval: 0.023477530746534116\n",
      "Interval: 0.08428588577579789\n",
      "Interval: 0.15299088050915693\n",
      "Interval: 0.2252783206195862\n",
      "Interval: 0.3017604409786687\n",
      "Interval: 0.3829939315747405\n",
      "Interval: 0.47198392051397015\n",
      "Interval: 0.5788545038742483\n",
      "Interval: 0.7067583222882047\n",
      "Interval: 0.9619352158396215\n",
      "histogram [63420 52116 45842 36346 26196 14938  6320  3132  1426   264]\n",
      "bins lenght [0.         0.15575643 0.31151286 0.46726929 0.62302572 0.77878215\n",
      " 0.93453858 1.09029501 1.24605144 1.40180787 1.5575643 ]\n",
      "X2 contain 1434 zero distances 0.00574\n",
      "Interval: 0.08654977750238319\n",
      "Interval: 0.31329181614885143\n",
      "Interval: 0.5611397056599189\n",
      "Interval: 0.8381047708324938\n",
      "Interval: 1.1523482782368664\n",
      "Interval: 1.459894544350266\n",
      "Interval: 1.8002468721267997\n",
      "Interval: 2.2103222517341843\n",
      "Interval: 2.737417146366575\n",
      "Interval: 3.423461931858441\n",
      "histogram [52348 40964 35626 34184 27620 21150 19378 13054  4710   966]\n",
      "bins lenght [0.         0.45314089 0.90628177 1.35942266 1.81256355 2.26570444\n",
      " 2.71884532 3.17198621 3.6251271  4.07826799 4.53140887]\n",
      "X3 contain 48132 zero distances 0.19253\n",
      "Interval: 0.0\n",
      "Interval: 3.743654399999684\n",
      "Interval: 51.45575040000168\n",
      "Interval: 52.038489599999316\n",
      "Interval: 52.74161280000163\n",
      "Interval: 102.2296320000003\n",
      "Interval: 104.8420224000017\n",
      "Interval: 152.4892031999991\n",
      "Interval: 286.0580735999996\n",
      "Interval: 921.8295359999998\n",
      "histogram [203358  16504  10726   8624   3314    922   1384   2148   1744   1276]\n",
      "bins lenght [   0.     196.416  392.832  589.248  785.664  982.08  1178.496 1374.912\n",
      " 1571.328 1767.744 1964.16 ]\n",
      "X4 contain 2696 zero distances 0.01078\n",
      "Interval: 5.826816000000002\n",
      "Interval: 18.752903999999997\n",
      "Interval: 32.94876\n",
      "Interval: 48.08592\n",
      "Interval: 64.847368\n",
      "Interval: 84.223272\n",
      "Interval: 106.45416\n",
      "Interval: 134.431032\n",
      "Interval: 170.328696\n",
      "Interval: 250.460088\n",
      "histogram [81114 61336 44342 30116 16686  8752  4728  2224   610    92]\n",
      "bins lenght [  0.    44.44  88.88 133.32 177.76 222.2  266.64 311.08 355.52 399.96\n",
      " 444.4 ]\n",
      "X5 contain 17670 zero distances 0.07068\n",
      "Interval: 1.1145672000000044\n",
      "Interval: 9.443039999999998\n",
      "Interval: 16.5924968\n",
      "Interval: 22.633391999999997\n",
      "Interval: 30.966907199999998\n",
      "Interval: 39.3160448\n",
      "Interval: 48.8228424\n",
      "Interval: 61.16635599999999\n",
      "Interval: 77.686296\n",
      "Interval: 115.04234399999999\n",
      "histogram [88742 61424 41966 27672 16088  7892  3804  1796   564    52]\n",
      "bins lenght [  0.   21.2  42.4  63.6  84.8 106.  127.2 148.4 169.6 190.8 212. ]\n"
     ]
    }
   ],
   "source": [
    "df = reader.read('./Data/5D.xlsx')"
   ]
  },
  {
   "cell_type": "code",
   "execution_count": 66,
   "metadata": {},
   "outputs": [],
   "source": [
    "df, df_test = reader.split_data(df, train_size=99)"
   ]
  },
  {
   "cell_type": "code",
   "execution_count": 67,
   "metadata": {},
   "outputs": [
    {
     "data": {
      "text/plain": [
       "(495, 6)"
      ]
     },
     "execution_count": 67,
     "metadata": {},
     "output_type": "execute_result"
    }
   ],
   "source": [
    "df.shape"
   ]
  },
  {
   "cell_type": "code",
   "execution_count": 68,
   "metadata": {
    "scrolled": true
   },
   "outputs": [
    {
     "data": {
      "image/png": "[encoded data removed]",
      "text/plain": [
       "<Figure size 432x288 with 1 Axes>"
      ]
     },
     "metadata": {
      "needs_background": "light"
     },
     "output_type": "display_data"
    }
   ],
   "source": [
    "plt.scatter(df['X1'], df['X2'])\n",
    "plt.show()"
   ]
  },
  {
   "cell_type": "markdown",
   "metadata": {},
   "source": [
    "# Подбор констант"
   ]
  },
  {
   "cell_type": "code",
   "execution_count": 69,
   "metadata": {},
   "outputs": [
    {
     "name": "stderr",
     "output_type": "stream",
     "text": [
      "C:\\Users\\zheny\\Documents\\clusters\\const.py:15: YAMLLoadWarning: calling yaml.load() without Loader=... is deprecated, as the default Loader is unsafe. Please read https://msg.pyyaml.org/load for full details.\n",
      "  self.config = yaml.load(open(\"settings.yaml\", 'r'))\n"
     ]
    }
   ],
   "source": [
    "const = Const()"
   ]
  },
  {
   "cell_type": "code",
   "execution_count": 70,
   "metadata": {},
   "outputs": [
    {
     "name": "stdout",
     "output_type": "stream",
     "text": [
      "Persent of zeros start: 0.014396490154065912 for X 0\n",
      "Persent of zeros finish: 0.004999489847974697 for X 0\n",
      "Persent of zeros start: 0.014396490154065912 for X 1\n",
      "Persent of zeros finish: 0.004999489847974697 for X 1\n",
      "Persent of zeros start: 0.48232833384348534 for X 2\n",
      "Persent of zeros finish: 0.004999489847974697 for X 2\n",
      "Persent of zeros start: 0.027150290786654423 for X 3\n",
      "Persent of zeros finish: 0.004999489847974697 for X 3\n",
      "Persent of zeros start: 0.17891031527395163 for X 4\n",
      "Persent of zeros finish: 0.004999489847974697 for X 4\n"
     ]
    }
   ],
   "source": [
    "const.norm(df) # Нормировка"
   ]
  },
  {
   "cell_type": "code",
   "execution_count": 71,
   "metadata": {},
   "outputs": [
    {
     "data": {
      "text/plain": [
       "{'X1': 0.1234807522221024,\n",
       " 'X2': 0.459726005232921,\n",
       " 'X3': 62.89879155188309,\n",
       " 'X4': 27.41558412406897,\n",
       " 'X5': 17.591519028670543}"
      ]
     },
     "execution_count": 71,
     "metadata": {},
     "output_type": "execute_result"
    }
   ],
   "source": [
    "const.get_norms() # Получение норм"
   ]
  },
  {
   "cell_type": "code",
   "execution_count": 72,
   "metadata": {
    "scrolled": false
   },
   "outputs": [
    {
     "name": "stdout",
     "output_type": "stream",
     "text": [
      "Persent of zeros start: 0.0\n",
      "going up\n",
      "40.158358097076416\n"
     ]
    }
   ],
   "source": [
    "a = time.time()\n",
    "const.calculate_a(df, type_of_optimization=4) # Вычисление а и пересчет констант\n",
    "b = time.time()\n",
    "print(b-a)"
   ]
  },
  {
   "cell_type": "code",
   "execution_count": 73,
   "metadata": {},
   "outputs": [],
   "source": [
    "const.add_Fcolumn(df)"
   ]
  },
  {
   "cell_type": "code",
   "execution_count": 74,
   "metadata": {},
   "outputs": [
    {
     "data": {
      "text/plain": [
       "{'conturs': {'min_points': 30,\n",
       "  'contour_points': 50,\n",
       "  'min_diff': 0.0,\n",
       "  'num_of_lenghts': 4},\n",
       " 'isolated_cluster': {'constU1': 0.05,\n",
       "  'min_len': 1.01,\n",
       "  'min_dif': 0.0,\n",
       "  'divider': 2,\n",
       "  'max_div_num': 8,\n",
       "  'merge_threshold': 1.75},\n",
       " 'subcluster': {'F_step': 0.001},\n",
       " 'knots': {'min_fuses_num': 15, 'stop_const': 2.02},\n",
       " 'consts': {'percent_for_norms': 40,\n",
       "  'percent_of_zeros': 0.005,\n",
       "  'round_const': 2,\n",
       "  'const': 0.25,\n",
       "  'percent_X': 5,\n",
       "  'down_steps': 4,\n",
       "  'up_steps': 6,\n",
       "  'max_depth': 10,\n",
       "  'power_koef': 1.16,\n",
       "  'percent_Y': 33,\n",
       "  'threshold': 0.8,\n",
       "  'Y_step': 2.5,\n",
       "  'a': 2.02}}"
      ]
     },
     "execution_count": 74,
     "metadata": {},
     "output_type": "execute_result"
    }
   ],
   "source": [
    "const.config # Вывод параметров"
   ]
  },
  {
   "cell_type": "code",
   "execution_count": 41,
   "metadata": {},
   "outputs": [
    {
     "data": {
      "text/plain": [
       "{'conturs': {'min_points': 30,\n",
       "  'contour_points': 50,\n",
       "  'min_diff': 0.17,\n",
       "  'num_of_lenghts': 4},\n",
       " 'isolated_cluster': {'constU1': 0.05,\n",
       "  'min_len': 1e-10,\n",
       "  'min_dif': 1e-10,\n",
       "  'divider': 1,\n",
       "  'max_div_num': 8,\n",
       "  'merge_threshold': 1.75},\n",
       " 'subcluster': {'F_step': 0.001},\n",
       " 'knots': {'min_fuses_num': 15, 'stop_const': 0.1},\n",
       " 'consts': {'percent_for_norms': 40,\n",
       "  'percent_of_zeros': 0.005,\n",
       "  'round_const': 2,\n",
       "  'const': 0.25,\n",
       "  'percent_X': 5,\n",
       "  'down_steps': 4,\n",
       "  'up_steps': 6,\n",
       "  'max_depth': 10,\n",
       "  'power_koef': 1.16,\n",
       "  'percent_Y': 33,\n",
       "  'threshold': 0.8,\n",
       "  'Y_step': 2.5,\n",
       "  'a': 0.1}}"
      ]
     },
     "execution_count": 41,
     "metadata": {},
     "output_type": "execute_result"
    }
   ],
   "source": [
    "const.config"
   ]
  },
  {
   "cell_type": "code",
   "execution_count": 42,
   "metadata": {},
   "outputs": [
    {
     "name": "stdout",
     "output_type": "stream",
     "text": [
      "Writing settings in file example1 .yaml\n"
     ]
    }
   ],
   "source": [
    "const.save_consts('example1') #Сохранение констант в файл"
   ]
  },
  {
   "cell_type": "markdown",
   "metadata": {},
   "source": [
    "Researching dataset"
   ]
  },
  {
   "cell_type": "code",
   "execution_count": 43,
   "metadata": {},
   "outputs": [],
   "source": [
    "# fig = px.scatter_3d(df, x='X1', y='X2', z='F')\n",
    "# fig.show()"
   ]
  },
  {
   "cell_type": "markdown",
   "metadata": {},
   "source": [
    "# Fast Кластеризация"
   ]
  },
  {
   "cell_type": "code",
   "execution_count": 75,
   "metadata": {},
   "outputs": [],
   "source": [
    "fastcluster = Fast_Clusters(const.config) "
   ]
  },
  {
   "cell_type": "code",
   "execution_count": 76,
   "metadata": {},
   "outputs": [
    {
     "name": "stderr",
     "output_type": "stream",
     "text": [
      "100%|████████████████████████████████████████████████████████████████████████████████| 495/495 [00:05<00:00, 86.53it/s]\n"
     ]
    },
    {
     "data": {
      "text/html": [
       "<div>\n",
       "<style scoped>\n",
       "    .dataframe tbody tr th:only-of-type {\n",
       "        vertical-align: middle;\n",
       "    }\n",
       "\n",
       "    .dataframe tbody tr th {\n",
       "        vertical-align: top;\n",
       "    }\n",
       "\n",
       "    .dataframe thead th {\n",
       "        text-align: right;\n",
       "    }\n",
       "</style>\n",
       "<table border=\"1\" class=\"dataframe\">\n",
       "  <thead>\n",
       "    <tr style=\"text-align: right;\">\n",
       "      <th></th>\n",
       "      <th>id</th>\n",
       "      <th>X1</th>\n",
       "      <th>X2</th>\n",
       "      <th>X3</th>\n",
       "      <th>X4</th>\n",
       "      <th>X5</th>\n",
       "      <th>F</th>\n",
       "      <th>cluster_id</th>\n",
       "    </tr>\n",
       "  </thead>\n",
       "  <tbody>\n",
       "    <tr>\n",
       "      <th>0</th>\n",
       "      <td>1</td>\n",
       "      <td>434.301480</td>\n",
       "      <td>92.475753</td>\n",
       "      <td>7.835445</td>\n",
       "      <td>1.666935</td>\n",
       "      <td>5.570866</td>\n",
       "      <td>0.006144</td>\n",
       "      <td>7</td>\n",
       "    </tr>\n",
       "    <tr>\n",
       "      <th>1</th>\n",
       "      <td>2</td>\n",
       "      <td>435.430157</td>\n",
       "      <td>98.785012</td>\n",
       "      <td>26.465373</td>\n",
       "      <td>9.118901</td>\n",
       "      <td>11.937571</td>\n",
       "      <td>0.032574</td>\n",
       "      <td>1</td>\n",
       "    </tr>\n",
       "    <tr>\n",
       "      <th>2</th>\n",
       "      <td>3</td>\n",
       "      <td>433.888151</td>\n",
       "      <td>93.091659</td>\n",
       "      <td>17.948835</td>\n",
       "      <td>3.465182</td>\n",
       "      <td>9.947975</td>\n",
       "      <td>0.014485</td>\n",
       "      <td>4</td>\n",
       "    </tr>\n",
       "    <tr>\n",
       "      <th>3</th>\n",
       "      <td>4</td>\n",
       "      <td>434.749359</td>\n",
       "      <td>99.219386</td>\n",
       "      <td>21.297071</td>\n",
       "      <td>8.279962</td>\n",
       "      <td>7.503616</td>\n",
       "      <td>0.018581</td>\n",
       "      <td>2</td>\n",
       "    </tr>\n",
       "    <tr>\n",
       "      <th>4</th>\n",
       "      <td>5</td>\n",
       "      <td>434.798335</td>\n",
       "      <td>95.630316</td>\n",
       "      <td>5.151132</td>\n",
       "      <td>0.350166</td>\n",
       "      <td>10.232203</td>\n",
       "      <td>0.006561</td>\n",
       "      <td>6</td>\n",
       "    </tr>\n",
       "  </tbody>\n",
       "</table>\n",
       "</div>"
      ],
      "text/plain": [
       "   id          X1         X2         X3        X4         X5         F  \\\n",
       "0   1  434.301480  92.475753   7.835445  1.666935   5.570866  0.006144   \n",
       "1   2  435.430157  98.785012  26.465373  9.118901  11.937571  0.032574   \n",
       "2   3  433.888151  93.091659  17.948835  3.465182   9.947975  0.014485   \n",
       "3   4  434.749359  99.219386  21.297071  8.279962   7.503616  0.018581   \n",
       "4   5  434.798335  95.630316   5.151132  0.350166  10.232203  0.006561   \n",
       "\n",
       "   cluster_id  \n",
       "0           7  \n",
       "1           1  \n",
       "2           4  \n",
       "3           2  \n",
       "4           6  "
      ]
     },
     "execution_count": 76,
     "metadata": {},
     "output_type": "execute_result"
    }
   ],
   "source": [
    "df = fastcluster.get_isolated_clusters(df) # Вычисление кластеров\n",
    "df.head()"
   ]
  },
  {
   "cell_type": "code",
   "execution_count": 77,
   "metadata": {},
   "outputs": [
    {
     "data": {
      "text/plain": [
       "10"
      ]
     },
     "execution_count": 77,
     "metadata": {},
     "output_type": "execute_result"
    }
   ],
   "source": [
    "len(set(df['cluster_id']))"
   ]
  },
  {
   "cell_type": "code",
   "execution_count": 47,
   "metadata": {},
   "outputs": [
    {
     "data": {
      "image/png": "[encoded data removed]",
      "text/plain": [
       "<Figure size 432x288 with 1 Axes>"
      ]
     },
     "metadata": {
      "needs_background": "light"
     },
     "output_type": "display_data"
    }
   ],
   "source": [
    "for cluster in set(df['cluster_id']):\n",
    "    plt.scatter(df[df['cluster_id']==cluster]['X1'], df[df['cluster_id']==cluster]['X2'])"
   ]
  },
  {
   "cell_type": "markdown",
   "metadata": {},
   "source": [
    "# Кластеризация"
   ]
  },
  {
   "cell_type": "code",
   "execution_count": 53,
   "metadata": {},
   "outputs": [],
   "source": [
    "cluster = Clusters(const.config) "
   ]
  },
  {
   "cell_type": "code",
   "execution_count": 54,
   "metadata": {
    "scrolled": true
   },
   "outputs": [
    {
     "name": "stderr",
     "output_type": "stream",
     "text": [
      "100%|████████████████████████████████████████████████████████████████████████████████| 203/203 [00:24<00:00,  8.17it/s]\n"
     ]
    },
    {
     "data": {
      "text/html": [
       "<div>\n",
       "<style scoped>\n",
       "    .dataframe tbody tr th:only-of-type {\n",
       "        vertical-align: middle;\n",
       "    }\n",
       "\n",
       "    .dataframe tbody tr th {\n",
       "        vertical-align: top;\n",
       "    }\n",
       "\n",
       "    .dataframe thead th {\n",
       "        text-align: right;\n",
       "    }\n",
       "</style>\n",
       "<table border=\"1\" class=\"dataframe\">\n",
       "  <thead>\n",
       "    <tr style=\"text-align: right;\">\n",
       "      <th></th>\n",
       "      <th>id</th>\n",
       "      <th>X1</th>\n",
       "      <th>X2</th>\n",
       "      <th>F</th>\n",
       "      <th>cluster_id</th>\n",
       "    </tr>\n",
       "  </thead>\n",
       "  <tbody>\n",
       "    <tr>\n",
       "      <th>0</th>\n",
       "      <td>1</td>\n",
       "      <td>6.573505</td>\n",
       "      <td>3.637345</td>\n",
       "      <td>0.021968</td>\n",
       "      <td>0</td>\n",
       "    </tr>\n",
       "    <tr>\n",
       "      <th>1</th>\n",
       "      <td>2</td>\n",
       "      <td>6.758528</td>\n",
       "      <td>3.988122</td>\n",
       "      <td>0.025881</td>\n",
       "      <td>0</td>\n",
       "    </tr>\n",
       "    <tr>\n",
       "      <th>2</th>\n",
       "      <td>3</td>\n",
       "      <td>6.432392</td>\n",
       "      <td>4.307272</td>\n",
       "      <td>0.032710</td>\n",
       "      <td>0</td>\n",
       "    </tr>\n",
       "    <tr>\n",
       "      <th>3</th>\n",
       "      <td>4</td>\n",
       "      <td>6.546103</td>\n",
       "      <td>4.321220</td>\n",
       "      <td>0.035108</td>\n",
       "      <td>0</td>\n",
       "    </tr>\n",
       "    <tr>\n",
       "      <th>4</th>\n",
       "      <td>5</td>\n",
       "      <td>6.732023</td>\n",
       "      <td>4.655845</td>\n",
       "      <td>0.038217</td>\n",
       "      <td>0</td>\n",
       "    </tr>\n",
       "  </tbody>\n",
       "</table>\n",
       "</div>"
      ],
      "text/plain": [
       "   id        X1        X2         F  cluster_id\n",
       "0   1  6.573505  3.637345  0.021968           0\n",
       "1   2  6.758528  3.988122  0.025881           0\n",
       "2   3  6.432392  4.307272  0.032710           0\n",
       "3   4  6.546103  4.321220  0.035108           0\n",
       "4   5  6.732023  4.655845  0.038217           0"
      ]
     },
     "execution_count": 54,
     "metadata": {},
     "output_type": "execute_result"
    }
   ],
   "source": [
    "df = cluster.get_isolated_clusters(df) # Вычисление кластеров\n",
    "df.head()"
   ]
  },
  {
   "cell_type": "code",
   "execution_count": 55,
   "metadata": {},
   "outputs": [
    {
     "data": {
      "text/plain": [
       "{'conturs': {'min_points': 30,\n",
       "  'contour_points': 50,\n",
       "  'min_diff': 0.17,\n",
       "  'num_of_lenghts': 4},\n",
       " 'isolated_cluster': {'constU1': 0.05,\n",
       "  'min_len': 1e-10,\n",
       "  'min_dif': 1e-10,\n",
       "  'divider': 1,\n",
       "  'max_div_num': 8,\n",
       "  'merge_threshold': 1.75},\n",
       " 'subcluster': {'F_step': 0.001},\n",
       " 'knots': {'min_fuses_num': 15, 'stop_const': 0.1},\n",
       " 'consts': {'percent_for_norms': 40,\n",
       "  'percent_of_zeros': 0.005,\n",
       "  'round_const': 2,\n",
       "  'const': 0.25,\n",
       "  'percent_X': 5,\n",
       "  'down_steps': 4,\n",
       "  'up_steps': 6,\n",
       "  'max_depth': 10,\n",
       "  'power_koef': 1.16,\n",
       "  'percent_Y': 33,\n",
       "  'threshold': 0.8,\n",
       "  'Y_step': 2.5,\n",
       "  'a': 0.1}}"
      ]
     },
     "execution_count": 55,
     "metadata": {},
     "output_type": "execute_result"
    }
   ],
   "source": [
    "const.config"
   ]
  },
  {
   "cell_type": "code",
   "execution_count": 56,
   "metadata": {},
   "outputs": [
    {
     "data": {
      "text/plain": [
       "17"
      ]
     },
     "execution_count": 56,
     "metadata": {},
     "output_type": "execute_result"
    }
   ],
   "source": [
    "len(set(df['cluster_id']))"
   ]
  },
  {
   "cell_type": "code",
   "execution_count": 57,
   "metadata": {},
   "outputs": [
    {
     "data": {
      "image/png": "[encoded data removed]",
      "text/plain": [
       "<Figure size 432x288 with 1 Axes>"
      ]
     },
     "metadata": {
      "needs_background": "light"
     },
     "output_type": "display_data"
    }
   ],
   "source": [
    "for cluster in set(df['cluster_id']):\n",
    "    plt.scatter(df[df['cluster_id']==cluster]['X1'], df[df['cluster_id']==cluster]['X2'])\n"
   ]
  },
  {
   "cell_type": "code",
   "execution_count": 58,
   "metadata": {
    "scrolled": false
   },
   "outputs": [
    {
     "ename": "ValueError",
     "evalue": "Value of 'z' is not the name of a column in 'data_frame'. Expected one of ['id', 'X1', 'X2', 'F', 'cluster_id'] but received: X3",
     "output_type": "error",
     "traceback": [
      "\u001b[1;31m---------------------------------------------------------------------------\u001b[0m",
      "\u001b[1;31mValueError\u001b[0m                                Traceback (most recent call last)",
      "\u001b[1;32m<ipython-input-58-738de0cdb96c>\u001b[0m in \u001b[0;36m<module>\u001b[1;34m\u001b[0m\n\u001b[1;32m----> 1\u001b[1;33m fig = px.scatter_3d(df, x='X1', y='X2', z='X3',\n\u001b[0m\u001b[0;32m      2\u001b[0m               color='cluster_id')\n\u001b[0;32m      3\u001b[0m \u001b[0mfig\u001b[0m\u001b[1;33m.\u001b[0m\u001b[0mshow\u001b[0m\u001b[1;33m(\u001b[0m\u001b[1;33m)\u001b[0m\u001b[1;33m\u001b[0m\u001b[1;33m\u001b[0m\u001b[0m\n",
      "\u001b[1;32mc:\\users\\zheny\\documents\\pytorch\\lib\\site-packages\\plotly\\express\\_chart_types.py\u001b[0m in \u001b[0;36mscatter_3d\u001b[1;34m(data_frame, x, y, z, color, symbol, size, text, hover_name, hover_data, custom_data, error_x, error_x_minus, error_y, error_y_minus, error_z, error_z_minus, animation_frame, animation_group, category_orders, labels, size_max, color_discrete_sequence, color_discrete_map, color_continuous_scale, range_color, color_continuous_midpoint, symbol_sequence, symbol_map, opacity, log_x, log_y, log_z, range_x, range_y, range_z, title, template, width, height)\u001b[0m\n\u001b[0;32m    672\u001b[0m     \u001b[0msymbol\u001b[0m \u001b[0mmark\u001b[0m \u001b[1;32min\u001b[0m \u001b[1;36m3\u001b[0m\u001b[0mD\u001b[0m \u001b[0mspace\u001b[0m\u001b[1;33m.\u001b[0m\u001b[1;33m\u001b[0m\u001b[1;33m\u001b[0m\u001b[0m\n\u001b[0;32m    673\u001b[0m     \"\"\"\n\u001b[1;32m--> 674\u001b[1;33m     \u001b[1;32mreturn\u001b[0m \u001b[0mmake_figure\u001b[0m\u001b[1;33m(\u001b[0m\u001b[0margs\u001b[0m\u001b[1;33m=\u001b[0m\u001b[0mlocals\u001b[0m\u001b[1;33m(\u001b[0m\u001b[1;33m)\u001b[0m\u001b[1;33m,\u001b[0m \u001b[0mconstructor\u001b[0m\u001b[1;33m=\u001b[0m\u001b[0mgo\u001b[0m\u001b[1;33m.\u001b[0m\u001b[0mScatter3d\u001b[0m\u001b[1;33m)\u001b[0m\u001b[1;33m\u001b[0m\u001b[1;33m\u001b[0m\u001b[0m\n\u001b[0m\u001b[0;32m    675\u001b[0m \u001b[1;33m\u001b[0m\u001b[0m\n\u001b[0;32m    676\u001b[0m \u001b[1;33m\u001b[0m\u001b[0m\n",
      "\u001b[1;32mc:\\users\\zheny\\documents\\pytorch\\lib\\site-packages\\plotly\\express\\_core.py\u001b[0m in \u001b[0;36mmake_figure\u001b[1;34m(args, constructor, trace_patch, layout_patch)\u001b[0m\n\u001b[0;32m   1859\u001b[0m     \u001b[0mapply_default_cascade\u001b[0m\u001b[1;33m(\u001b[0m\u001b[0margs\u001b[0m\u001b[1;33m)\u001b[0m\u001b[1;33m\u001b[0m\u001b[1;33m\u001b[0m\u001b[0m\n\u001b[0;32m   1860\u001b[0m \u001b[1;33m\u001b[0m\u001b[0m\n\u001b[1;32m-> 1861\u001b[1;33m     \u001b[0margs\u001b[0m \u001b[1;33m=\u001b[0m \u001b[0mbuild_dataframe\u001b[0m\u001b[1;33m(\u001b[0m\u001b[0margs\u001b[0m\u001b[1;33m,\u001b[0m \u001b[0mconstructor\u001b[0m\u001b[1;33m)\u001b[0m\u001b[1;33m\u001b[0m\u001b[1;33m\u001b[0m\u001b[0m\n\u001b[0m\u001b[0;32m   1862\u001b[0m     \u001b[1;32mif\u001b[0m \u001b[0mconstructor\u001b[0m \u001b[1;32min\u001b[0m \u001b[1;33m[\u001b[0m\u001b[0mgo\u001b[0m\u001b[1;33m.\u001b[0m\u001b[0mTreemap\u001b[0m\u001b[1;33m,\u001b[0m \u001b[0mgo\u001b[0m\u001b[1;33m.\u001b[0m\u001b[0mSunburst\u001b[0m\u001b[1;33m]\u001b[0m \u001b[1;32mand\u001b[0m \u001b[0margs\u001b[0m\u001b[1;33m[\u001b[0m\u001b[1;34m\"path\"\u001b[0m\u001b[1;33m]\u001b[0m \u001b[1;32mis\u001b[0m \u001b[1;32mnot\u001b[0m \u001b[1;32mNone\u001b[0m\u001b[1;33m:\u001b[0m\u001b[1;33m\u001b[0m\u001b[1;33m\u001b[0m\u001b[0m\n\u001b[0;32m   1863\u001b[0m         \u001b[0margs\u001b[0m \u001b[1;33m=\u001b[0m \u001b[0mprocess_dataframe_hierarchy\u001b[0m\u001b[1;33m(\u001b[0m\u001b[0margs\u001b[0m\u001b[1;33m)\u001b[0m\u001b[1;33m\u001b[0m\u001b[1;33m\u001b[0m\u001b[0m\n",
      "\u001b[1;32mc:\\users\\zheny\\documents\\pytorch\\lib\\site-packages\\plotly\\express\\_core.py\u001b[0m in \u001b[0;36mbuild_dataframe\u001b[1;34m(args, constructor)\u001b[0m\n\u001b[0;32m   1375\u001b[0m     \u001b[1;31m# now that things have been prepped, we do the systematic rewriting of `args`\u001b[0m\u001b[1;33m\u001b[0m\u001b[1;33m\u001b[0m\u001b[1;33m\u001b[0m\u001b[0m\n\u001b[0;32m   1376\u001b[0m \u001b[1;33m\u001b[0m\u001b[0m\n\u001b[1;32m-> 1377\u001b[1;33m     df_output, wide_id_vars = process_args_into_dataframe(\n\u001b[0m\u001b[0;32m   1378\u001b[0m         \u001b[0margs\u001b[0m\u001b[1;33m,\u001b[0m \u001b[0mwide_mode\u001b[0m\u001b[1;33m,\u001b[0m \u001b[0mvar_name\u001b[0m\u001b[1;33m,\u001b[0m \u001b[0mvalue_name\u001b[0m\u001b[1;33m\u001b[0m\u001b[1;33m\u001b[0m\u001b[0m\n\u001b[0;32m   1379\u001b[0m     )\n",
      "\u001b[1;32mc:\\users\\zheny\\documents\\pytorch\\lib\\site-packages\\plotly\\express\\_core.py\u001b[0m in \u001b[0;36mprocess_args_into_dataframe\u001b[1;34m(args, wide_mode, var_name, value_name)\u001b[0m\n\u001b[0;32m   1181\u001b[0m                         \u001b[1;32mif\u001b[0m \u001b[0margument\u001b[0m \u001b[1;33m==\u001b[0m \u001b[1;34m\"index\"\u001b[0m\u001b[1;33m:\u001b[0m\u001b[1;33m\u001b[0m\u001b[1;33m\u001b[0m\u001b[0m\n\u001b[0;32m   1182\u001b[0m                             \u001b[0merr_msg\u001b[0m \u001b[1;33m+=\u001b[0m \u001b[1;34m\"\\n To use the index, pass it in directly as `df.index`.\"\u001b[0m\u001b[1;33m\u001b[0m\u001b[1;33m\u001b[0m\u001b[0m\n\u001b[1;32m-> 1183\u001b[1;33m                         \u001b[1;32mraise\u001b[0m \u001b[0mValueError\u001b[0m\u001b[1;33m(\u001b[0m\u001b[0merr_msg\u001b[0m\u001b[1;33m)\u001b[0m\u001b[1;33m\u001b[0m\u001b[1;33m\u001b[0m\u001b[0m\n\u001b[0m\u001b[0;32m   1184\u001b[0m                 \u001b[1;32melif\u001b[0m \u001b[0mlength\u001b[0m \u001b[1;32mand\u001b[0m \u001b[0mlen\u001b[0m\u001b[1;33m(\u001b[0m\u001b[0mdf_input\u001b[0m\u001b[1;33m[\u001b[0m\u001b[0margument\u001b[0m\u001b[1;33m]\u001b[0m\u001b[1;33m)\u001b[0m \u001b[1;33m!=\u001b[0m \u001b[0mlength\u001b[0m\u001b[1;33m:\u001b[0m\u001b[1;33m\u001b[0m\u001b[1;33m\u001b[0m\u001b[0m\n\u001b[0;32m   1185\u001b[0m                     raise ValueError(\n",
      "\u001b[1;31mValueError\u001b[0m: Value of 'z' is not the name of a column in 'data_frame'. Expected one of ['id', 'X1', 'X2', 'F', 'cluster_id'] but received: X3"
     ]
    }
   ],
   "source": [
    "fig = px.scatter_3d(df, x='X1', y='X2', z='X3',\n",
    "              color='cluster_id')\n",
    "fig.show()"
   ]
  },
  {
   "cell_type": "code",
   "execution_count": null,
   "metadata": {},
   "outputs": [],
   "source": [
    "df.head()"
   ]
  },
  {
   "cell_type": "markdown",
   "metadata": {},
   "source": [
    "# Merge I"
   ]
  },
  {
   "cell_type": "code",
   "execution_count": 78,
   "metadata": {},
   "outputs": [
    {
     "data": {
      "text/html": [
       "<div>\n",
       "<style scoped>\n",
       "    .dataframe tbody tr th:only-of-type {\n",
       "        vertical-align: middle;\n",
       "    }\n",
       "\n",
       "    .dataframe tbody tr th {\n",
       "        vertical-align: top;\n",
       "    }\n",
       "\n",
       "    .dataframe thead th {\n",
       "        text-align: right;\n",
       "    }\n",
       "</style>\n",
       "<table border=\"1\" class=\"dataframe\">\n",
       "  <thead>\n",
       "    <tr style=\"text-align: right;\">\n",
       "      <th></th>\n",
       "      <th>id</th>\n",
       "      <th>X1</th>\n",
       "      <th>X2</th>\n",
       "      <th>X3</th>\n",
       "      <th>X4</th>\n",
       "      <th>X5</th>\n",
       "      <th>F</th>\n",
       "      <th>cluster_id</th>\n",
       "    </tr>\n",
       "  </thead>\n",
       "  <tbody>\n",
       "    <tr>\n",
       "      <th>0</th>\n",
       "      <td>1</td>\n",
       "      <td>434.301480</td>\n",
       "      <td>92.475753</td>\n",
       "      <td>7.835445</td>\n",
       "      <td>1.666935</td>\n",
       "      <td>5.570866</td>\n",
       "      <td>0.006144</td>\n",
       "      <td>7</td>\n",
       "    </tr>\n",
       "    <tr>\n",
       "      <th>1</th>\n",
       "      <td>2</td>\n",
       "      <td>435.430157</td>\n",
       "      <td>98.785012</td>\n",
       "      <td>26.465373</td>\n",
       "      <td>9.118901</td>\n",
       "      <td>11.937571</td>\n",
       "      <td>0.032574</td>\n",
       "      <td>1</td>\n",
       "    </tr>\n",
       "    <tr>\n",
       "      <th>2</th>\n",
       "      <td>3</td>\n",
       "      <td>433.888151</td>\n",
       "      <td>93.091659</td>\n",
       "      <td>17.948835</td>\n",
       "      <td>3.465182</td>\n",
       "      <td>9.947975</td>\n",
       "      <td>0.014485</td>\n",
       "      <td>4</td>\n",
       "    </tr>\n",
       "    <tr>\n",
       "      <th>3</th>\n",
       "      <td>4</td>\n",
       "      <td>434.749359</td>\n",
       "      <td>99.219386</td>\n",
       "      <td>21.297071</td>\n",
       "      <td>8.279962</td>\n",
       "      <td>7.503616</td>\n",
       "      <td>0.018581</td>\n",
       "      <td>2</td>\n",
       "    </tr>\n",
       "    <tr>\n",
       "      <th>4</th>\n",
       "      <td>5</td>\n",
       "      <td>434.798335</td>\n",
       "      <td>95.630316</td>\n",
       "      <td>5.151132</td>\n",
       "      <td>0.350166</td>\n",
       "      <td>10.232203</td>\n",
       "      <td>0.006561</td>\n",
       "      <td>6</td>\n",
       "    </tr>\n",
       "    <tr>\n",
       "      <th>...</th>\n",
       "      <td>...</td>\n",
       "      <td>...</td>\n",
       "      <td>...</td>\n",
       "      <td>...</td>\n",
       "      <td>...</td>\n",
       "      <td>...</td>\n",
       "      <td>...</td>\n",
       "      <td>...</td>\n",
       "    </tr>\n",
       "    <tr>\n",
       "      <th>495</th>\n",
       "      <td>496</td>\n",
       "      <td>428.913861</td>\n",
       "      <td>101.533878</td>\n",
       "      <td>31.341779</td>\n",
       "      <td>3.100426</td>\n",
       "      <td>11.937571</td>\n",
       "      <td>0.089900</td>\n",
       "      <td>0</td>\n",
       "    </tr>\n",
       "    <tr>\n",
       "      <th>496</th>\n",
       "      <td>497</td>\n",
       "      <td>428.336950</td>\n",
       "      <td>94.355073</td>\n",
       "      <td>29.670522</td>\n",
       "      <td>6.419706</td>\n",
       "      <td>8.526836</td>\n",
       "      <td>0.051677</td>\n",
       "      <td>1</td>\n",
       "    </tr>\n",
       "    <tr>\n",
       "      <th>497</th>\n",
       "      <td>498</td>\n",
       "      <td>428.775925</td>\n",
       "      <td>101.751265</td>\n",
       "      <td>31.341779</td>\n",
       "      <td>3.647560</td>\n",
       "      <td>13.813475</td>\n",
       "      <td>0.075723</td>\n",
       "      <td>0</td>\n",
       "    </tr>\n",
       "    <tr>\n",
       "      <th>498</th>\n",
       "      <td>499</td>\n",
       "      <td>427.934011</td>\n",
       "      <td>94.209663</td>\n",
       "      <td>30.500427</td>\n",
       "      <td>5.726670</td>\n",
       "      <td>6.821469</td>\n",
       "      <td>0.038093</td>\n",
       "      <td>1</td>\n",
       "    </tr>\n",
       "    <tr>\n",
       "      <th>499</th>\n",
       "      <td>500</td>\n",
       "      <td>428.775925</td>\n",
       "      <td>101.751265</td>\n",
       "      <td>31.341779</td>\n",
       "      <td>4.085268</td>\n",
       "      <td>8.515467</td>\n",
       "      <td>0.050216</td>\n",
       "      <td>0</td>\n",
       "    </tr>\n",
       "  </tbody>\n",
       "</table>\n",
       "<p>495 rows × 8 columns</p>\n",
       "</div>"
      ],
      "text/plain": [
       "      id          X1          X2         X3        X4         X5         F  \\\n",
       "0      1  434.301480   92.475753   7.835445  1.666935   5.570866  0.006144   \n",
       "1      2  435.430157   98.785012  26.465373  9.118901  11.937571  0.032574   \n",
       "2      3  433.888151   93.091659  17.948835  3.465182   9.947975  0.014485   \n",
       "3      4  434.749359   99.219386  21.297071  8.279962   7.503616  0.018581   \n",
       "4      5  434.798335   95.630316   5.151132  0.350166  10.232203  0.006561   \n",
       "..   ...         ...         ...        ...       ...        ...       ...   \n",
       "495  496  428.913861  101.533878  31.341779  3.100426  11.937571  0.089900   \n",
       "496  497  428.336950   94.355073  29.670522  6.419706   8.526836  0.051677   \n",
       "497  498  428.775925  101.751265  31.341779  3.647560  13.813475  0.075723   \n",
       "498  499  427.934011   94.209663  30.500427  5.726670   6.821469  0.038093   \n",
       "499  500  428.775925  101.751265  31.341779  4.085268   8.515467  0.050216   \n",
       "\n",
       "     cluster_id  \n",
       "0             7  \n",
       "1             1  \n",
       "2             4  \n",
       "3             2  \n",
       "4             6  \n",
       "..          ...  \n",
       "495           0  \n",
       "496           1  \n",
       "497           0  \n",
       "498           1  \n",
       "499           0  \n",
       "\n",
       "[495 rows x 8 columns]"
      ]
     },
     "execution_count": 78,
     "metadata": {},
     "output_type": "execute_result"
    }
   ],
   "source": [
    "df"
   ]
  },
  {
   "cell_type": "code",
   "execution_count": 79,
   "metadata": {},
   "outputs": [],
   "source": [
    "Merger = IMerger(const.config)\n",
    "Merger.mergeClusters(df)"
   ]
  },
  {
   "cell_type": "code",
   "execution_count": 80,
   "metadata": {},
   "outputs": [
    {
     "data": {
      "text/plain": [
       "{0, 3, 5, 6, 7, 9}"
      ]
     },
     "execution_count": 80,
     "metadata": {},
     "output_type": "execute_result"
    }
   ],
   "source": [
    "set(df['cluster_id'])"
   ]
  },
  {
   "cell_type": "code",
   "execution_count": 85,
   "metadata": {},
   "outputs": [
    {
     "data": {
      "text/plain": [
       "<matplotlib.collections.PathCollection at 0x22c5fa1e2e0>"
      ]
     },
     "execution_count": 85,
     "metadata": {},
     "output_type": "execute_result"
    },
    {
     "data": {
      "image/png": "[encoded data removed]",
      "text/plain": [
       "<Figure size 432x288 with 1 Axes>"
      ]
     },
     "metadata": {
      "needs_background": "light"
     },
     "output_type": "display_data"
    }
   ],
   "source": [
    "plt.scatter(df['X1'],df['X5'], c=df['cluster_id'])"
   ]
  },
  {
   "cell_type": "code",
   "execution_count": 52,
   "metadata": {},
   "outputs": [
    {
     "ename": "ValueError",
     "evalue": "Value of 'z' is not the name of a column in 'data_frame'. Expected one of ['id', 'X1', 'X2', 'F', 'cluster_id'] but received: X3",
     "output_type": "error",
     "traceback": [
      "\u001b[1;31m---------------------------------------------------------------------------\u001b[0m",
      "\u001b[1;31mValueError\u001b[0m                                Traceback (most recent call last)",
      "\u001b[1;32m<ipython-input-52-738de0cdb96c>\u001b[0m in \u001b[0;36m<module>\u001b[1;34m\u001b[0m\n\u001b[1;32m----> 1\u001b[1;33m fig = px.scatter_3d(df, x='X1', y='X2', z='X3',\n\u001b[0m\u001b[0;32m      2\u001b[0m               color='cluster_id')\n\u001b[0;32m      3\u001b[0m \u001b[0mfig\u001b[0m\u001b[1;33m.\u001b[0m\u001b[0mshow\u001b[0m\u001b[1;33m(\u001b[0m\u001b[1;33m)\u001b[0m\u001b[1;33m\u001b[0m\u001b[1;33m\u001b[0m\u001b[0m\n",
      "\u001b[1;32mc:\\users\\zheny\\documents\\pytorch\\lib\\site-packages\\plotly\\express\\_chart_types.py\u001b[0m in \u001b[0;36mscatter_3d\u001b[1;34m(data_frame, x, y, z, color, symbol, size, text, hover_name, hover_data, custom_data, error_x, error_x_minus, error_y, error_y_minus, error_z, error_z_minus, animation_frame, animation_group, category_orders, labels, size_max, color_discrete_sequence, color_discrete_map, color_continuous_scale, range_color, color_continuous_midpoint, symbol_sequence, symbol_map, opacity, log_x, log_y, log_z, range_x, range_y, range_z, title, template, width, height)\u001b[0m\n\u001b[0;32m    672\u001b[0m     \u001b[0msymbol\u001b[0m \u001b[0mmark\u001b[0m \u001b[1;32min\u001b[0m \u001b[1;36m3\u001b[0m\u001b[0mD\u001b[0m \u001b[0mspace\u001b[0m\u001b[1;33m.\u001b[0m\u001b[1;33m\u001b[0m\u001b[1;33m\u001b[0m\u001b[0m\n\u001b[0;32m    673\u001b[0m     \"\"\"\n\u001b[1;32m--> 674\u001b[1;33m     \u001b[1;32mreturn\u001b[0m \u001b[0mmake_figure\u001b[0m\u001b[1;33m(\u001b[0m\u001b[0margs\u001b[0m\u001b[1;33m=\u001b[0m\u001b[0mlocals\u001b[0m\u001b[1;33m(\u001b[0m\u001b[1;33m)\u001b[0m\u001b[1;33m,\u001b[0m \u001b[0mconstructor\u001b[0m\u001b[1;33m=\u001b[0m\u001b[0mgo\u001b[0m\u001b[1;33m.\u001b[0m\u001b[0mScatter3d\u001b[0m\u001b[1;33m)\u001b[0m\u001b[1;33m\u001b[0m\u001b[1;33m\u001b[0m\u001b[0m\n\u001b[0m\u001b[0;32m    675\u001b[0m \u001b[1;33m\u001b[0m\u001b[0m\n\u001b[0;32m    676\u001b[0m \u001b[1;33m\u001b[0m\u001b[0m\n",
      "\u001b[1;32mc:\\users\\zheny\\documents\\pytorch\\lib\\site-packages\\plotly\\express\\_core.py\u001b[0m in \u001b[0;36mmake_figure\u001b[1;34m(args, constructor, trace_patch, layout_patch)\u001b[0m\n\u001b[0;32m   1859\u001b[0m     \u001b[0mapply_default_cascade\u001b[0m\u001b[1;33m(\u001b[0m\u001b[0margs\u001b[0m\u001b[1;33m)\u001b[0m\u001b[1;33m\u001b[0m\u001b[1;33m\u001b[0m\u001b[0m\n\u001b[0;32m   1860\u001b[0m \u001b[1;33m\u001b[0m\u001b[0m\n\u001b[1;32m-> 1861\u001b[1;33m     \u001b[0margs\u001b[0m \u001b[1;33m=\u001b[0m \u001b[0mbuild_dataframe\u001b[0m\u001b[1;33m(\u001b[0m\u001b[0margs\u001b[0m\u001b[1;33m,\u001b[0m \u001b[0mconstructor\u001b[0m\u001b[1;33m)\u001b[0m\u001b[1;33m\u001b[0m\u001b[1;33m\u001b[0m\u001b[0m\n\u001b[0m\u001b[0;32m   1862\u001b[0m     \u001b[1;32mif\u001b[0m \u001b[0mconstructor\u001b[0m \u001b[1;32min\u001b[0m \u001b[1;33m[\u001b[0m\u001b[0mgo\u001b[0m\u001b[1;33m.\u001b[0m\u001b[0mTreemap\u001b[0m\u001b[1;33m,\u001b[0m \u001b[0mgo\u001b[0m\u001b[1;33m.\u001b[0m\u001b[0mSunburst\u001b[0m\u001b[1;33m]\u001b[0m \u001b[1;32mand\u001b[0m \u001b[0margs\u001b[0m\u001b[1;33m[\u001b[0m\u001b[1;34m\"path\"\u001b[0m\u001b[1;33m]\u001b[0m \u001b[1;32mis\u001b[0m \u001b[1;32mnot\u001b[0m \u001b[1;32mNone\u001b[0m\u001b[1;33m:\u001b[0m\u001b[1;33m\u001b[0m\u001b[1;33m\u001b[0m\u001b[0m\n\u001b[0;32m   1863\u001b[0m         \u001b[0margs\u001b[0m \u001b[1;33m=\u001b[0m \u001b[0mprocess_dataframe_hierarchy\u001b[0m\u001b[1;33m(\u001b[0m\u001b[0margs\u001b[0m\u001b[1;33m)\u001b[0m\u001b[1;33m\u001b[0m\u001b[1;33m\u001b[0m\u001b[0m\n",
      "\u001b[1;32mc:\\users\\zheny\\documents\\pytorch\\lib\\site-packages\\plotly\\express\\_core.py\u001b[0m in \u001b[0;36mbuild_dataframe\u001b[1;34m(args, constructor)\u001b[0m\n\u001b[0;32m   1375\u001b[0m     \u001b[1;31m# now that things have been prepped, we do the systematic rewriting of `args`\u001b[0m\u001b[1;33m\u001b[0m\u001b[1;33m\u001b[0m\u001b[1;33m\u001b[0m\u001b[0m\n\u001b[0;32m   1376\u001b[0m \u001b[1;33m\u001b[0m\u001b[0m\n\u001b[1;32m-> 1377\u001b[1;33m     df_output, wide_id_vars = process_args_into_dataframe(\n\u001b[0m\u001b[0;32m   1378\u001b[0m         \u001b[0margs\u001b[0m\u001b[1;33m,\u001b[0m \u001b[0mwide_mode\u001b[0m\u001b[1;33m,\u001b[0m \u001b[0mvar_name\u001b[0m\u001b[1;33m,\u001b[0m \u001b[0mvalue_name\u001b[0m\u001b[1;33m\u001b[0m\u001b[1;33m\u001b[0m\u001b[0m\n\u001b[0;32m   1379\u001b[0m     )\n",
      "\u001b[1;32mc:\\users\\zheny\\documents\\pytorch\\lib\\site-packages\\plotly\\express\\_core.py\u001b[0m in \u001b[0;36mprocess_args_into_dataframe\u001b[1;34m(args, wide_mode, var_name, value_name)\u001b[0m\n\u001b[0;32m   1181\u001b[0m                         \u001b[1;32mif\u001b[0m \u001b[0margument\u001b[0m \u001b[1;33m==\u001b[0m \u001b[1;34m\"index\"\u001b[0m\u001b[1;33m:\u001b[0m\u001b[1;33m\u001b[0m\u001b[1;33m\u001b[0m\u001b[0m\n\u001b[0;32m   1182\u001b[0m                             \u001b[0merr_msg\u001b[0m \u001b[1;33m+=\u001b[0m \u001b[1;34m\"\\n To use the index, pass it in directly as `df.index`.\"\u001b[0m\u001b[1;33m\u001b[0m\u001b[1;33m\u001b[0m\u001b[0m\n\u001b[1;32m-> 1183\u001b[1;33m                         \u001b[1;32mraise\u001b[0m \u001b[0mValueError\u001b[0m\u001b[1;33m(\u001b[0m\u001b[0merr_msg\u001b[0m\u001b[1;33m)\u001b[0m\u001b[1;33m\u001b[0m\u001b[1;33m\u001b[0m\u001b[0m\n\u001b[0m\u001b[0;32m   1184\u001b[0m                 \u001b[1;32melif\u001b[0m \u001b[0mlength\u001b[0m \u001b[1;32mand\u001b[0m \u001b[0mlen\u001b[0m\u001b[1;33m(\u001b[0m\u001b[0mdf_input\u001b[0m\u001b[1;33m[\u001b[0m\u001b[0margument\u001b[0m\u001b[1;33m]\u001b[0m\u001b[1;33m)\u001b[0m \u001b[1;33m!=\u001b[0m \u001b[0mlength\u001b[0m\u001b[1;33m:\u001b[0m\u001b[1;33m\u001b[0m\u001b[1;33m\u001b[0m\u001b[0m\n\u001b[0;32m   1185\u001b[0m                     raise ValueError(\n",
      "\u001b[1;31mValueError\u001b[0m: Value of 'z' is not the name of a column in 'data_frame'. Expected one of ['id', 'X1', 'X2', 'F', 'cluster_id'] but received: X3"
     ]
    }
   ],
   "source": [
    "fig = px.scatter_3d(df, x='X1', y='X2', z='X3',\n",
    "              color='cluster_id')\n",
    "fig.show()"
   ]
  },
  {
   "cell_type": "markdown",
   "metadata": {},
   "source": [
    "# Subcluster"
   ]
  },
  {
   "cell_type": "code",
   "execution_count": 89,
   "metadata": {},
   "outputs": [],
   "source": [
    "const.config['subcluster']['F_step'] = 0.1"
   ]
  },
  {
   "cell_type": "code",
   "execution_count": 90,
   "metadata": {},
   "outputs": [],
   "source": [
    "sub = Subclusters(const.config)"
   ]
  },
  {
   "cell_type": "code",
   "execution_count": 91,
   "metadata": {},
   "outputs": [
    {
     "name": "stderr",
     "output_type": "stream",
     "text": [
      "  1%|█                                                                                 | 6/486 [00:00<00:10, 45.22it/s]"
     ]
    },
    {
     "name": "stdout",
     "output_type": "stream",
     "text": [
      "Calculate for  6 clusters\n"
     ]
    },
    {
     "name": "stderr",
     "output_type": "stream",
     "text": [
      "100%|████████████████████████████████████████████████████████████████████████████████| 486/486 [00:08<00:00, 56.91it/s]\n",
      "100%|██████████████████████████████████████████████████████████████████████████████████| 3/3 [00:00<00:00, 1491.04it/s]\n",
      "100%|██████████████████████████████████████████████████████████████████████████████████| 3/3 [00:00<00:00, 3008.83it/s]\n"
     ]
    }
   ],
   "source": [
    "df = sub.subclustering(df, type_of_closed=2)"
   ]
  },
  {
   "cell_type": "code",
   "execution_count": null,
   "metadata": {},
   "outputs": [],
   "source": [
    "fig = px.scatter(df, x=\"X1\", y=\"X2\", color=\"subcluster_id\", hover_data=['id', 'F'], )\n",
    "fig.show()"
   ]
  },
  {
   "cell_type": "code",
   "execution_count": null,
   "metadata": {},
   "outputs": [],
   "source": [
    "fig = px.scatter_3d(df, x='X1', y='X2', z='X3',\n",
    "              color='subcluster_id')\n",
    "fig.show()"
   ]
  },
  {
   "cell_type": "markdown",
   "metadata": {},
   "source": [
    "# Last Stage"
   ]
  },
  {
   "cell_type": "code",
   "execution_count": 93,
   "metadata": {},
   "outputs": [
    {
     "data": {
      "text/html": [
       "<div>\n",
       "<style scoped>\n",
       "    .dataframe tbody tr th:only-of-type {\n",
       "        vertical-align: middle;\n",
       "    }\n",
       "\n",
       "    .dataframe tbody tr th {\n",
       "        vertical-align: top;\n",
       "    }\n",
       "\n",
       "    .dataframe thead th {\n",
       "        text-align: right;\n",
       "    }\n",
       "</style>\n",
       "<table border=\"1\" class=\"dataframe\">\n",
       "  <thead>\n",
       "    <tr style=\"text-align: right;\">\n",
       "      <th></th>\n",
       "      <th>id</th>\n",
       "      <th>X1</th>\n",
       "      <th>X2</th>\n",
       "      <th>X3</th>\n",
       "      <th>X4</th>\n",
       "      <th>X5</th>\n",
       "      <th>F</th>\n",
       "      <th>cluster_id</th>\n",
       "      <th>subcluster_id</th>\n",
       "    </tr>\n",
       "  </thead>\n",
       "  <tbody>\n",
       "    <tr>\n",
       "      <th>0</th>\n",
       "      <td>1</td>\n",
       "      <td>434.30148</td>\n",
       "      <td>92.475753</td>\n",
       "      <td>7.835445</td>\n",
       "      <td>1.666935</td>\n",
       "      <td>5.570866</td>\n",
       "      <td>0.006144</td>\n",
       "      <td>7</td>\n",
       "      <td>None</td>\n",
       "    </tr>\n",
       "  </tbody>\n",
       "</table>\n",
       "</div>"
      ],
      "text/plain": [
       "   id         X1         X2        X3        X4        X5         F  \\\n",
       "0   1  434.30148  92.475753  7.835445  1.666935  5.570866  0.006144   \n",
       "\n",
       "   cluster_id subcluster_id  \n",
       "0           7          None  "
      ]
     },
     "execution_count": 93,
     "metadata": {},
     "output_type": "execute_result"
    }
   ],
   "source": [
    "df[df['cluster_id']==7]"
   ]
  },
  {
   "cell_type": "code",
   "execution_count": 92,
   "metadata": {},
   "outputs": [
    {
     "data": {
      "text/html": [
       "<div>\n",
       "<style scoped>\n",
       "    .dataframe tbody tr th:only-of-type {\n",
       "        vertical-align: middle;\n",
       "    }\n",
       "\n",
       "    .dataframe tbody tr th {\n",
       "        vertical-align: top;\n",
       "    }\n",
       "\n",
       "    .dataframe thead th {\n",
       "        text-align: right;\n",
       "    }\n",
       "</style>\n",
       "<table border=\"1\" class=\"dataframe\">\n",
       "  <thead>\n",
       "    <tr style=\"text-align: right;\">\n",
       "      <th></th>\n",
       "      <th>id</th>\n",
       "      <th>X1</th>\n",
       "      <th>X2</th>\n",
       "      <th>X3</th>\n",
       "      <th>X4</th>\n",
       "      <th>X5</th>\n",
       "      <th>F</th>\n",
       "      <th>cluster_id</th>\n",
       "      <th>subcluster_id</th>\n",
       "    </tr>\n",
       "  </thead>\n",
       "  <tbody>\n",
       "    <tr>\n",
       "      <th>0</th>\n",
       "      <td>1</td>\n",
       "      <td>434.301480</td>\n",
       "      <td>92.475753</td>\n",
       "      <td>7.835445</td>\n",
       "      <td>1.666935</td>\n",
       "      <td>5.570866</td>\n",
       "      <td>0.006144</td>\n",
       "      <td>7</td>\n",
       "      <td>None</td>\n",
       "    </tr>\n",
       "    <tr>\n",
       "      <th>1</th>\n",
       "      <td>2</td>\n",
       "      <td>435.430157</td>\n",
       "      <td>98.785012</td>\n",
       "      <td>26.465373</td>\n",
       "      <td>9.118901</td>\n",
       "      <td>11.937571</td>\n",
       "      <td>0.032574</td>\n",
       "      <td>0</td>\n",
       "      <td>3</td>\n",
       "    </tr>\n",
       "    <tr>\n",
       "      <th>2</th>\n",
       "      <td>3</td>\n",
       "      <td>433.888151</td>\n",
       "      <td>93.091659</td>\n",
       "      <td>17.948835</td>\n",
       "      <td>3.465182</td>\n",
       "      <td>9.947975</td>\n",
       "      <td>0.014485</td>\n",
       "      <td>0</td>\n",
       "      <td>0</td>\n",
       "    </tr>\n",
       "    <tr>\n",
       "      <th>3</th>\n",
       "      <td>4</td>\n",
       "      <td>434.749359</td>\n",
       "      <td>99.219386</td>\n",
       "      <td>21.297071</td>\n",
       "      <td>8.279962</td>\n",
       "      <td>7.503616</td>\n",
       "      <td>0.018581</td>\n",
       "      <td>0</td>\n",
       "      <td>2</td>\n",
       "    </tr>\n",
       "    <tr>\n",
       "      <th>4</th>\n",
       "      <td>5</td>\n",
       "      <td>434.798335</td>\n",
       "      <td>95.630316</td>\n",
       "      <td>5.151132</td>\n",
       "      <td>0.350166</td>\n",
       "      <td>10.232203</td>\n",
       "      <td>0.006561</td>\n",
       "      <td>6</td>\n",
       "      <td>6</td>\n",
       "    </tr>\n",
       "  </tbody>\n",
       "</table>\n",
       "</div>"
      ],
      "text/plain": [
       "   id          X1         X2         X3        X4         X5         F  \\\n",
       "0   1  434.301480  92.475753   7.835445  1.666935   5.570866  0.006144   \n",
       "1   2  435.430157  98.785012  26.465373  9.118901  11.937571  0.032574   \n",
       "2   3  433.888151  93.091659  17.948835  3.465182   9.947975  0.014485   \n",
       "3   4  434.749359  99.219386  21.297071  8.279962   7.503616  0.018581   \n",
       "4   5  434.798335  95.630316   5.151132  0.350166  10.232203  0.006561   \n",
       "\n",
       "   cluster_id subcluster_id  \n",
       "0           7          None  \n",
       "1           0             3  \n",
       "2           0             0  \n",
       "3           0             2  \n",
       "4           6             6  "
      ]
     },
     "execution_count": 92,
     "metadata": {},
     "output_type": "execute_result"
    }
   ],
   "source": [
    "df.head()"
   ]
  },
  {
   "cell_type": "code",
   "execution_count": 101,
   "metadata": {},
   "outputs": [],
   "source": [
    "class Classsifier():\n",
    "    def __init__(self, mean, config):\n",
    "        self.mean = mean\n",
    "        self.config = config\n",
    "        self.ignorename = ['cluster_id', 'subcluster_id']\n",
    "        \n",
    "    def __norm(self, df, mean):\n",
    "        for name in self.mean:\n",
    "            if name in df.columns:\n",
    "                df[name] /= mean[name]\n",
    "        return df\n",
    "    \n",
    "    def predict(self, df_train, df_predict, a=None):\n",
    "        names_ouput = list(df_train)[1:]#Выделяем все имена из обучающих данных  \n",
    "        names_input = list(df_predict)[1:]#Выделяем все имена из данных для предсказания\n",
    "        needed_mean = {}\n",
    "        needed_names = ['id']\n",
    "        for name in names_input:\n",
    "            if name in names_ouput:\n",
    "                needed_names.append(name)\n",
    "                needed_mean[name] = self.mean[name]\n",
    "        if len(needed_names)==1:\n",
    "            print('Нет общих координат') #Если нет общих координат, то прерываем программу\n",
    "            return None\n",
    "        \n",
    "        df_train = df_train[needed_names+self.ignorename] # Выделяем необходимые имена\n",
    "        df_predict = df_predict[needed_names] # Выделяем необходимые имена\n",
    "        df_predict = self.__norm(df_predict, self.mean) #Нормируем данные\n",
    "        \n",
    "        inputs = df_predict.iloc[:].values\n",
    "        #Работа с ребрами\n",
    "        for cluster in sorted(df_train['cluster_id'].unique()): #проходим все кластеры\n",
    "            time_df = df_train[lambda x: x['cluster_id']==cluster] #Выделяем все строки относящиеся к этому кластеру\n",
    "            for subcluster in sorted(time_df['subcluster_id'].unique()): #проходим все подкластеры\n",
    "                name = 'F_'+str(cluster) +'_' + str(subcluster) # Формируем имя столбца\n",
    "                time_dfs = time_df[lambda x: x['subcluster_id']==subcluster] #Выделяем все строки относящиеся к этому подкластеру\n",
    "                F = []\n",
    "                for line in inputs:\n",
    "                    F.append(get_F_example(time_dfs[needed_names].iloc[:].values, self.config['consts']['a'], line)) #Вычисляем F для каждой строки данных для предсказания\n",
    "                df_predict[name] = F\n",
    "        return df_predict"
   ]
  },
  {
   "cell_type": "code",
   "execution_count": 102,
   "metadata": {},
   "outputs": [],
   "source": [
    "clas = Classsifier(const.get_norms(), const.config)"
   ]
  },
  {
   "cell_type": "code",
   "execution_count": 107,
   "metadata": {},
   "outputs": [],
   "source": [
    "# del df_test['X5']\n",
    "df_test['X6'] = 0"
   ]
  },
  {
   "cell_type": "code",
   "execution_count": 111,
   "metadata": {},
   "outputs": [
    {
     "data": {
      "text/html": [
       "<div>\n",
       "<style scoped>\n",
       "    .dataframe tbody tr th:only-of-type {\n",
       "        vertical-align: middle;\n",
       "    }\n",
       "\n",
       "    .dataframe tbody tr th {\n",
       "        vertical-align: top;\n",
       "    }\n",
       "\n",
       "    .dataframe thead th {\n",
       "        text-align: right;\n",
       "    }\n",
       "</style>\n",
       "<table border=\"1\" class=\"dataframe\">\n",
       "  <thead>\n",
       "    <tr style=\"text-align: right;\">\n",
       "      <th></th>\n",
       "      <th>id</th>\n",
       "      <th>X1</th>\n",
       "      <th>X2</th>\n",
       "      <th>X3</th>\n",
       "      <th>X4</th>\n",
       "      <th>X6</th>\n",
       "    </tr>\n",
       "  </thead>\n",
       "  <tbody>\n",
       "    <tr>\n",
       "      <th>459</th>\n",
       "      <td>460</td>\n",
       "      <td>52.533308</td>\n",
       "      <td>45.576183</td>\n",
       "      <td>1971.36</td>\n",
       "      <td>203.0</td>\n",
       "      <td>0</td>\n",
       "    </tr>\n",
       "    <tr>\n",
       "      <th>154</th>\n",
       "      <td>155</td>\n",
       "      <td>53.525247</td>\n",
       "      <td>43.229803</td>\n",
       "      <td>1918.44</td>\n",
       "      <td>240.0</td>\n",
       "      <td>0</td>\n",
       "    </tr>\n",
       "    <tr>\n",
       "      <th>92</th>\n",
       "      <td>93</td>\n",
       "      <td>53.655954</td>\n",
       "      <td>43.946954</td>\n",
       "      <td>324.00</td>\n",
       "      <td>5.6</td>\n",
       "      <td>0</td>\n",
       "    </tr>\n",
       "    <tr>\n",
       "      <th>285</th>\n",
       "      <td>286</td>\n",
       "      <td>52.829702</td>\n",
       "      <td>46.560610</td>\n",
       "      <td>1814.76</td>\n",
       "      <td>160.0</td>\n",
       "      <td>0</td>\n",
       "    </tr>\n",
       "    <tr>\n",
       "      <th>428</th>\n",
       "      <td>429</td>\n",
       "      <td>53.157545</td>\n",
       "      <td>43.511791</td>\n",
       "      <td>1814.76</td>\n",
       "      <td>270.0</td>\n",
       "      <td>0</td>\n",
       "    </tr>\n",
       "  </tbody>\n",
       "</table>\n",
       "</div>"
      ],
      "text/plain": [
       "      id         X1         X2       X3     X4  X6\n",
       "459  460  52.533308  45.576183  1971.36  203.0   0\n",
       "154  155  53.525247  43.229803  1918.44  240.0   0\n",
       "92    93  53.655954  43.946954   324.00    5.6   0\n",
       "285  286  52.829702  46.560610  1814.76  160.0   0\n",
       "428  429  53.157545  43.511791  1814.76  270.0   0"
      ]
     },
     "execution_count": 111,
     "metadata": {},
     "output_type": "execute_result"
    }
   ],
   "source": [
    "df_test.head()"
   ]
  },
  {
   "cell_type": "code",
   "execution_count": 112,
   "metadata": {
    "scrolled": true
   },
   "outputs": [
    {
     "name": "stderr",
     "output_type": "stream",
     "text": [
      "<ipython-input-101-f326312d5678>:10: SettingWithCopyWarning: \n",
      "A value is trying to be set on a copy of a slice from a DataFrame.\n",
      "Try using .loc[row_indexer,col_indexer] = value instead\n",
      "\n",
      "See the caveats in the documentation: https://pandas.pydata.org/pandas-docs/stable/user_guide/indexing.html#returning-a-view-versus-a-copy\n",
      "  df[name] /= mean[name]\n",
      "C:\\Users\\zheny\\Documents\\clusters\\utils.py:14: RuntimeWarning: invalid value encountered in double_scalars\n",
      "  return np.sum([a/(np.linalg.norm(point[1:] - target[1:])**2 + a) for point in data])/len(data)\n",
      "C:\\Users\\zheny\\Documents\\clusters\\utils.py:14: RuntimeWarning: invalid value encountered in double_scalars\n",
      "  return np.sum([a/(np.linalg.norm(point[1:] - target[1:])**2 + a) for point in data])/len(data)\n",
      "C:\\Users\\zheny\\Documents\\clusters\\utils.py:14: RuntimeWarning: invalid value encountered in double_scalars\n",
      "  return np.sum([a/(np.linalg.norm(point[1:] - target[1:])**2 + a) for point in data])/len(data)\n"
     ]
    }
   ],
   "source": [
    "df_predict = clas.predict(df, df_test)"
   ]
  },
  {
   "cell_type": "code",
   "execution_count": 113,
   "metadata": {},
   "outputs": [
    {
     "data": {
      "text/html": [
       "<div>\n",
       "<style scoped>\n",
       "    .dataframe tbody tr th:only-of-type {\n",
       "        vertical-align: middle;\n",
       "    }\n",
       "\n",
       "    .dataframe tbody tr th {\n",
       "        vertical-align: top;\n",
       "    }\n",
       "\n",
       "    .dataframe thead th {\n",
       "        text-align: right;\n",
       "    }\n",
       "</style>\n",
       "<table border=\"1\" class=\"dataframe\">\n",
       "  <thead>\n",
       "    <tr style=\"text-align: right;\">\n",
       "      <th></th>\n",
       "      <th>id</th>\n",
       "      <th>X1</th>\n",
       "      <th>X2</th>\n",
       "      <th>X3</th>\n",
       "      <th>X4</th>\n",
       "      <th>X5</th>\n",
       "      <th>F</th>\n",
       "      <th>cluster_id</th>\n",
       "      <th>subcluster_id</th>\n",
       "    </tr>\n",
       "  </thead>\n",
       "  <tbody>\n",
       "    <tr>\n",
       "      <th>0</th>\n",
       "      <td>1</td>\n",
       "      <td>434.301480</td>\n",
       "      <td>92.475753</td>\n",
       "      <td>7.835445</td>\n",
       "      <td>1.666935</td>\n",
       "      <td>5.570866</td>\n",
       "      <td>0.006144</td>\n",
       "      <td>7</td>\n",
       "      <td>None</td>\n",
       "    </tr>\n",
       "    <tr>\n",
       "      <th>1</th>\n",
       "      <td>2</td>\n",
       "      <td>435.430157</td>\n",
       "      <td>98.785012</td>\n",
       "      <td>26.465373</td>\n",
       "      <td>9.118901</td>\n",
       "      <td>11.937571</td>\n",
       "      <td>0.032574</td>\n",
       "      <td>0</td>\n",
       "      <td>3</td>\n",
       "    </tr>\n",
       "    <tr>\n",
       "      <th>2</th>\n",
       "      <td>3</td>\n",
       "      <td>433.888151</td>\n",
       "      <td>93.091659</td>\n",
       "      <td>17.948835</td>\n",
       "      <td>3.465182</td>\n",
       "      <td>9.947975</td>\n",
       "      <td>0.014485</td>\n",
       "      <td>0</td>\n",
       "      <td>0</td>\n",
       "    </tr>\n",
       "    <tr>\n",
       "      <th>3</th>\n",
       "      <td>4</td>\n",
       "      <td>434.749359</td>\n",
       "      <td>99.219386</td>\n",
       "      <td>21.297071</td>\n",
       "      <td>8.279962</td>\n",
       "      <td>7.503616</td>\n",
       "      <td>0.018581</td>\n",
       "      <td>0</td>\n",
       "      <td>2</td>\n",
       "    </tr>\n",
       "    <tr>\n",
       "      <th>4</th>\n",
       "      <td>5</td>\n",
       "      <td>434.798335</td>\n",
       "      <td>95.630316</td>\n",
       "      <td>5.151132</td>\n",
       "      <td>0.350166</td>\n",
       "      <td>10.232203</td>\n",
       "      <td>0.006561</td>\n",
       "      <td>6</td>\n",
       "      <td>6</td>\n",
       "    </tr>\n",
       "  </tbody>\n",
       "</table>\n",
       "</div>"
      ],
      "text/plain": [
       "   id          X1         X2         X3        X4         X5         F  \\\n",
       "0   1  434.301480  92.475753   7.835445  1.666935   5.570866  0.006144   \n",
       "1   2  435.430157  98.785012  26.465373  9.118901  11.937571  0.032574   \n",
       "2   3  433.888151  93.091659  17.948835  3.465182   9.947975  0.014485   \n",
       "3   4  434.749359  99.219386  21.297071  8.279962   7.503616  0.018581   \n",
       "4   5  434.798335  95.630316   5.151132  0.350166  10.232203  0.006561   \n",
       "\n",
       "   cluster_id subcluster_id  \n",
       "0           7          None  \n",
       "1           0             3  \n",
       "2           0             0  \n",
       "3           0             2  \n",
       "4           6             6  "
      ]
     },
     "execution_count": 113,
     "metadata": {},
     "output_type": "execute_result"
    }
   ],
   "source": [
    "df.head()"
   ]
  },
  {
   "cell_type": "code",
   "execution_count": 114,
   "metadata": {},
   "outputs": [
    {
     "data": {
      "text/html": [
       "<div>\n",
       "<style scoped>\n",
       "    .dataframe tbody tr th:only-of-type {\n",
       "        vertical-align: middle;\n",
       "    }\n",
       "\n",
       "    .dataframe tbody tr th {\n",
       "        vertical-align: top;\n",
       "    }\n",
       "\n",
       "    .dataframe thead th {\n",
       "        text-align: right;\n",
       "    }\n",
       "</style>\n",
       "<table border=\"1\" class=\"dataframe\">\n",
       "  <thead>\n",
       "    <tr style=\"text-align: right;\">\n",
       "      <th></th>\n",
       "      <th>id</th>\n",
       "      <th>X1</th>\n",
       "      <th>X2</th>\n",
       "      <th>X3</th>\n",
       "      <th>X4</th>\n",
       "      <th>F_0_0</th>\n",
       "      <th>F_0_1</th>\n",
       "      <th>F_0_2</th>\n",
       "      <th>F_0_3</th>\n",
       "      <th>F_0_4</th>\n",
       "      <th>F_3_5</th>\n",
       "      <th>F_5_None</th>\n",
       "      <th>F_6_6</th>\n",
       "      <th>F_7_None</th>\n",
       "      <th>F_9_None</th>\n",
       "    </tr>\n",
       "  </thead>\n",
       "  <tbody>\n",
       "    <tr>\n",
       "      <th>459</th>\n",
       "      <td>460</td>\n",
       "      <td>425.437219</td>\n",
       "      <td>99.137710</td>\n",
       "      <td>31.341779</td>\n",
       "      <td>7.404548</td>\n",
       "      <td>0.006626</td>\n",
       "      <td>0.006926</td>\n",
       "      <td>0.010609</td>\n",
       "      <td>0.025788</td>\n",
       "      <td>0.089522</td>\n",
       "      <td>0.005834</td>\n",
       "      <td>NaN</td>\n",
       "      <td>0.002276</td>\n",
       "      <td>NaN</td>\n",
       "      <td>NaN</td>\n",
       "    </tr>\n",
       "    <tr>\n",
       "      <th>154</th>\n",
       "      <td>155</td>\n",
       "      <td>433.470370</td>\n",
       "      <td>94.033843</td>\n",
       "      <td>30.500427</td>\n",
       "      <td>8.754145</td>\n",
       "      <td>0.010711</td>\n",
       "      <td>0.010115</td>\n",
       "      <td>0.017493</td>\n",
       "      <td>0.120530</td>\n",
       "      <td>0.022136</td>\n",
       "      <td>0.008584</td>\n",
       "      <td>NaN</td>\n",
       "      <td>0.002629</td>\n",
       "      <td>NaN</td>\n",
       "      <td>NaN</td>\n",
       "    </tr>\n",
       "    <tr>\n",
       "      <th>92</th>\n",
       "      <td>93</td>\n",
       "      <td>434.528886</td>\n",
       "      <td>95.593796</td>\n",
       "      <td>5.151132</td>\n",
       "      <td>0.204263</td>\n",
       "      <td>0.011032</td>\n",
       "      <td>0.012182</td>\n",
       "      <td>0.005922</td>\n",
       "      <td>0.003408</td>\n",
       "      <td>0.002824</td>\n",
       "      <td>0.016679</td>\n",
       "      <td>NaN</td>\n",
       "      <td>0.680260</td>\n",
       "      <td>NaN</td>\n",
       "      <td>NaN</td>\n",
       "    </tr>\n",
       "    <tr>\n",
       "      <th>285</th>\n",
       "      <td>286</td>\n",
       "      <td>427.837543</td>\n",
       "      <td>101.279044</td>\n",
       "      <td>28.852065</td>\n",
       "      <td>5.836097</td>\n",
       "      <td>0.008776</td>\n",
       "      <td>0.009789</td>\n",
       "      <td>0.017252</td>\n",
       "      <td>0.030160</td>\n",
       "      <td>0.178948</td>\n",
       "      <td>0.007895</td>\n",
       "      <td>NaN</td>\n",
       "      <td>0.002793</td>\n",
       "      <td>NaN</td>\n",
       "      <td>NaN</td>\n",
       "    </tr>\n",
       "    <tr>\n",
       "      <th>428</th>\n",
       "      <td>429</td>\n",
       "      <td>430.492562</td>\n",
       "      <td>94.647227</td>\n",
       "      <td>28.852065</td>\n",
       "      <td>9.848413</td>\n",
       "      <td>0.011504</td>\n",
       "      <td>0.011267</td>\n",
       "      <td>0.020083</td>\n",
       "      <td>0.086586</td>\n",
       "      <td>0.028546</td>\n",
       "      <td>0.009534</td>\n",
       "      <td>NaN</td>\n",
       "      <td>0.002822</td>\n",
       "      <td>NaN</td>\n",
       "      <td>NaN</td>\n",
       "    </tr>\n",
       "  </tbody>\n",
       "</table>\n",
       "</div>"
      ],
      "text/plain": [
       "      id          X1          X2         X3        X4     F_0_0     F_0_1  \\\n",
       "459  460  425.437219   99.137710  31.341779  7.404548  0.006626  0.006926   \n",
       "154  155  433.470370   94.033843  30.500427  8.754145  0.010711  0.010115   \n",
       "92    93  434.528886   95.593796   5.151132  0.204263  0.011032  0.012182   \n",
       "285  286  427.837543  101.279044  28.852065  5.836097  0.008776  0.009789   \n",
       "428  429  430.492562   94.647227  28.852065  9.848413  0.011504  0.011267   \n",
       "\n",
       "        F_0_2     F_0_3     F_0_4     F_3_5  F_5_None     F_6_6  F_7_None  \\\n",
       "459  0.010609  0.025788  0.089522  0.005834       NaN  0.002276       NaN   \n",
       "154  0.017493  0.120530  0.022136  0.008584       NaN  0.002629       NaN   \n",
       "92   0.005922  0.003408  0.002824  0.016679       NaN  0.680260       NaN   \n",
       "285  0.017252  0.030160  0.178948  0.007895       NaN  0.002793       NaN   \n",
       "428  0.020083  0.086586  0.028546  0.009534       NaN  0.002822       NaN   \n",
       "\n",
       "     F_9_None  \n",
       "459       NaN  \n",
       "154       NaN  \n",
       "92        NaN  \n",
       "285       NaN  \n",
       "428       NaN  "
      ]
     },
     "execution_count": 114,
     "metadata": {},
     "output_type": "execute_result"
    }
   ],
   "source": [
    "df_predict"
   ]
  },
  {
   "cell_type": "code",
   "execution_count": null,
   "metadata": {},
   "outputs": [],
   "source": [
    "ignorename = ['F_0_0','F_0_1','F_0_2','F_0_3','F_0_4','F_0_5','F_0_6']\n",
    "df_predict['cluster_id'] = df_predict[ignorename].idxmax(axis=1)\n",
    "df_predict.head()"
   ]
  },
  {
   "cell_type": "code",
   "execution_count": 115,
   "metadata": {},
   "outputs": [
    {
     "name": "stderr",
     "output_type": "stream",
     "text": [
      "C:\\Users\\zheny\\Documents\\clusters\\const.py:15: YAMLLoadWarning: calling yaml.load() without Loader=... is deprecated, as the default Loader is unsafe. Please read https://msg.pyyaml.org/load for full details.\n",
      "  self.config = yaml.load(open(\"settings.yaml\", 'r'))\n"
     ]
    }
   ],
   "source": [
    "const = Const()"
   ]
  },
  {
   "cell_type": "code",
   "execution_count": 117,
   "metadata": {},
   "outputs": [
    {
     "ename": "ZeroDivisionError",
     "evalue": "division by zero",
     "output_type": "error",
     "traceback": [
      "\u001b[1;31m---------------------------------------------------------------------------\u001b[0m",
      "\u001b[1;31mZeroDivisionError\u001b[0m                         Traceback (most recent call last)",
      "\u001b[1;32m<ipython-input-117-9aab4b914e30>\u001b[0m in \u001b[0;36m<module>\u001b[1;34m\u001b[0m\n\u001b[0;32m      1\u001b[0m \u001b[0ma\u001b[0m \u001b[1;33m=\u001b[0m \u001b[0mtime\u001b[0m\u001b[1;33m.\u001b[0m\u001b[0mtime\u001b[0m\u001b[1;33m(\u001b[0m\u001b[1;33m)\u001b[0m\u001b[1;33m\u001b[0m\u001b[1;33m\u001b[0m\u001b[0m\n\u001b[1;32m----> 2\u001b[1;33m \u001b[0mconst\u001b[0m\u001b[1;33m.\u001b[0m\u001b[0mcalculate_a\u001b[0m\u001b[1;33m(\u001b[0m\u001b[0mdf_test\u001b[0m\u001b[1;33m,\u001b[0m \u001b[0mtype_of_optimization\u001b[0m\u001b[1;33m=\u001b[0m\u001b[1;36m4\u001b[0m\u001b[1;33m)\u001b[0m \u001b[1;31m# Вычисление а и пересчет констант\u001b[0m\u001b[1;33m\u001b[0m\u001b[1;33m\u001b[0m\u001b[0m\n\u001b[0m\u001b[0;32m      3\u001b[0m \u001b[0mb\u001b[0m \u001b[1;33m=\u001b[0m \u001b[0mtime\u001b[0m\u001b[1;33m.\u001b[0m\u001b[0mtime\u001b[0m\u001b[1;33m(\u001b[0m\u001b[1;33m)\u001b[0m\u001b[1;33m\u001b[0m\u001b[1;33m\u001b[0m\u001b[0m\n\u001b[0;32m      4\u001b[0m \u001b[0mprint\u001b[0m\u001b[1;33m(\u001b[0m\u001b[0mb\u001b[0m\u001b[1;33m-\u001b[0m\u001b[0ma\u001b[0m\u001b[1;33m)\u001b[0m\u001b[1;33m\u001b[0m\u001b[1;33m\u001b[0m\u001b[0m\n",
      "\u001b[1;32m~\\Documents\\clusters\\const.py\u001b[0m in \u001b[0;36mcalculate_a\u001b[1;34m(self, df, type_of_optimization)\u001b[0m\n\u001b[0;32m    403\u001b[0m                         \u001b[0mmax_a\u001b[0m \u001b[1;33m=\u001b[0m \u001b[0mself\u001b[0m\u001b[1;33m.\u001b[0m\u001b[0m__calculate_const\u001b[0m\u001b[1;33m(\u001b[0m\u001b[0mX\u001b[0m\u001b[1;33m,\u001b[0m \u001b[1;36m3\u001b[0m\u001b[1;33m)\u001b[0m\u001b[1;33m\u001b[0m\u001b[1;33m\u001b[0m\u001b[0m\n\u001b[0;32m    404\u001b[0m                 \u001b[1;32melif\u001b[0m \u001b[0mtype_of_optimization\u001b[0m\u001b[1;33m==\u001b[0m\u001b[1;36m4\u001b[0m\u001b[1;33m:\u001b[0m\u001b[1;33m\u001b[0m\u001b[1;33m\u001b[0m\u001b[0m\n\u001b[1;32m--> 405\u001b[1;33m                         \u001b[0mmax_a\u001b[0m \u001b[1;33m=\u001b[0m \u001b[0mself\u001b[0m\u001b[1;33m.\u001b[0m\u001b[0m__calculate_const\u001b[0m\u001b[1;33m(\u001b[0m\u001b[0mX\u001b[0m\u001b[1;33m,\u001b[0m \u001b[1;36m4\u001b[0m\u001b[1;33m)\u001b[0m\u001b[1;33m\u001b[0m\u001b[1;33m\u001b[0m\u001b[0m\n\u001b[0m\u001b[0;32m    406\u001b[0m                 \u001b[1;32melse\u001b[0m\u001b[1;33m:\u001b[0m\u001b[1;33m\u001b[0m\u001b[1;33m\u001b[0m\u001b[0m\n\u001b[0;32m    407\u001b[0m                         \u001b[0mprint\u001b[0m\u001b[1;33m(\u001b[0m\u001b[1;34m'Not implemented'\u001b[0m\u001b[1;33m)\u001b[0m\u001b[1;33m\u001b[0m\u001b[1;33m\u001b[0m\u001b[0m\n",
      "\u001b[1;32m~\\Documents\\clusters\\const.py\u001b[0m in \u001b[0;36m__calculate_const\u001b[1;34m(self, X, type)\u001b[0m\n\u001b[0;32m    360\u001b[0m                 \u001b[0mfinish\u001b[0m \u001b[1;33m=\u001b[0m \u001b[0mlenght\u001b[0m\u001b[1;33m\u001b[0m\u001b[1;33m\u001b[0m\u001b[0m\n\u001b[0;32m    361\u001b[0m                 \u001b[0mtime_d\u001b[0m \u001b[1;33m=\u001b[0m \u001b[0mdistance_matrix\u001b[0m\u001b[1;33m[\u001b[0m\u001b[0mstart\u001b[0m\u001b[1;33m:\u001b[0m\u001b[0mfinish\u001b[0m\u001b[1;33m]\u001b[0m\u001b[1;33m\u001b[0m\u001b[1;33m\u001b[0m\u001b[0m\n\u001b[1;32m--> 362\u001b[1;33m                 \u001b[0mprint\u001b[0m\u001b[1;33m(\u001b[0m\u001b[1;34m'Persent of zeros start:'\u001b[0m\u001b[1;33m,\u001b[0m\u001b[0mlen\u001b[0m\u001b[1;33m(\u001b[0m\u001b[0mtime_d\u001b[0m\u001b[1;33m[\u001b[0m\u001b[0mtime_d\u001b[0m\u001b[1;33m[\u001b[0m\u001b[1;33m:\u001b[0m\u001b[1;33m,\u001b[0m\u001b[1;36m2\u001b[0m\u001b[1;33m]\u001b[0m\u001b[1;33m==\u001b[0m\u001b[1;36m0\u001b[0m\u001b[1;33m]\u001b[0m\u001b[1;33m)\u001b[0m\u001b[1;33m/\u001b[0m\u001b[0mlen\u001b[0m\u001b[1;33m(\u001b[0m\u001b[0mtime_d\u001b[0m\u001b[1;33m)\u001b[0m\u001b[1;33m)\u001b[0m\u001b[1;33m\u001b[0m\u001b[1;33m\u001b[0m\u001b[0m\n\u001b[0m\u001b[0;32m    363\u001b[0m                 \u001b[1;32mwhile\u001b[0m \u001b[0mfinish\u001b[0m\u001b[1;33m<=\u001b[0m\u001b[0mlen\u001b[0m\u001b[1;33m(\u001b[0m\u001b[0mdistance_matrix\u001b[0m\u001b[1;33m)\u001b[0m\u001b[1;33m-\u001b[0m\u001b[1;36m1\u001b[0m \u001b[1;32mand\u001b[0m \u001b[0mlen\u001b[0m\u001b[1;33m(\u001b[0m\u001b[0mtime_d\u001b[0m\u001b[1;33m[\u001b[0m\u001b[0mtime_d\u001b[0m\u001b[1;33m[\u001b[0m\u001b[1;33m:\u001b[0m\u001b[1;33m,\u001b[0m\u001b[1;36m2\u001b[0m\u001b[1;33m]\u001b[0m\u001b[1;33m==\u001b[0m\u001b[1;36m0\u001b[0m\u001b[1;33m]\u001b[0m\u001b[1;33m)\u001b[0m\u001b[1;33m/\u001b[0m\u001b[0mlen\u001b[0m\u001b[1;33m(\u001b[0m\u001b[0mtime_d\u001b[0m\u001b[1;33m)\u001b[0m \u001b[1;33m>\u001b[0m \u001b[0mself\u001b[0m\u001b[1;33m.\u001b[0m\u001b[0mconfig\u001b[0m\u001b[1;33m[\u001b[0m\u001b[1;34m'consts'\u001b[0m\u001b[1;33m]\u001b[0m\u001b[1;33m[\u001b[0m\u001b[1;34m'percent_of_zeros'\u001b[0m\u001b[1;33m]\u001b[0m\u001b[1;33m:\u001b[0m\u001b[1;33m\u001b[0m\u001b[1;33m\u001b[0m\u001b[0m\n\u001b[0;32m    364\u001b[0m                         \u001b[0mprint\u001b[0m\u001b[1;33m(\u001b[0m\u001b[1;34m'Persent of zeros new:'\u001b[0m\u001b[1;33m,\u001b[0m\u001b[0mlen\u001b[0m\u001b[1;33m(\u001b[0m\u001b[0mtime_d\u001b[0m\u001b[1;33m[\u001b[0m\u001b[0mtime_d\u001b[0m\u001b[1;33m[\u001b[0m\u001b[1;33m:\u001b[0m\u001b[1;33m,\u001b[0m\u001b[1;36m2\u001b[0m\u001b[1;33m]\u001b[0m\u001b[1;33m==\u001b[0m\u001b[1;36m0\u001b[0m\u001b[1;33m]\u001b[0m\u001b[1;33m)\u001b[0m\u001b[1;33m/\u001b[0m\u001b[0mlen\u001b[0m\u001b[1;33m(\u001b[0m\u001b[0mtime_d\u001b[0m\u001b[1;33m)\u001b[0m\u001b[1;33m)\u001b[0m\u001b[1;33m\u001b[0m\u001b[1;33m\u001b[0m\u001b[0m\n",
      "\u001b[1;31mZeroDivisionError\u001b[0m: division by zero"
     ]
    }
   ],
   "source": [
    "a = time.time()\n",
    "const.calculate_a(df_test, type_of_optimization=4) # Вычисление а и пересчет констант\n",
    "b = time.time()\n",
    "print(b-a)"
   ]
  },
  {
   "cell_type": "code",
   "execution_count": null,
   "metadata": {},
   "outputs": [],
   "source": [
    "fig = px.scatter_3d(df_predict, x='X1', y='X2', z='X3',\n",
    "              color='cluster_id')\n",
    "fig.show()"
   ]
  },
  {
   "cell_type": "code",
   "execution_count": null,
   "metadata": {},
   "outputs": [],
   "source": []
  }
 ],
 "metadata": {
  "kernelspec": {
   "display_name": "Python 3",
   "language": "python",
   "name": "python3"
  },
  "language_info": {
   "codemirror_mode": {
    "name": "ipython",
    "version": 3
   },
   "file_extension": ".py",
   "mimetype": "text/x-python",
   "name": "python",
   "nbconvert_exporter": "python",
   "pygments_lexer": "ipython3",
   "version": "3.9.2"
  }
 },
 "nbformat": 4,
 "nbformat_minor": 2
}
