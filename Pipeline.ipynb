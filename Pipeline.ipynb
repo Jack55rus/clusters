{
 "cells": [
  {
   "cell_type": "code",
   "execution_count": 1,
   "metadata": {},
   "outputs": [],
   "source": [
    "import yaml\n",
    "import random\n",
    "import numpy as np\n",
    "import time\n",
    "\n",
    "from reader import Reader\n",
    "\n",
    "from const import Const\n",
    "from utils import get_F_example\n",
    "from clustering import Clusters\n",
    "from i_merge import IMerger\n",
    "from Subclusterring import Subclusters\n",
    "\n",
    "from sklearn.datasets import make_blobs\n",
    "import matplotlib.pyplot as plt\n",
    "import plotly.express as px\n",
    "import pandas as pd"
   ]
  },
  {
   "cell_type": "markdown",
   "metadata": {},
   "source": [
    "# Если есть желание создать свои данные, то вызвать этот код"
   ]
  },
  {
   "cell_type": "code",
   "execution_count": 2,
   "metadata": {},
   "outputs": [],
   "source": [
    "# X, y = make_blobs(n_samples=200, centers=7, cluster_std=0.6, random_state=0)\n",
    "\n",
    "# ids = [i+1 for i in range(len(X))]\n",
    "# df = pd.DataFrame()\n",
    "# df['id'] = ids\n",
    "# df['X1'] = X[:,0]\n",
    "# df['X2'] = X[:,1]"
   ]
  },
  {
   "cell_type": "code",
   "execution_count": 3,
   "metadata": {},
   "outputs": [],
   "source": [
    "# ids = []\n",
    "# X1 = []\n",
    "# X2 = []\n",
    "# with open('Two.txt', 'r') as f:\n",
    "#     for k, line in enumerate(f):\n",
    "#         if k==0:\n",
    "#             continue\n",
    "#         ids.append(int(line.split()[0]))\n",
    "#         X1.append(float(line.split()[1]))\n",
    "#         X2.append(float(line.split()[2]))\n",
    "#         if k>=205:\n",
    "#             break\n",
    "# df = pd.DataFrame()\n",
    "# df['id'] = ids\n",
    "# df['X1'] = X1\n",
    "# df['X2'] = X2\n",
    "    "
   ]
  },
  {
   "cell_type": "code",
   "execution_count": 4,
   "metadata": {},
   "outputs": [],
   "source": [
    "reader = Reader()"
   ]
  },
  {
   "cell_type": "code",
   "execution_count": 5,
   "metadata": {},
   "outputs": [
    {
     "name": "stdout",
     "output_type": "stream",
     "text": [
      "Stated size of data 693\n",
      "Data contained  1 incorrect rows\n",
      "Size of data 692\n",
      "X1 contain 1122 zero distances 0.00234\n",
      "Interval: 0.03519933350192\n",
      "Interval: 0.11539371202450582\n",
      "Interval: 0.20149512078691345\n",
      "Interval: 0.2969515410767534\n",
      "Interval: 0.40178160276492036\n",
      "Interval: 0.5127979223990603\n",
      "Interval: 0.6273898157708088\n",
      "Interval: 0.7595600809004875\n",
      "Interval: 0.9493474555820113\n",
      "Interval: 1.7146341818751325\n",
      "histogram [334046 126990  12318    480    642    260    186   1758   1650    534]\n",
      "bins lenght [0.        0.6863083 1.3726166 2.0589249 2.7452332 3.4315415 4.1178498\n",
      " 4.8041581 5.4904664 6.1767747 6.863083 ]\n",
      "X2 contain 1062 zero distances 0.00222\n",
      "Interval: 0.09030509518384339\n",
      "Interval: 0.3017736365534963\n",
      "Interval: 0.5304085558200842\n",
      "Interval: 0.8011414554149474\n",
      "Interval: 1.0777258516476662\n",
      "Interval: 1.3946911772543165\n",
      "Interval: 1.7700571379944048\n",
      "Interval: 2.160520571106381\n",
      "Interval: 2.5873532292110446\n",
      "Interval: 3.4000250034662782\n",
      "histogram [136658 104100  80580  75022  48246  25196   6510   2158    310     84]\n",
      "bins lenght [0.      0.61824 1.23648 1.85472 2.47296 3.0912  3.70944 4.32768 4.94592\n",
      " 5.56416 6.1824 ]\n",
      "X3 contain 10054 zero distances 0.021\n",
      "Interval: 6.1139581506076945\n",
      "Interval: 21.29763605229086\n",
      "Interval: 35.76995363989475\n",
      "Interval: 52.31681493547175\n",
      "Interval: 70.37733366746023\n",
      "Interval: 91.27868270475713\n",
      "Interval: 117.3288518564925\n",
      "Interval: 151.12589483356302\n",
      "Interval: 200.95390301967174\n",
      "Interval: 309.54251409480065\n",
      "histogram [169004 117322  77302  47948  30212  17546   9112   6638   2818    962]\n",
      "bins lenght [  0.   51.4 102.8 154.2 205.6 257.  308.4 359.8 411.2 462.6 514. ]\n"
     ]
    }
   ],
   "source": [
    "df = reader.read('./Data/3.xlsx')"
   ]
  },
  {
   "cell_type": "code",
   "execution_count": 6,
   "metadata": {},
   "outputs": [],
   "source": [
    "df, df_test = reader.split_data(df, train_size=20)"
   ]
  },
  {
   "cell_type": "code",
   "execution_count": null,
   "metadata": {},
   "outputs": [],
   "source": [
    "df.shape"
   ]
  },
  {
   "cell_type": "code",
   "execution_count": null,
   "metadata": {
    "scrolled": true
   },
   "outputs": [],
   "source": [
    "plt.scatter(df['X1'], df['X2'])\n",
    "plt.show()"
   ]
  },
  {
   "cell_type": "markdown",
   "metadata": {},
   "source": [
    "# Подбор констант"
   ]
  },
  {
   "cell_type": "code",
   "execution_count": null,
   "metadata": {},
   "outputs": [],
   "source": [
    "const = Const()"
   ]
  },
  {
   "cell_type": "code",
   "execution_count": null,
   "metadata": {},
   "outputs": [],
   "source": [
    "const.norm(df) # Нормировка"
   ]
  },
  {
   "cell_type": "code",
   "execution_count": null,
   "metadata": {},
   "outputs": [],
   "source": [
    "const.get_norms() # Получение норм"
   ]
  },
  {
   "cell_type": "code",
   "execution_count": null,
   "metadata": {
    "scrolled": false
   },
   "outputs": [],
   "source": [
    "a = time.time()\n",
    "const.calculate_a(df, type_of_optimization=4) # Вычисление а и пересчет констант\n",
    "b = time.time()\n",
    "print(b-a)"
   ]
  },
  {
   "cell_type": "code",
   "execution_count": null,
   "metadata": {},
   "outputs": [],
   "source": [
    "const.add_Fcolumn(df)"
   ]
  },
  {
   "cell_type": "code",
   "execution_count": null,
   "metadata": {},
   "outputs": [],
   "source": [
    "const.config # Вывод параметров"
   ]
  },
  {
   "cell_type": "code",
   "execution_count": null,
   "metadata": {},
   "outputs": [],
   "source": [
    "const.save_consts('example1') #Сохранение констант в файл"
   ]
  },
  {
   "cell_type": "markdown",
   "metadata": {},
   "source": [
    "Researching dataset"
   ]
  },
  {
   "cell_type": "code",
   "execution_count": null,
   "metadata": {},
   "outputs": [],
   "source": [
    "# fig = px.scatter_3d(df, x='X1', y='X2', z='F')\n",
    "# fig.show()"
   ]
  },
  {
   "cell_type": "markdown",
   "metadata": {},
   "source": [
    "# Кластеризация"
   ]
  },
  {
   "cell_type": "code",
   "execution_count": null,
   "metadata": {},
   "outputs": [],
   "source": [
    "cluster = Clusters(const.config) "
   ]
  },
  {
   "cell_type": "code",
   "execution_count": null,
   "metadata": {
    "scrolled": true
   },
   "outputs": [],
   "source": [
    "df = cluster.get_isolated_clusters(df) # Вычисление кластеров\n",
    "df.head()"
   ]
  },
  {
   "cell_type": "code",
   "execution_count": null,
   "metadata": {},
   "outputs": [],
   "source": [
    "const.config"
   ]
  },
  {
   "cell_type": "code",
   "execution_count": null,
   "metadata": {},
   "outputs": [],
   "source": [
    "set(df['cluster_id'])"
   ]
  },
  {
   "cell_type": "code",
   "execution_count": null,
   "metadata": {},
   "outputs": [],
   "source": [
    "for cluster in set(df['cluster_id']):\n",
    "    plt.scatter(df[df['cluster_id']==cluster]['X1'], df[df['cluster_id']==cluster]['X2'])\n"
   ]
  },
  {
   "cell_type": "code",
   "execution_count": null,
   "metadata": {
    "scrolled": false
   },
   "outputs": [],
   "source": [
    "fig = px.scatter_3d(df, x='X1', y='X2', z='X3',\n",
    "              color='cluster_id')\n",
    "fig.show()"
   ]
  },
  {
   "cell_type": "code",
   "execution_count": null,
   "metadata": {},
   "outputs": [],
   "source": [
    "df.head()"
   ]
  },
  {
   "cell_type": "markdown",
   "metadata": {},
   "source": [
    "# Merge I"
   ]
  },
  {
   "cell_type": "code",
   "execution_count": null,
   "metadata": {},
   "outputs": [],
   "source": [
    "df"
   ]
  },
  {
   "cell_type": "code",
   "execution_count": null,
   "metadata": {},
   "outputs": [],
   "source": [
    "Merger = IMerger(const.config)\n",
    "Merger.mergeClusters(df)"
   ]
  },
  {
   "cell_type": "code",
   "execution_count": null,
   "metadata": {},
   "outputs": [],
   "source": [
    "plt.scatter(df['X1'],df['X2'], c=df['cluster_id'])"
   ]
  },
  {
   "cell_type": "code",
   "execution_count": null,
   "metadata": {},
   "outputs": [],
   "source": [
    "fig = px.scatter_3d(df, x='X1', y='X2', z='X3',\n",
    "              color='cluster_id')\n",
    "fig.show()"
   ]
  },
  {
   "cell_type": "markdown",
   "metadata": {},
   "source": [
    "# Subcluster"
   ]
  },
  {
   "cell_type": "code",
   "execution_count": null,
   "metadata": {},
   "outputs": [],
   "source": [
    "sub = Subclusters(const.config)"
   ]
  },
  {
   "cell_type": "code",
   "execution_count": null,
   "metadata": {},
   "outputs": [],
   "source": [
    "df = sub.subclustering(df, type_of_closed=2)"
   ]
  },
  {
   "cell_type": "code",
   "execution_count": null,
   "metadata": {},
   "outputs": [],
   "source": [
    "fig = px.scatter(df, x=\"X1\", y=\"X2\", color=\"subcluster_id\", hover_data=['id', 'F'], )\n",
    "fig.show()"
   ]
  },
  {
   "cell_type": "code",
   "execution_count": null,
   "metadata": {},
   "outputs": [],
   "source": [
    "fig = px.scatter_3d(df, x='X1', y='X2', z='X3',\n",
    "              color='subcluster_id')\n",
    "fig.show()"
   ]
  },
  {
   "cell_type": "markdown",
   "metadata": {},
   "source": [
    "# Last Stage"
   ]
  },
  {
   "cell_type": "code",
   "execution_count": null,
   "metadata": {},
   "outputs": [],
   "source": [
    "df.head()"
   ]
  },
  {
   "cell_type": "code",
   "execution_count": null,
   "metadata": {},
   "outputs": [],
   "source": [
    "class Classsifier():\n",
    "    def __init__(self, mean, config):\n",
    "        self.mean = mean\n",
    "        self.config = config\n",
    "        self.ignorename = ['cluster_id', 'subcluster_id']\n",
    "        \n",
    "    def __norm(self, df, mean):\n",
    "        for name in self.mean:\n",
    "            df[name] /= mean[name]\n",
    "        return df\n",
    "    \n",
    "    def predict(self, df_train, df_predict, a=None):\n",
    "        names_ouput = list(df_train)[1:]#Выделяем все имена из обучающих данных  \n",
    "        names_input = list(df_predict)[1:]#Выделяем все имена из данных для предсказания\n",
    "        needed_mean = {}\n",
    "        needed_names = ['id']\n",
    "        for name in names_input:\n",
    "            if name in names_ouput:\n",
    "                needed_names.append(name)\n",
    "                needed_mean[name] = self.mean[name]\n",
    "        if len(needed_names)==1:\n",
    "            print('Нет общих координат') #Если нет общих координат, то прерываем программу\n",
    "            return None\n",
    "        \n",
    "        df_train = df_train[needed_names+self.ignorename] # Выделяем необходимые имена\n",
    "        df_predict = df_predict[needed_names] # Выделяем необходимые имена\n",
    "        df_predict = self.__norm(df_predict, self.mean) #Нормируем данные\n",
    "        \n",
    "        inputs = df_predict.iloc[:].values\n",
    "        \n",
    "        for cluster in sorted(df_train['cluster_id'].unique()): #проходим все кластеры\n",
    "            time_df = df_train[lambda x: x['cluster_id']==cluster] #Выделяем все строки относящиеся к этому кластеру\n",
    "            for subcluster in sorted(time_df['subcluster_id'].unique()): #проходим все подкластеры\n",
    "                name = 'F_'+str(cluster) +'_' + str(subcluster) # Формируем имя столбца\n",
    "                time_dfs = time_df[lambda x: x['subcluster_id']==subcluster] #Выделяем все строки относящиеся к этому подкластеру\n",
    "                F = []\n",
    "                for line in inputs:\n",
    "                    F.append(get_F_example(time_dfs[needed_names].iloc[:].values, self.config['consts']['a'], line)) #Вычисляем F для каждой строки данных для предсказания\n",
    "                df_predict[name] = F\n",
    "        return df_predict"
   ]
  },
  {
   "cell_type": "code",
   "execution_count": null,
   "metadata": {},
   "outputs": [],
   "source": [
    "clas = Classsifier(const.get_norms(), const.config)"
   ]
  },
  {
   "cell_type": "code",
   "execution_count": null,
   "metadata": {},
   "outputs": [],
   "source": [
    "df_predict = clas.predict(df, df_test)"
   ]
  },
  {
   "cell_type": "code",
   "execution_count": null,
   "metadata": {},
   "outputs": [],
   "source": [
    "df.head()"
   ]
  },
  {
   "cell_type": "code",
   "execution_count": null,
   "metadata": {},
   "outputs": [],
   "source": [
    "ignorename = ['F_0_0','F_0_1','F_0_2','F_0_3','F_0_4','F_0_5','F_0_6']\n",
    "df_predict['cluster_id'] = df_predict[ignorename].idxmax(axis=1)\n",
    "df_predict.head()"
   ]
  },
  {
   "cell_type": "code",
   "execution_count": null,
   "metadata": {},
   "outputs": [],
   "source": [
    "fig = px.scatter_3d(df_predict, x='X1', y='X2', z='X3',\n",
    "              color='cluster_id')\n",
    "fig.show()"
   ]
  },
  {
   "cell_type": "code",
   "execution_count": null,
   "metadata": {},
   "outputs": [],
   "source": []
  }
 ],
 "metadata": {
  "kernelspec": {
   "display_name": "Python 3",
   "language": "python",
   "name": "python3"
  },
  "language_info": {
   "codemirror_mode": {
    "name": "ipython",
    "version": 3
   },
   "file_extension": ".py",
   "mimetype": "text/x-python",
   "name": "python",
   "nbconvert_exporter": "python",
   "pygments_lexer": "ipython3",
   "version": "3.9.2"
  }
 },
 "nbformat": 4,
 "nbformat_minor": 2
}
