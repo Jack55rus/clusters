{
 "cells": [
  {
   "cell_type": "code",
   "execution_count": null,
   "metadata": {},
   "outputs": [],
   "source": [
    "!pip install openpyxl"
   ]
  },
  {
   "cell_type": "code",
   "execution_count": null,
   "metadata": {},
   "outputs": [],
   "source": [
    "import yaml\n",
    "import random\n",
    "import numpy as np\n",
    "import time\n",
    "\n",
    "from reader import Reader\n",
    "from const import Const\n",
    "from utils import get_F_example\n",
    "from clustering import Clusters\n",
    "from i_merge import IMerger\n",
    "\n",
    "from sklearn.datasets import make_blobs\n",
    "import matplotlib.pyplot as plt\n",
    "import plotly.express as px\n",
    "import pandas as pd"
   ]
  },
  {
   "cell_type": "markdown",
   "metadata": {},
   "source": [
    "# Если есть желание создать свои данные, то вызвать этот код"
   ]
  },
  {
   "cell_type": "code",
   "execution_count": null,
   "metadata": {},
   "outputs": [],
   "source": [
    "X, y = make_blobs(n_samples=500, centers=7, cluster_std=0.6, random_state=0)\n",
    "\n",
    "ids = [i+1 for i in range(len(X))]\n",
    "df = pd.DataFrame()\n",
    "df['id'] = ids\n",
    "df['X1'] = X[:,0]\n",
    "df['X2'] = X[:,1]"
   ]
  },
  {
   "cell_type": "code",
   "execution_count": null,
   "metadata": {},
   "outputs": [],
   "source": [
    "ids = []\n",
    "X1 = []\n",
    "X2 = []\n",
    "with open('Two.txt', 'r') as f:\n",
    "    for k, line in enumerate(f):\n",
    "        if k==0:\n",
    "            continue\n",
    "        ids.append(int(line.split()[0]))\n",
    "        X1.append(float(line.split()[1]))\n",
    "        X2.append(float(line.split()[2]))\n",
    "        if k>=205:\n",
    "            break\n",
    "df = pd.DataFrame()\n",
    "df['id'] = ids\n",
    "df['X1'] = X1\n",
    "df['X2'] = X2\n",
    "    "
   ]
  },
  {
   "cell_type": "code",
   "execution_count": null,
   "metadata": {},
   "outputs": [],
   "source": [
    "reader = Reader()"
   ]
  },
  {
   "cell_type": "code",
   "execution_count": null,
   "metadata": {},
   "outputs": [],
   "source": [
    "df = reader.read('input.xlsx')"
   ]
  },
  {
   "cell_type": "code",
   "execution_count": null,
   "metadata": {},
   "outputs": [],
   "source": [
    "df.head()"
   ]
  },
  {
   "cell_type": "code",
   "execution_count": null,
   "metadata": {
    "scrolled": true
   },
   "outputs": [],
   "source": [
    "plt.scatter(df['X1'], df['X2'])\n",
    "plt.show()"
   ]
  },
  {
   "cell_type": "markdown",
   "metadata": {},
   "source": [
    "# Подбор констант"
   ]
  },
  {
   "cell_type": "code",
   "execution_count": null,
   "metadata": {},
   "outputs": [],
   "source": [
    "const = Const('./example.yaml')\n",
    "# const = Const()"
   ]
  },
  {
   "cell_type": "code",
   "execution_count": null,
   "metadata": {},
   "outputs": [],
   "source": [
    "const.norm(df) # Нормировка"
   ]
  },
  {
   "cell_type": "code",
   "execution_count": null,
   "metadata": {},
   "outputs": [],
   "source": [
    "const.get_norms() # Получение норм"
   ]
  },
  {
   "cell_type": "code",
   "execution_count": null,
   "metadata": {
    "scrolled": false
   },
   "outputs": [],
   "source": [
    "a = time.time()\n",
    "const.calculate_a(df, type_of_optimization=3) # Вычисление а и пересчет констант\n",
    "b = time.time()\n",
    "print(b-a)"
   ]
  },
  {
   "cell_type": "code",
   "execution_count": null,
   "metadata": {},
   "outputs": [],
   "source": [
    "const.add_Fcolumn(df)"
   ]
  },
  {
   "cell_type": "code",
   "execution_count": null,
   "metadata": {},
   "outputs": [],
   "source": [
    "df.head()"
   ]
  },
  {
   "cell_type": "code",
   "execution_count": null,
   "metadata": {},
   "outputs": [],
   "source": [
    "const.config # Вывод параметров"
   ]
  },
  {
   "cell_type": "code",
   "execution_count": null,
   "metadata": {},
   "outputs": [],
   "source": [
    "# const.config['conturs']['min_diff'] = 6.21\n",
    "const.config['isolated_cluster']['divider'] = 1"
   ]
  },
  {
   "cell_type": "code",
   "execution_count": null,
   "metadata": {},
   "outputs": [],
   "source": [
    "# const.save_consts('example') #Сохранение констант в файл"
   ]
  },
  {
   "cell_type": "markdown",
   "metadata": {},
   "source": [
    "Researching dataset"
   ]
  },
  {
   "cell_type": "code",
   "execution_count": null,
   "metadata": {},
   "outputs": [],
   "source": [
    "fig = px.scatter_3d(df, x='X1', y='X2', z='F')\n",
    "fig.show()"
   ]
  },
  {
   "cell_type": "markdown",
   "metadata": {},
   "source": [
    "# Кластеризация"
   ]
  },
  {
   "cell_type": "code",
   "execution_count": null,
   "metadata": {},
   "outputs": [],
   "source": [
    "df.head()"
   ]
  },
  {
   "cell_type": "code",
   "execution_count": null,
   "metadata": {},
   "outputs": [],
   "source": [
    "cluster = Clusters(const.config) "
   ]
  },
  {
   "cell_type": "code",
   "execution_count": null,
   "metadata": {},
   "outputs": [],
   "source": [
    "df = cluster.get_isolated_clusters(df) # Вычисление кластеров\n",
    "df.head()"
   ]
  },
  {
   "cell_type": "code",
   "execution_count": null,
   "metadata": {},
   "outputs": [],
   "source": [
    "set(df['cluster_id'])"
   ]
  },
  {
   "cell_type": "code",
   "execution_count": null,
   "metadata": {},
   "outputs": [],
   "source": [
    "for cluster in set(df['cluster_id']):\n",
    "    plt.scatter(df[df['cluster_id']==cluster]['X1'], df[df['cluster_id']==cluster]['X2'])\n"
   ]
  },
  {
   "cell_type": "code",
   "execution_count": null,
   "metadata": {
    "scrolled": false
   },
   "outputs": [],
   "source": [
    "fig = px.scatter_3d(df, x='X1', y='X2', z='F',\n",
    "              color='cluster_id')\n",
    "fig.show()"
   ]
  },
  {
   "cell_type": "code",
   "execution_count": null,
   "metadata": {},
   "outputs": [],
   "source": [
    "df.head()"
   ]
  },
  {
   "cell_type": "markdown",
   "metadata": {},
   "source": [
    "# Merge I"
   ]
  },
  {
   "cell_type": "code",
   "execution_count": null,
   "metadata": {},
   "outputs": [],
   "source": [
    "Merger = IMerger(const.config)\n",
    "Merger.mergeClusters(df)"
   ]
  },
  {
   "cell_type": "code",
   "execution_count": null,
   "metadata": {},
   "outputs": [],
   "source": [
    "plt.scatter(df['X1'],df['X2'], c=df['cluster_id'])"
   ]
  },
  {
   "cell_type": "code",
   "execution_count": null,
   "metadata": {},
   "outputs": [],
   "source": [
    "fig = px.scatter_3d(df, x='X1', y='X2', z='F',\n",
    "              color='cluster_id')\n",
    "fig.show()"
   ]
  },
  {
   "cell_type": "markdown",
   "metadata": {},
   "source": [
    "# Subcluster"
   ]
  },
  {
   "cell_type": "code",
   "execution_count": null,
   "metadata": {
    "scrolled": true
   },
   "outputs": [],
   "source": [
    "first = df[df['cluster_id']==1].sort_values('F')"
   ]
  },
  {
   "cell_type": "code",
   "execution_count": null,
   "metadata": {},
   "outputs": [],
   "source": [
    "print(first)"
   ]
  },
  {
   "cell_type": "code",
   "execution_count": null,
   "metadata": {},
   "outputs": [],
   "source": [
    "fig = px.scatter_3d(first, x='X1', y='X2', z='F',\n",
    "              color='id')\n",
    "fig.show()"
   ]
  },
  {
   "cell_type": "code",
   "execution_count": null,
   "metadata": {},
   "outputs": [],
   "source": [
    "const.config"
   ]
  },
  {
   "cell_type": "code",
   "execution_count": null,
   "metadata": {},
   "outputs": [],
   "source": [
    "def get_profile(F, p1, p2, divider = 1, min_diff = 3.48, max_div_num = 8, min_len =  0.23, a = 0.23, min_dif=3.48):\n",
    "    #Функция рассчета профиля F - матрица формата ['id','x1',...,'xn','F'], p1, p2 - точки формата ['id','x1',...,'xn','F']\n",
    "    if np.linalg.norm(np.array(p1[1:-1]) - np.array(p2[1:-1]))/divider <= min_diff:\n",
    "        return 'close', 0\n",
    "    else:\n",
    "        div_num = 0\n",
    "        segment_len = np.linalg.norm( np.array(p1[1:-1]) - np.array(p2[1:-1]))\n",
    "        while (div_num < max_div_num-1) and (segment_len > min_len):\n",
    "            div_num+= 1\n",
    "            num_of_segments = (divider+1)*div_num + divider\n",
    "            segment_len = np.linalg.norm(np.array(p1[1:-1]) - np.array(p2[1:-1]))/num_of_segments\n",
    "\n",
    "        if div_num == 0:\n",
    "            return 'close', 0\n",
    "\n",
    "        points = []\n",
    "        for i in range(num_of_segments):\n",
    "            x = [-1.]\n",
    "            for j in range(1, len(p1)-1):\n",
    "                x.append((p1[j] + p2[j]*(i+1)/(num_of_segments-i))/(1+(i+1)/(num_of_segments-i)))\n",
    "            points.append(np.array(x))\n",
    "\n",
    "        Fs = [[point[1],  point[2], get_F_example([f[:-1] for f in F], const.config['consts']['a'], target=point)] \\\n",
    "                                                                                                for point in points]\n",
    "        Fs = sorted(Fs, key = lambda S: S[-1], reverse = False)\n",
    "#         print(Fs)\n",
    "\n",
    "        Fmin = np.min([F[-1] for F in Fs])\n",
    "        Fstar = p1[-1] if  p1[-1] < p2[-1] else p2[-1]\n",
    "\n",
    "        if Fstar - Fmin >= min_dif:\n",
    "            return 'different', Fstar - Fmin\n",
    "        else:\n",
    "            return 'common', Fstar - Fmin"
   ]
  },
  {
   "cell_type": "code",
   "execution_count": null,
   "metadata": {},
   "outputs": [],
   "source": [
    "X = first.values\n",
    "F_matrix = X[:,:-1]\n",
    "F_matrix.shape"
   ]
  },
  {
   "cell_type": "code",
   "execution_count": null,
   "metadata": {},
   "outputs": [],
   "source": [
    "step = 10\n",
    "layers_F = []\n",
    "current = step\n",
    "while current<X[:,-2].max():\n",
    "    layers_F.append(current)\n",
    "    current += step\n",
    "layers_F"
   ]
  },
  {
   "cell_type": "code",
   "execution_count": null,
   "metadata": {},
   "outputs": [],
   "source": [
    "def calculate_distance(p, matrix):\n",
    "    \"\"\"\n",
    "    p - [id, X1,...,Xn,F, cluster_id]\n",
    "    matrix - [[id, X1,...,Xn,F, cluster_id],...,[id, X1,...,Xn,F, cluster_id]]\n",
    "    ========\n",
    "    return - index of nearest neighbor\n",
    "    \"\"\"\n",
    "    start = True\n",
    "    for row_index, row in enumerate(matrix):\n",
    "        if p[0]==row[0]:\n",
    "            continue\n",
    "        distance = np.linalg.norm(np.array(p[1:-2]) - np.array(row[1:-2]))\n",
    "        if start:\n",
    "            min_distanse = distance\n",
    "            min_row_index = row_index\n",
    "            start = False\n",
    "        if min_distanse > distance:\n",
    "#             print(min_distanse)\n",
    "            min_distanse = distance\n",
    "            min_row_index = row_index\n",
    "    return min_row_index"
   ]
  },
  {
   "cell_type": "code",
   "execution_count": null,
   "metadata": {},
   "outputs": [],
   "source": [
    "def check_levels(p, connected, layers):\n",
    "    \"\"\"\n",
    "    p - [id, X1,...,Xn,F, cluster_id]\n",
    "    connected - list of points [id, X1,...,Xn,F, cluster_id]\n",
    "    layers - list\n",
    "    ========\n",
    "    return - bool value, point is closed or not\n",
    "    \"\"\"\n",
    "    if len(connected) == 0:\n",
    "        return True\n",
    "    curret_layer = None\n",
    "    for i in range(len(layers)):\n",
    "        if p[-2]<layers[i]:\n",
    "            curret_layer = layers[i-1]\n",
    "            break\n",
    "    if curret_layer is None:\n",
    "        curret_layer = layers[-1]\n",
    "    for p_c in connected:\n",
    "        if p_c[-2]>curret_layer:\n",
    "            return False\n",
    "    return True\n",
    "    "
   ]
  },
  {
   "cell_type": "code",
   "execution_count": null,
   "metadata": {},
   "outputs": [],
   "source": [
    "def calculate_distance_for_2_points(A,B):\n",
    "    \"\"\"\n",
    "    A - [id, X1,...,Xn,F, cluster_id]\n",
    "    B - [id, X1,...,Xn,F, cluster_id]\n",
    "    =========\n",
    "    return - distance between 2 points\n",
    "    \"\"\"\n",
    "    return np.linalg.norm(np.array(A[1:-2]) - np.array(B[1:-2]))"
   ]
  },
  {
   "cell_type": "code",
   "execution_count": null,
   "metadata": {},
   "outputs": [],
   "source": [
    "def merge(A,B, F_matrix):\n",
    "    \"\"\"\n",
    "    A - list of points [id, X1,...,Xn,F, cluster_id]\n",
    "    B - list of points [id, X1,...,Xn,F, cluster_id]\n",
    "    F_matrix - [[id, X1,...,Xn,F],...,[id, X1,...,Xn,F]]\n",
    "    =======\n",
    "    return - bool value, status for merging clusters\n",
    "    \"\"\"\n",
    "    for p_1 in A:\n",
    "        for p_2 in B:\n",
    "            result, _ = get_profile(F_matrix, p_1[:-1], p_2[:-1])\n",
    "#             print(result)\n",
    "            if result == 'different':\n",
    "                return False\n",
    "    return True"
   ]
  },
  {
   "cell_type": "code",
   "execution_count": null,
   "metadata": {
    "scrolled": true
   },
   "outputs": [],
   "source": [
    "subcluster_result = {int(x[0]):None for x in X}\n",
    "connected_points = {int(x[0]):[] for x in X}\n",
    "closed_points = []\n",
    "subcluster = 0\n",
    "start = True\n",
    "for k,p in enumerate(X):\n",
    "    print('###'*30)\n",
    "    print('CURRENT POINT', p)\n",
    "    if k == X.shape[0]-1:\n",
    "        index = calculate_distance(p,X)\n",
    "        subcluster_result[int(p[0])] = subcluster_result[int(X[index][0])]\n",
    "        nearest_p = X[index]\n",
    "        result, value = get_profile(F_matrix, p[:-1], nearest_p[:-1]) #calculate profile\n",
    "    else:\n",
    "        index = calculate_distance(p,X[k:]) # find nearest neighbor\n",
    "        result, value = get_profile(F_matrix, p[:-1], X[k+index,:-1]) #calculate profile\n",
    "        nearest_p = X[k+index]\n",
    "    print('NEAREST POINT', nearest_p)\n",
    "#     plt.scatter(X[:,1],X[:,2], c='b')\n",
    "#     plt.scatter(nearest_p[1],nearest_p[2], c='r')\n",
    "#     plt.scatter(p[1],p[2], c='g')\n",
    "#     plt.show()\n",
    "    print(result)\n",
    "    if result != 'common' and result != 'close': # Если точки разные\n",
    "        if subcluster_result[int(p[0])] == None:\n",
    "            if not start:\n",
    "                subcluster += 1\n",
    "            subcluster_result[int(p[0])] = subcluster\n",
    "            \n",
    "    else: # Если точки близки или профиль прошел проверку\n",
    "        #Обе точки не имеют подкластера-создаем новый\n",
    "        \n",
    "        if subcluster_result[int(p[0])] == None and subcluster_result[int(nearest_p[0])] == None:\n",
    "            print(\"TOGETHER NONE\")\n",
    "            if not start:\n",
    "                subcluster += 1\n",
    "            subcluster_result[int(p[0])] = subcluster\n",
    "            subcluster_result[int(nearest_p[0])] = subcluster\n",
    "            \n",
    "        #Одна из точек не имеет подкластера или они не совпадают\n",
    "        elif subcluster_result[int(p[0])] != subcluster_result[int(nearest_p[0])]:\n",
    "            print(\"DIFFERENT SUB\")\n",
    "#             if k == 96 or k == 97:\n",
    "#             print(subcluster_result)\n",
    "#             print(subcluster_result[int(p[0])])\n",
    "#             print(subcluster_result[int(nearest_p[0])])\n",
    "            A = [p]\n",
    "            B = [nearest_p]\n",
    "            #Находим все точки принадлежащие данным подкластерам\n",
    "            for point in closed_points:\n",
    "                if subcluster_result[int(point[0])] == subcluster_result[int(p[0])] and subcluster_result[int(p[0])]!= None:\n",
    "                    A.append(point)\n",
    "                if subcluster_result[int(point[0])] == subcluster_result[int(nearest_p[0])] and \\\n",
    "                    subcluster_result[int(nearest_p[0])]!= None:\n",
    "                    B.append(point)\n",
    "#             if k == 96 or k == 97:\n",
    "#             plt.figure(figsize=(15,15))\n",
    "#             plt.scatter(X[:,1],X[:,2], c='w')\n",
    "#             plt.scatter(np.stack(A)[:,1],np.stack(A)[:,2], c='r')\n",
    "#             plt.scatter(np.stack(B)[:,1],np.stack(B)[:,2], c='g')\n",
    "#             plt.show()\n",
    "#             print('A')\n",
    "#             for a in A:\n",
    "#                 print(a)\n",
    "#             print('B')\n",
    "#             for b in B:\n",
    "#                 print(b)\n",
    "            # Проверяем их на слияние\n",
    "            if not merge(A,B, F_matrix):#Если разные, то проверяем куда отнести ближайшую точку\n",
    "#                 if k == 206 or k == 97:\n",
    "                print(k, 'NOT MERGE')\n",
    "                if subcluster_result[int(p[0])] == None:\n",
    "                    if not start:\n",
    "                        subcluster += 1\n",
    "                    subcluster_result[int(p[0])] = subcluster\n",
    "                status = True\n",
    "                start_dist = calculate_distance_for_2_points(A[0],B[0])\n",
    "                for i in range(1,len(B)):\n",
    "                    if calculate_distance_for_2_points(B[0],B[i])<start_dist:\n",
    "                        status = False\n",
    "                        break\n",
    "                if status:\n",
    "                    subcluster_result[int(nearest_p[0])] = subcluster_result[int(p[0])]\n",
    "            else:#Если подкластеры сливаются - то всем точкам анализируемого подкластера сливаются\n",
    "#                 if k == 96 or k == 97:\n",
    "                print(k, 'MERGE')\n",
    "                if subcluster_result[int(nearest_p[0])] is None:\n",
    "                    subcluster_result[int(nearest_p[0])] = subcluster_result[int(p[0])]\n",
    "                else:\n",
    "                    if subcluster_result[int(p[0])] is None:\n",
    "                        subcluster_result[int(p[0])] = subcluster_result[int(nearest_p[0])]\n",
    "                    else:\n",
    "                        deleted_cluster = subcluster_result[int(p[0])]\n",
    "                        for p_name in subcluster_result:\n",
    "                            if subcluster_result[p_name] == deleted_cluster:\n",
    "                                subcluster_result[p_name] = subcluster_result[int(nearest_p[0])]\n",
    "            \n",
    "        connected_points[int(nearest_p[0])].append(p)# Добавляем в список точек текущую\n",
    "        \n",
    "#         connected_points[int(nearest_p[0])] += connected_points[int(p[0])]\n",
    "    start = False\n",
    "    closed_points.append(p)\n",
    "#     print('subcluster_result')\n",
    "#     print(subcluster_result)\n",
    "#     print(subcluster_result[int(p[0])])\n",
    "#     print(subcluster_result[int(nearest_p[0])])\n",
    "#     print('closed_points')\n",
    "#     print(closed_points)\n",
    "#     if check_levels(p, connected_points[int(p[0])], layers_F):\n",
    "#         closed_points.append(p)\n",
    "\n",
    "\n",
    "#     color = []\n",
    "#     for c in list(subcluster_result.values()):\n",
    "#         if c == None:\n",
    "#             color.append(-1)\n",
    "#         else:\n",
    "#             color.append(c)\n",
    "#     plt.scatter(X[:,1],X[:,2], c=color)\n",
    "#     plt.show()\n",
    "#     print('*^#'*30)\n",
    "#     for x in X:\n",
    "        \n",
    "#         plt.annotate(str(subcluster_result[int(x[0])]), xy = (x[1], x[2]))\n",
    "    \n",
    "#     YYY = np.stack(closed_points)\n",
    "#     plt.scatter(YYY[:,1],YYY[:,2], marker='^')\n",
    "    plt.show()\n",
    "    \n",
    "print('*'*30)\n",
    "print(len(connected_points))\n",
    "print('*'*30)\n",
    "print(subcluster_result)\n",
    "print(len(subcluster_result))\n",
    "print('*'*30)\n",
    "print(len(closed_points))"
   ]
  },
  {
   "cell_type": "code",
   "execution_count": null,
   "metadata": {},
   "outputs": [],
   "source": [
    "set(subcluster_result.values())"
   ]
  },
  {
   "cell_type": "code",
   "execution_count": null,
   "metadata": {},
   "outputs": [],
   "source": [
    "fig, ax = plt.subplots(figsize=(13, 13))\n",
    "ax.scatter(X[:,1],X[:,2], c=list(subcluster_result.values()))\n",
    "for x in X:\n",
    "    ax.annotate(str(int(x[0])), xy = (x[1]+0.02, x[2]))\n",
    "    \n",
    "YYY = np.stack(closed_points)\n",
    "for y in YYY:\n",
    "    circle2 = plt.Circle((y[1], y[2]), 0.08, color='b', fill=False)\n",
    "    ax.add_patch(circle2)\n",
    "ax.plot()   #Causes an autoscale update.\n",
    "plt.show()"
   ]
  },
  {
   "cell_type": "code",
   "execution_count": null,
   "metadata": {
    "scrolled": false
   },
   "outputs": [],
   "source": [
    "plt.figure(figsize=(15,15))\n",
    "plt.scatter(X[:,1],X[:,2], c=list(subcluster_result.values()))\n",
    "for x in X:\n",
    "    plt.annotate(str(int(x[0])), xy = (x[1]+0.02, x[2]))\n",
    "    "
   ]
  },
  {
   "cell_type": "code",
   "execution_count": null,
   "metadata": {},
   "outputs": [],
   "source": [
    "fig, ax = plt.subplots(figsize=(13, 13))\n",
    "ax.scatter(X[:,1],X[:,2], c=list(subcluster_result.values()))\n",
    "for x in X:\n",
    "    ax.annotate(str(subcluster_result[int(x[0])]), xy = (x[1]+0.02, x[2]))\n",
    "    \n",
    "YYY = np.stack(closed_points)\n",
    "for y in YYY:\n",
    "    circle2 = plt.Circle((y[1], y[2]), 0.08, color='b', fill=False)\n",
    "    ax.add_patch(circle2)\n",
    "ax.plot()   #Causes an autoscale update.\n",
    "plt.show()"
   ]
  },
  {
   "cell_type": "markdown",
   "metadata": {},
   "source": [
    "# Merging check"
   ]
  },
  {
   "cell_type": "code",
   "execution_count": null,
   "metadata": {},
   "outputs": [],
   "source": [
    "def merge(A,B, F_matrix):\n",
    "    \"\"\"\n",
    "    A - list of points [id, X1,...,Xn,F, cluster_id]\n",
    "    B - list of points [id, X1,...,Xn,F, cluster_id]\n",
    "    F_matrix - [[id, X1,...,Xn,F],...,[id, X1,...,Xn,F]]\n",
    "    =======\n",
    "    return - bool value, status for merging clusters\n",
    "    \"\"\"\n",
    "    for p_1 in A:\n",
    "        for p_2 in B:\n",
    "            result, _ = get_profile(F_matrix, p_1[:-1], p_2[:-1])\n",
    "#             print(result)\n",
    "            if result == 'different':\n",
    "                print(p_1)\n",
    "                print(p_2)\n",
    "                return False\n",
    "    return True"
   ]
  },
  {
   "cell_type": "code",
   "execution_count": null,
   "metadata": {},
   "outputs": [],
   "source": [
    "cluster_1 = 39\n",
    "cluster_2 = 27\n",
    "A = []\n",
    "B = []\n",
    "for p in X:\n",
    "    if subcluster_result[int(p[0])] == cluster_1:\n",
    "        A.append(p)\n",
    "    if subcluster_result[int(p[0])] == cluster_2:\n",
    "        B.append(p)\n",
    "    "
   ]
  },
  {
   "cell_type": "code",
   "execution_count": null,
   "metadata": {},
   "outputs": [],
   "source": [
    "merge(A,B,F_matrix)"
   ]
  },
  {
   "cell_type": "markdown",
   "metadata": {},
   "source": [
    "# Profile Check"
   ]
  },
  {
   "cell_type": "code",
   "execution_count": null,
   "metadata": {},
   "outputs": [],
   "source": [
    "for x in X:\n",
    "    if x[0] == 144:\n",
    "        p1 = x\n",
    "    if x[0] == 185:\n",
    "        p2 = x"
   ]
  },
  {
   "cell_type": "code",
   "execution_count": null,
   "metadata": {},
   "outputs": [],
   "source": [
    "p1"
   ]
  },
  {
   "cell_type": "code",
   "execution_count": null,
   "metadata": {},
   "outputs": [],
   "source": [
    "p2"
   ]
  },
  {
   "cell_type": "code",
   "execution_count": null,
   "metadata": {},
   "outputs": [],
   "source": [
    "p1[1:-2]"
   ]
  },
  {
   "cell_type": "code",
   "execution_count": null,
   "metadata": {},
   "outputs": [],
   "source": [
    "np.linalg.norm(np.array(p1[1:-2]) - np.array(p2[1:-2]))"
   ]
  },
  {
   "cell_type": "code",
   "execution_count": null,
   "metadata": {},
   "outputs": [],
   "source": [
    "np.linalg.norm(np.array(p1[1:-2]) - np.array(p2[1:-2]))"
   ]
  },
  {
   "cell_type": "code",
   "execution_count": null,
   "metadata": {},
   "outputs": [],
   "source": [
    "np.linalg.norm(np.array(p1[1:-2]) - np.array(p2[1:-2]))"
   ]
  },
  {
   "cell_type": "code",
   "execution_count": null,
   "metadata": {},
   "outputs": [],
   "source": [
    "get_profile(F_matrix, p1[:-1], p2[:-1])"
   ]
  },
  {
   "cell_type": "code",
   "execution_count": null,
   "metadata": {},
   "outputs": [],
   "source": [
    "plt.scatter(X[:,1],X[:,2], c='b')\n",
    "plt.scatter(p1[1],p1[2], c='r')\n",
    "plt.scatter(p2[1],p2[2], c='g')"
   ]
  },
  {
   "cell_type": "markdown",
   "metadata": {},
   "source": [
    "# Grapth"
   ]
  },
  {
   "cell_type": "code",
   "execution_count": null,
   "metadata": {},
   "outputs": [],
   "source": [
    "import plotly.express as px"
   ]
  },
  {
   "cell_type": "code",
   "execution_count": null,
   "metadata": {},
   "outputs": [],
   "source": [
    "plot_df = first.copy()"
   ]
  },
  {
   "cell_type": "code",
   "execution_count": null,
   "metadata": {},
   "outputs": [],
   "source": [
    "subcluster = []\n",
    "for ind in plot_df['id'].values:\n",
    "    subcluster.append(subcluster_result[ind])\n",
    "plot_df['sub'] = subcluster\n",
    "closed = []\n",
    "closed_find = np.stack(closed_points)\n",
    "for ind in plot_df['id'].values:\n",
    "    if ind in closed_find[:,0]:\n",
    "        closed.append(10)\n",
    "    else:\n",
    "        closed.append(1)\n",
    "plot_df['closed'] = closed  "
   ]
  },
  {
   "cell_type": "code",
   "execution_count": null,
   "metadata": {},
   "outputs": [],
   "source": [
    "plot_df.head()"
   ]
  },
  {
   "cell_type": "code",
   "execution_count": null,
   "metadata": {},
   "outputs": [],
   "source": [
    "fig = px.scatter(plot_df, x=\"X1\", y=\"X2\", color=\"sub\", hover_data=['id', 'F'], )"
   ]
  },
  {
   "cell_type": "code",
   "execution_count": null,
   "metadata": {},
   "outputs": [],
   "source": [
    "fig.show()"
   ]
  },
  {
   "cell_type": "code",
   "execution_count": null,
   "metadata": {},
   "outputs": [],
   "source": []
  },
  {
   "cell_type": "code",
   "execution_count": null,
   "metadata": {},
   "outputs": [],
   "source": []
  }
 ],
 "metadata": {
  "kernelspec": {
   "display_name": "Python 3",
   "language": "python",
   "name": "python3"
  },
  "language_info": {
   "codemirror_mode": {
    "name": "ipython",
    "version": 3
   },
   "file_extension": ".py",
   "mimetype": "text/x-python",
   "name": "python",
   "nbconvert_exporter": "python",
   "pygments_lexer": "ipython3",
   "version": "3.9.2"
  }
 },
 "nbformat": 4,
 "nbformat_minor": 2
}
