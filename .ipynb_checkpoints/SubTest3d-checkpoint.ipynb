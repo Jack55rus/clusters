{
 "cells": [
  {
   "cell_type": "code",
   "execution_count": 1,
   "metadata": {},
   "outputs": [
    {
     "name": "stderr",
     "output_type": "stream",
     "text": [
      "C:\\Users\\nekro\\Anaconda3\\lib\\site-packages\\sklearn\\utils\\deprecation.py:143: FutureWarning: The sklearn.datasets.samples_generator module is  deprecated in version 0.22 and will be removed in version 0.24. The corresponding classes / functions should instead be imported from sklearn.datasets. Anything that cannot be imported from sklearn.datasets is now part of the private API.\n",
      "  warnings.warn(message, FutureWarning)\n"
     ]
    }
   ],
   "source": [
    "import yaml\n",
    "import random\n",
    "import numpy as np\n",
    "import time\n",
    "\n",
    "from reader import Reader\n",
    "from const import Const\n",
    "from utils import get_F_example\n",
    "from clustering import Clusters\n",
    "from i_merge import IMerger\n",
    "from Subclusterring import Subclusters\n",
    "\n",
    "from sklearn.datasets.samples_generator import make_blobs\n",
    "import matplotlib.pyplot as plt\n",
    "import plotly.express as px\n",
    "import pandas as pd"
   ]
  },
  {
   "cell_type": "markdown",
   "metadata": {},
   "source": [
    "# Если есть желание создать свои данные, то вызвать этот код"
   ]
  },
  {
   "cell_type": "code",
   "execution_count": null,
   "metadata": {},
   "outputs": [],
   "source": [
    "X, y = make_blobs(n_samples=200, centers=7, cluster_std=0.6, random_state=0)\n",
    "\n",
    "ids = [i+1 for i in range(len(X))]\n",
    "df = pd.DataFrame()\n",
    "df['id'] = ids\n",
    "df['X1'] = X[:,0]\n",
    "df['X2'] = X[:,1]"
   ]
  },
  {
   "cell_type": "code",
   "execution_count": null,
   "metadata": {},
   "outputs": [],
   "source": [
    "# ids = []\n",
    "# X1 = []\n",
    "# X2 = []\n",
    "# with open('Two.txt', 'r') as f:\n",
    "#     for k, line in enumerate(f):\n",
    "#         if k==0:\n",
    "#             continue\n",
    "#         ids.append(int(line.split()[0]))\n",
    "#         X1.append(float(line.split()[1]))\n",
    "#         X2.append(float(line.split()[2]))\n",
    "#         if k>=205:\n",
    "#             break\n",
    "# df = pd.DataFrame()\n",
    "# df['id'] = ids\n",
    "# df['X1'] = X1\n",
    "# df['X2'] = X2\n",
    "    "
   ]
  },
  {
   "cell_type": "code",
   "execution_count": 2,
   "metadata": {},
   "outputs": [],
   "source": [
    "reader = Reader()"
   ]
  },
  {
   "cell_type": "code",
   "execution_count": 3,
   "metadata": {},
   "outputs": [],
   "source": [
    "df = reader.read('input.xlsx')"
   ]
  },
  {
   "cell_type": "code",
   "execution_count": 4,
   "metadata": {},
   "outputs": [
    {
     "data": {
      "text/html": [
       "<div>\n",
       "<style scoped>\n",
       "    .dataframe tbody tr th:only-of-type {\n",
       "        vertical-align: middle;\n",
       "    }\n",
       "\n",
       "    .dataframe tbody tr th {\n",
       "        vertical-align: top;\n",
       "    }\n",
       "\n",
       "    .dataframe thead th {\n",
       "        text-align: right;\n",
       "    }\n",
       "</style>\n",
       "<table border=\"1\" class=\"dataframe\">\n",
       "  <thead>\n",
       "    <tr style=\"text-align: right;\">\n",
       "      <th></th>\n",
       "      <th>id</th>\n",
       "      <th>X1</th>\n",
       "      <th>X2</th>\n",
       "    </tr>\n",
       "  </thead>\n",
       "  <tbody>\n",
       "    <tr>\n",
       "      <th>0</th>\n",
       "      <td>1</td>\n",
       "      <td>25.388056</td>\n",
       "      <td>10.849605</td>\n",
       "    </tr>\n",
       "    <tr>\n",
       "      <th>1</th>\n",
       "      <td>2</td>\n",
       "      <td>26.102651</td>\n",
       "      <td>11.895918</td>\n",
       "    </tr>\n",
       "    <tr>\n",
       "      <th>2</th>\n",
       "      <td>3</td>\n",
       "      <td>24.843052</td>\n",
       "      <td>12.847889</td>\n",
       "    </tr>\n",
       "    <tr>\n",
       "      <th>3</th>\n",
       "      <td>4</td>\n",
       "      <td>25.282225</td>\n",
       "      <td>12.889494</td>\n",
       "    </tr>\n",
       "    <tr>\n",
       "      <th>4</th>\n",
       "      <td>5</td>\n",
       "      <td>26.000284</td>\n",
       "      <td>13.887626</td>\n",
       "    </tr>\n",
       "  </tbody>\n",
       "</table>\n",
       "</div>"
      ],
      "text/plain": [
       "   id         X1         X2\n",
       "0   1  25.388056  10.849605\n",
       "1   2  26.102651  11.895918\n",
       "2   3  24.843052  12.847889\n",
       "3   4  25.282225  12.889494\n",
       "4   5  26.000284  13.887626"
      ]
     },
     "execution_count": 4,
     "metadata": {},
     "output_type": "execute_result"
    }
   ],
   "source": [
    "df.head()"
   ]
  },
  {
   "cell_type": "code",
   "execution_count": null,
   "metadata": {
    "scrolled": true
   },
   "outputs": [],
   "source": [
    "plt.scatter(df['X1'], df['X2'])\n",
    "plt.show()"
   ]
  },
  {
   "cell_type": "markdown",
   "metadata": {},
   "source": [
    "# Подбор констант"
   ]
  },
  {
   "cell_type": "code",
   "execution_count": 5,
   "metadata": {},
   "outputs": [
    {
     "name": "stderr",
     "output_type": "stream",
     "text": [
      "C:\\Users\\nekro\\Documents\\Cluster\\clusters\\const.py:18: YAMLLoadWarning: calling yaml.load() without Loader=... is deprecated, as the default Loader is unsafe. Please read https://msg.pyyaml.org/load for full details.\n",
      "  self.config = yaml.load(open(path, 'r'))\n"
     ]
    }
   ],
   "source": [
    "const = Const('./example.yaml')\n",
    "# const = Const()"
   ]
  },
  {
   "cell_type": "code",
   "execution_count": 6,
   "metadata": {},
   "outputs": [],
   "source": [
    "const.norm(df) # Нормировка"
   ]
  },
  {
   "cell_type": "code",
   "execution_count": 7,
   "metadata": {},
   "outputs": [
    {
     "data": {
      "text/plain": [
       "{'X1': 3.9444263889161597, 'X2': 3.0550950818669733}"
      ]
     },
     "execution_count": 7,
     "metadata": {},
     "output_type": "execute_result"
    }
   ],
   "source": [
    "const.get_norms() # Получение норм"
   ]
  },
  {
   "cell_type": "code",
   "execution_count": null,
   "metadata": {
    "scrolled": false
   },
   "outputs": [],
   "source": [
    "# a = time.time()\n",
    "# const.calculate_a(df, type_of_optimization=3) # Вычисление а и пересчет констант\n",
    "# b = time.time()\n",
    "# print(b-a)"
   ]
  },
  {
   "cell_type": "code",
   "execution_count": 8,
   "metadata": {},
   "outputs": [],
   "source": [
    "const.add_Fcolumn(df)"
   ]
  },
  {
   "cell_type": "code",
   "execution_count": 9,
   "metadata": {},
   "outputs": [
    {
     "data": {
      "text/html": [
       "<div>\n",
       "<style scoped>\n",
       "    .dataframe tbody tr th:only-of-type {\n",
       "        vertical-align: middle;\n",
       "    }\n",
       "\n",
       "    .dataframe tbody tr th {\n",
       "        vertical-align: top;\n",
       "    }\n",
       "\n",
       "    .dataframe thead th {\n",
       "        text-align: right;\n",
       "    }\n",
       "</style>\n",
       "<table border=\"1\" class=\"dataframe\">\n",
       "  <thead>\n",
       "    <tr style=\"text-align: right;\">\n",
       "      <th></th>\n",
       "      <th>id</th>\n",
       "      <th>X1</th>\n",
       "      <th>X2</th>\n",
       "      <th>F</th>\n",
       "    </tr>\n",
       "  </thead>\n",
       "  <tbody>\n",
       "    <tr>\n",
       "      <th>0</th>\n",
       "      <td>1</td>\n",
       "      <td>6.436438</td>\n",
       "      <td>3.551315</td>\n",
       "      <td>43.932999</td>\n",
       "    </tr>\n",
       "    <tr>\n",
       "      <th>1</th>\n",
       "      <td>2</td>\n",
       "      <td>6.617604</td>\n",
       "      <td>3.893796</td>\n",
       "      <td>49.181262</td>\n",
       "    </tr>\n",
       "    <tr>\n",
       "      <th>2</th>\n",
       "      <td>3</td>\n",
       "      <td>6.298267</td>\n",
       "      <td>4.205397</td>\n",
       "      <td>61.236805</td>\n",
       "    </tr>\n",
       "    <tr>\n",
       "      <th>3</th>\n",
       "      <td>4</td>\n",
       "      <td>6.409608</td>\n",
       "      <td>4.219016</td>\n",
       "      <td>65.478671</td>\n",
       "    </tr>\n",
       "    <tr>\n",
       "      <th>4</th>\n",
       "      <td>5</td>\n",
       "      <td>6.591651</td>\n",
       "      <td>4.545726</td>\n",
       "      <td>71.261279</td>\n",
       "    </tr>\n",
       "  </tbody>\n",
       "</table>\n",
       "</div>"
      ],
      "text/plain": [
       "   id        X1        X2          F\n",
       "0   1  6.436438  3.551315  43.932999\n",
       "1   2  6.617604  3.893796  49.181262\n",
       "2   3  6.298267  4.205397  61.236805\n",
       "3   4  6.409608  4.219016  65.478671\n",
       "4   5  6.591651  4.545726  71.261279"
      ]
     },
     "execution_count": 9,
     "metadata": {},
     "output_type": "execute_result"
    }
   ],
   "source": [
    "df.head()"
   ]
  },
  {
   "cell_type": "code",
   "execution_count": 10,
   "metadata": {},
   "outputs": [
    {
     "data": {
      "text/plain": [
       "{'consts': {'Y_step': 2.5,\n",
       "  'a': 0.24,\n",
       "  'const': 0.25,\n",
       "  'down_steps': 4,\n",
       "  'percent_X': 5,\n",
       "  'percent_Y': 33,\n",
       "  'percent_for_norms': 40,\n",
       "  'power_koef': 1.16,\n",
       "  'round_const': 2,\n",
       "  'threshold': 0.8,\n",
       "  'up_steps': 6},\n",
       " 'conturs': {'contour_points': 50,\n",
       "  'min_diff': 3.5,\n",
       "  'min_points': 30,\n",
       "  'num_of_lenghts': 4},\n",
       " 'isolated_cluster': {'constU1': 0.05,\n",
       "  'divider': 2,\n",
       "  'max_div_num': 8,\n",
       "  'merge_threshold': 1.75,\n",
       "  'min_dif': 3.48,\n",
       "  'min_len': 0.24},\n",
       " 'knots': {'min_fuses_num': 15, 'stop_const': 0.24},\n",
       " 'subcluster': {'F_step': 10}}"
      ]
     },
     "execution_count": 10,
     "metadata": {},
     "output_type": "execute_result"
    }
   ],
   "source": [
    "const.config # Вывод параметров"
   ]
  },
  {
   "cell_type": "code",
   "execution_count": null,
   "metadata": {},
   "outputs": [],
   "source": [
    "# const.config['conturs']['min_diff'] = 6.21\n",
    "const.config['isolated_cluster']['divider'] = 1"
   ]
  },
  {
   "cell_type": "code",
   "execution_count": null,
   "metadata": {},
   "outputs": [],
   "source": [
    "# const.save_consts('example2') #Сохранение констант в файл"
   ]
  },
  {
   "cell_type": "markdown",
   "metadata": {},
   "source": [
    "Researching dataset"
   ]
  },
  {
   "cell_type": "code",
   "execution_count": null,
   "metadata": {},
   "outputs": [],
   "source": [
    "# fig = px.scatter_3d(df, x='X1', y='X2', z='F')\n",
    "# fig.show()"
   ]
  },
  {
   "cell_type": "markdown",
   "metadata": {},
   "source": [
    "# Кластеризация"
   ]
  },
  {
   "cell_type": "code",
   "execution_count": null,
   "metadata": {},
   "outputs": [],
   "source": [
    "cluster = Clusters(const.config) "
   ]
  },
  {
   "cell_type": "code",
   "execution_count": null,
   "metadata": {},
   "outputs": [],
   "source": [
    "df = cluster.get_isolated_clusters(df) # Вычисление кластеров\n",
    "df.head()"
   ]
  },
  {
   "cell_type": "code",
   "execution_count": null,
   "metadata": {},
   "outputs": [],
   "source": [
    "set(df['cluster_id'])"
   ]
  },
  {
   "cell_type": "code",
   "execution_count": null,
   "metadata": {},
   "outputs": [],
   "source": [
    "for cluster in set(df['cluster_id']):\n",
    "    plt.scatter(df[df['cluster_id']==cluster]['X1'], df[df['cluster_id']==cluster]['X2'])\n"
   ]
  },
  {
   "cell_type": "code",
   "execution_count": null,
   "metadata": {
    "scrolled": false
   },
   "outputs": [],
   "source": [
    "fig = px.scatter_3d(df, x='X1', y='X2', z='F',\n",
    "              color='cluster_id')\n",
    "fig.show()"
   ]
  },
  {
   "cell_type": "code",
   "execution_count": null,
   "metadata": {},
   "outputs": [],
   "source": [
    "df.head()"
   ]
  },
  {
   "cell_type": "markdown",
   "metadata": {},
   "source": [
    "# Merge I"
   ]
  },
  {
   "cell_type": "code",
   "execution_count": null,
   "metadata": {},
   "outputs": [],
   "source": [
    "Merger = IMerger(const.config)\n",
    "Merger.mergeClusters(df)"
   ]
  },
  {
   "cell_type": "code",
   "execution_count": null,
   "metadata": {},
   "outputs": [],
   "source": [
    "plt.scatter(df['X1'],df['X2'], c=df['cluster_id'])"
   ]
  },
  {
   "cell_type": "code",
   "execution_count": null,
   "metadata": {},
   "outputs": [],
   "source": [
    "fig = px.scatter_3d(df, x='X1', y='X2', z='F',\n",
    "              color='cluster_id')\n",
    "fig.show()"
   ]
  },
  {
   "cell_type": "markdown",
   "metadata": {},
   "source": [
    "# Subcluster"
   ]
  },
  {
   "cell_type": "code",
   "execution_count": 19,
   "metadata": {},
   "outputs": [],
   "source": [
    "const.config['isolated_cluster']['divider']=1"
   ]
  },
  {
   "cell_type": "code",
   "execution_count": 20,
   "metadata": {},
   "outputs": [],
   "source": [
    "sub = Subclusters(const.config)"
   ]
  },
  {
   "cell_type": "code",
   "execution_count": 21,
   "metadata": {},
   "outputs": [
    {
     "name": "stdout",
     "output_type": "stream",
     "text": [
      "161.7585697227778\n"
     ]
    },
    {
     "name": "stderr",
     "output_type": "stream",
     "text": [
      "100%|████████████████████████████████████████████████████████████████████████████████| 206/206 [00:02<00:00, 91.03it/s]\n"
     ]
    },
    {
     "name": "stdout",
     "output_type": "stream",
     "text": [
      "128\n"
     ]
    }
   ],
   "source": [
    "df = sub.subclustering(df, type_of_closed=1)"
   ]
  },
  {
   "cell_type": "code",
   "execution_count": 22,
   "metadata": {},
   "outputs": [
    {
     "data": {
      "text/html": [
       "<div>\n",
       "<style scoped>\n",
       "    .dataframe tbody tr th:only-of-type {\n",
       "        vertical-align: middle;\n",
       "    }\n",
       "\n",
       "    .dataframe tbody tr th {\n",
       "        vertical-align: top;\n",
       "    }\n",
       "\n",
       "    .dataframe thead th {\n",
       "        text-align: right;\n",
       "    }\n",
       "</style>\n",
       "<table border=\"1\" class=\"dataframe\">\n",
       "  <thead>\n",
       "    <tr style=\"text-align: right;\">\n",
       "      <th></th>\n",
       "      <th>id</th>\n",
       "      <th>X1</th>\n",
       "      <th>X2</th>\n",
       "      <th>F</th>\n",
       "      <th>subcluster_id</th>\n",
       "    </tr>\n",
       "  </thead>\n",
       "  <tbody>\n",
       "    <tr>\n",
       "      <th>0</th>\n",
       "      <td>1</td>\n",
       "      <td>6.436438</td>\n",
       "      <td>3.551315</td>\n",
       "      <td>43.932999</td>\n",
       "      <td>1</td>\n",
       "    </tr>\n",
       "    <tr>\n",
       "      <th>1</th>\n",
       "      <td>2</td>\n",
       "      <td>6.617604</td>\n",
       "      <td>3.893796</td>\n",
       "      <td>49.181262</td>\n",
       "      <td>1</td>\n",
       "    </tr>\n",
       "    <tr>\n",
       "      <th>2</th>\n",
       "      <td>3</td>\n",
       "      <td>6.298267</td>\n",
       "      <td>4.205397</td>\n",
       "      <td>61.236805</td>\n",
       "      <td>1</td>\n",
       "    </tr>\n",
       "    <tr>\n",
       "      <th>3</th>\n",
       "      <td>4</td>\n",
       "      <td>6.409608</td>\n",
       "      <td>4.219016</td>\n",
       "      <td>65.478671</td>\n",
       "      <td>1</td>\n",
       "    </tr>\n",
       "    <tr>\n",
       "      <th>4</th>\n",
       "      <td>5</td>\n",
       "      <td>6.591651</td>\n",
       "      <td>4.545726</td>\n",
       "      <td>71.261279</td>\n",
       "      <td>1</td>\n",
       "    </tr>\n",
       "  </tbody>\n",
       "</table>\n",
       "</div>"
      ],
      "text/plain": [
       "   id        X1        X2          F subcluster_id\n",
       "0   1  6.436438  3.551315  43.932999             1\n",
       "1   2  6.617604  3.893796  49.181262             1\n",
       "2   3  6.298267  4.205397  61.236805             1\n",
       "3   4  6.409608  4.219016  65.478671             1\n",
       "4   5  6.591651  4.545726  71.261279             1"
      ]
     },
     "execution_count": 22,
     "metadata": {},
     "output_type": "execute_result"
    }
   ],
   "source": [
    "df.head()"
   ]
  },
  {
   "cell_type": "code",
   "execution_count": 23,
   "metadata": {},
   "outputs": [
    {
     "data": {
      "application/vnd.plotly.v1+json": {
       "config": {
        "plotlyServerURL": "https://plot.ly"
       },
       "data": [
        {
         "customdata": [
          [
           1,
           43.93299911516438
          ],
          [
           2,
           49.18126245579999
          ],
          [
           3,
           61.23680513097451
          ],
          [
           4,
           65.47867087364848
          ],
          [
           5,
           71.26127893212262
          ],
          [
           6,
           74.65210889834043
          ],
          [
           7,
           97.4820802739224
          ],
          [
           8,
           140.23104819138143
          ],
          [
           9,
           138.8145844217632
          ],
          [
           28,
           158.12115710822968
          ],
          [
           29,
           154.40102368250444
          ],
          [
           90,
           105.58238591931871
          ],
          [
           104,
           37.76739477673671
          ],
          [
           105,
           44.46748796669094
          ],
          [
           106,
           67.27474769335463
          ],
          [
           107,
           73.05949642162567
          ],
          [
           108,
           86.60310397793484
          ],
          [
           109,
           68.40765208493463
          ],
          [
           110,
           79.56097249255524
          ],
          [
           132,
           159.01337467718037
          ],
          [
           191,
           143.37395329777794
          ]
         ],
         "hovertemplate": "subcluster_id=1<br>X1=%{x}<br>X2=%{y}<br>id=%{customdata[0]}<br>F=%{customdata[1]}<extra></extra>",
         "legendgroup": "1",
         "marker": {
          "color": "#636efa",
          "symbol": "circle"
         },
         "mode": "markers",
         "name": "1",
         "orientation": "v",
         "showlegend": true,
         "type": "scatter",
         "x": [
          6.436438064094631,
          6.617603790550273,
          6.298267249343526,
          6.409607621543012,
          6.591651383470817,
          6.569373669754997,
          5.997188560200813,
          6.23225641768652,
          6.288359000466092,
          6.228014501153049,
          6.202985196055577,
          6.168554688510901,
          6.822310262916808,
          6.228502404613413,
          6.5203445244957425,
          6.533853439689073,
          6.34821705998926,
          6.372806817579324,
          6.365637257630389,
          6.257188635086709,
          6.1769086442865735
         ],
         "xaxis": "x",
         "y": [
          3.551314958974989,
          3.893796269070809,
          4.2053973066675665,
          4.219015616381802,
          4.545726367592936,
          5.0221801283452105,
          5.412176290923264,
          5.629993624771982,
          5.636211599384738,
          5.83239852689857,
          5.784375339383488,
          5.420033341340179,
          3.431659962699944,
          3.676678852413863,
          4.327964739130412,
          4.503955041436071,
          5.184931636400878,
          4.701986188569234,
          5.023265590358777,
          5.908273633055215,
          5.682398925617926
         ],
         "yaxis": "y"
        },
        {
         "customdata": [
          [
           10,
           143.5317780905844
          ],
          [
           32,
           84.82037417680033
          ],
          [
           33,
           77.18350430222077
          ],
          [
           34,
           59.590486721799266
          ],
          [
           35,
           60.22871032333647
          ],
          [
           36,
           55.918840639564955
          ],
          [
           37,
           49.55462222909755
          ],
          [
           38,
           50.680815075456074
          ],
          [
           39,
           50.73673959000743
          ],
          [
           40,
           37.55144072327345
          ],
          [
           86,
           49.193410539536146
          ],
          [
           87,
           119.64711342704933
          ],
          [
           133,
           138.85694296567476
          ],
          [
           134,
           156.88878370327276
          ],
          [
           135,
           83.73189718494774
          ],
          [
           136,
           56.466894406012884
          ],
          [
           137,
           56.236341683712
          ],
          [
           138,
           80.65776511678133
          ],
          [
           139,
           44.304565043382894
          ],
          [
           140,
           52.63738025711597
          ],
          [
           141,
           49.79205438078914
          ],
          [
           142,
           37.33029994847785
          ],
          [
           143,
           36.067290095298034
          ]
         ],
         "hovertemplate": "subcluster_id=11<br>X1=%{x}<br>X2=%{y}<br>id=%{customdata[0]}<br>F=%{customdata[1]}<extra></extra>",
         "legendgroup": "11",
         "marker": {
          "color": "#EF553B",
          "symbol": "circle"
         },
         "mode": "markers",
         "name": "11",
         "orientation": "v",
         "showlegend": true,
         "type": "scatter",
         "x": [
          6.542567329933236,
          6.962870137640631,
          7.310758366997969,
          7.706491607992135,
          7.723316506313088,
          7.982580630892884,
          8.48268868144498,
          8.752228421882128,
          8.957933531538453,
          9.213032561524328,
          7.470967588418638,
          6.6923307489212185,
          6.577845747776734,
          6.486847961671103,
          7.06009996182429,
          7.709054570172619,
          7.551818329284393,
          7.245724695901502,
          7.879709925259513,
          8.179948096883475,
          8.944322288609374,
          9.41271073990849,
          9.25102618249211
         ],
         "xaxis": "x",
         "y": [
          6.288840929423087,
          6.23229532136485,
          5.778640775135264,
          5.372319142067364,
          5.69120958659508,
          5.813168346825777,
          6.046537959641268,
          5.978838150667727,
          6.000821260930323,
          5.48332441298936,
          6.938874542583894,
          6.133960868901978,
          6.142654876311944,
          6.218306077209286,
          5.838271056361689,
          5.255437563307895,
          6.392623319421385,
          5.8043190717972,
          6.867343789698569,
          5.965588775119891,
          6.130471821329264,
          5.764089623807256,
          6.458327651040758
         ],
         "yaxis": "y"
        },
        {
         "customdata": [
          [
           11,
           93.67412704777031
          ],
          [
           12,
           90.98400978826427
          ],
          [
           13,
           62.900064131944546
          ],
          [
           14,
           56.46373707606819
          ],
          [
           15,
           52.81005448541528
          ],
          [
           16,
           51.347776705545705
          ],
          [
           17,
           54.998332522659126
          ],
          [
           83,
           161.7585697227778
          ],
          [
           85,
           157.98641564628107
          ],
          [
           88,
           150.17816796053967
          ],
          [
           92,
           99.09477529036351
          ],
          [
           112,
           129.84596829050977
          ],
          [
           114,
           93.46971854666364
          ],
          [
           115,
           79.5811799630198
          ],
          [
           116,
           75.22028807814779
          ],
          [
           117,
           54.45393090382491
          ],
          [
           118,
           45.639076151242534
          ],
          [
           119,
           52.15760328680372
          ],
          [
           120,
           33.02133930635933
          ],
          [
           128,
           59.133061211401056
          ],
          [
           130,
           150.3094038003507
          ],
          [
           186,
           161.52987542925297
          ],
          [
           187,
           120.3973557487534
          ],
          [
           189,
           158.62924292003868
          ],
          [
           190,
           117.76157696156582
          ]
         ],
         "hovertemplate": "subcluster_id=12<br>X1=%{x}<br>X2=%{y}<br>id=%{customdata[0]}<br>F=%{customdata[1]}<extra></extra>",
         "legendgroup": "12",
         "marker": {
          "color": "#00cc96",
          "symbol": "circle"
         },
         "mode": "markers",
         "name": "12",
         "orientation": "v",
         "showlegend": true,
         "type": "scatter",
         "x": [
          6.506623389056689,
          6.464976350693669,
          6.542766685576433,
          6.265846951670399,
          6.441311712362733,
          6.239313748146133,
          6.2988820225029425,
          6.323164622219912,
          6.455082622593061,
          6.335671750997629,
          6.155420686433014,
          6.432938004847792,
          6.174368392869117,
          5.859898939963054,
          6.185900308297559,
          6.2159394017735705,
          6.035923324390541,
          6.334313707846043,
          6.262873556599609,
          5.3984735651688975,
          6.226883193859031,
          6.308130471350184,
          6.231877438569657,
          6.479174097156543,
          6.393938468813006
         ],
         "xaxis": "x",
         "y": [
          6.767723090230122,
          6.831188049604418,
          7.183077574276636,
          7.659794928914378,
          7.794808220186818,
          8.466658015717755,
          8.55085083269611,
          6.084847026745483,
          6.276507181712108,
          6.258477193331997,
          6.692209200328694,
          6.433754366981715,
          6.792043438627853,
          6.682341401330444,
          7.0072564750413395,
          7.834065658046266,
          8.120133517746499,
          8.595686089660811,
          9.053998746991379,
          6.733600725776085,
          6.1599120954207125,
          6.120669051841744,
          6.44119439184916,
          6.268469951239958,
          6.530179561994263
         ],
         "yaxis": "y"
        },
        {
         "customdata": [
          [
           18,
           60.5812627873095
          ],
          [
           19,
           64.64137584754062
          ],
          [
           20,
           63.464428991224764
          ],
          [
           21,
           64.25652831213637
          ],
          [
           22,
           60.68946322897522
          ],
          [
           23,
           63.575521143714695
          ],
          [
           24,
           60.57384757326247
          ],
          [
           25,
           74.49799323970274
          ],
          [
           26,
           114.36186189513222
          ],
          [
           27,
           107.13910218463053
          ],
          [
           30,
           147.6313448387842
          ],
          [
           31,
           123.6697985192283
          ],
          [
           84,
           113.18799458253889
          ],
          [
           89,
           127.04984346100372
          ],
          [
           91,
           146.68861346331522
          ],
          [
           111,
           145.84518658234936
          ],
          [
           113,
           157.6384502362569
          ],
          [
           121,
           36.309807725533474
          ],
          [
           122,
           59.420164476482555
          ],
          [
           123,
           54.9931086253258
          ],
          [
           124,
           55.82748400690808
          ],
          [
           125,
           63.720456211962755
          ],
          [
           126,
           51.78970017921621
          ],
          [
           127,
           62.63668796769568
          ],
          [
           129,
           125.91888319314683
          ],
          [
           131,
           138.82403239989605
          ],
          [
           188,
           118.10713063358617
          ],
          [
           192,
           115.35669071272525
          ],
          [
           193,
           132.7320498212589
          ],
          [
           194,
           135.20407966616227
          ],
          [
           195,
           117.38725227355243
          ]
         ],
         "hovertemplate": "subcluster_id=10<br>X1=%{x}<br>X2=%{y}<br>id=%{customdata[0]}<br>F=%{customdata[1]}<extra></extra>",
         "legendgroup": "10",
         "marker": {
          "color": "#ab63fa",
          "symbol": "circle"
         },
         "mode": "markers",
         "name": "10",
         "orientation": "v",
         "showlegend": true,
         "type": "scatter",
         "x": [
          3.7788129360577143,
          3.9957928711467736,
          3.825930851699123,
          4.270350241214104,
          4.511591501312653,
          4.976779031556153,
          4.947856398967908,
          5.385113944708296,
          5.743081319871933,
          5.681436263174117,
          6.44457687350867,
          6.641822511810538,
          5.775529962648372,
          6.6072407393616475,
          6.089637830507263,
          6.46667029018778,
          6.325403190198013,
          3.3988839724581466,
          4.025761868950123,
          3.951236619525332,
          4.207955906768906,
          4.422881408268287,
          4.631595644111009,
          5.08447372970848,
          5.820490906266877,
          6.004457707781809,
          5.9110497170903304,
          6.568403956468687,
          5.906121995525385,
          5.93146304862215,
          5.853251078668777
         ],
         "xaxis": "x",
         "y": [
          5.99478238142261,
          5.971304294710734,
          5.9699600948942795,
          5.990678738399154,
          5.83280941003499,
          6.0988585482359845,
          5.784410669723954,
          6.1684699400997145,
          5.7463744749771815,
          5.876452282141224,
          5.788621540461385,
          5.802524994585747,
          5.68744667508806,
          5.750141043950764,
          5.99262991618854,
          5.782774456950261,
          5.972038087127999,
          6.318577728133679,
          5.826449645127108,
          6.236794659138521,
          6.268491994896307,
          6.002359799885558,
          5.5223700273592415,
          6.327127277933923,
          5.929135310730253,
          6.078220656563501,
          5.6576422174508005,
          5.625052998505983,
          5.870018857511444,
          6.0504832880621535,
          6.13202737535706
         ],
         "yaxis": "y"
        },
        {
         "customdata": [
          [
           41,
           37.06480045644055
          ],
          [
           42,
           36.74497508089445
          ],
          [
           43,
           43.54550600954368
          ],
          [
           44,
           45.94756841413606
          ],
          [
           45,
           43.28486851551992
          ],
          [
           46,
           45.88036636830004
          ],
          [
           47,
           65.56982661974223
          ],
          [
           48,
           62.781446147854794
          ],
          [
           49,
           95.28641665398666
          ],
          [
           73,
           111.88140179855017
          ],
          [
           93,
           93.55799543849275
          ],
          [
           144,
           30.087674123429267
          ],
          [
           145,
           45.740842418878515
          ],
          [
           146,
           45.1854844992733
          ],
          [
           147,
           45.627949844286
          ],
          [
           148,
           46.84941501801242
          ],
          [
           149,
           42.91577484688564
          ],
          [
           150,
           48.681595577563826
          ],
          [
           151,
           51.57342037527002
          ],
          [
           152,
           61.88491799243166
          ],
          [
           196,
           100.15313894538806
          ],
          [
           198,
           114.01595078099089
          ],
          [
           200,
           102.10493262627857
          ]
         ],
         "hovertemplate": "subcluster_id=2<br>X1=%{x}<br>X2=%{y}<br>id=%{customdata[0]}<br>F=%{customdata[1]}<extra></extra>",
         "legendgroup": "2",
         "marker": {
          "color": "#FFA15A",
          "symbol": "circle"
         },
         "mode": "markers",
         "name": "2",
         "orientation": "v",
         "showlegend": true,
         "type": "scatter",
         "x": [
          11.563311284311984,
          11.524362461327659,
          11.974258186135293,
          12.08406783376315,
          12.35527580511942,
          12.642092521090449,
          13.122004703634554,
          13.057935064684987,
          13.363026135369276,
          13.838917370992357,
          13.394441901118032,
          11.209606728243045,
          11.973347519214776,
          12.020549383870504,
          12.256329956401572,
          12.367034194487905,
          12.681176553690072,
          13.504195329909425,
          12.795612762341879,
          13.26100060014899,
          13.468326425935132,
          13.93860482987011,
          13.60401375193879
         ],
         "xaxis": "x",
         "y": [
          3.2868267931681467,
          2.927422770547193,
          2.613850355730975,
          2.3723448838300296,
          1.864792558495555,
          1.5993157660809563,
          0.872495915077099,
          1.0550843143130804,
          0.43176821493206696,
          0.3436941499800269,
          0.502086301842039,
          3.7616123564023645,
          3.3476303619874455,
          3.365766611815271,
          2.585420387703557,
          2.316749329538687,
          2.260248650515612,
          1.6183224683458575,
          1.223327261814012,
          1.1778460292740522,
          0.4037780445814823,
          0.37812748999089935,
          0.3658715260295164
         ],
         "yaxis": "y"
        },
        {
         "customdata": [
          [
           50,
           112.74138664237641
          ],
          [
           51,
           114.99211728806107
          ],
          [
           154,
           90.1831307860062
          ],
          [
           176,
           110.21432184390954
          ],
          [
           202,
           108.85610158702322
          ],
          [
           205,
           102.61585953385999
          ]
         ],
         "hovertemplate": "subcluster_id=9<br>X1=%{x}<br>X2=%{y}<br>id=%{customdata[0]}<br>F=%{customdata[1]}<extra></extra>",
         "legendgroup": "9",
         "marker": {
          "color": "#19d3f3",
          "symbol": "circle"
         },
         "mode": "markers",
         "name": "9",
         "orientation": "v",
         "showlegend": true,
         "type": "scatter",
         "x": [
          13.812371665607785,
          13.881878320887042,
          14.059463340229506,
          13.997619083991395,
          13.842114402443658,
          13.947076352932678
         ],
         "xaxis": "x",
         "y": [
          0.1838758662909809,
          0.08842865995827014,
          -0.07986575552341067,
          0.14575974881231402,
          0.034640379100423724,
          -0.025324098110177863
         ],
         "yaxis": "y"
        },
        {
         "customdata": [
          [
           52,
           60.200366783039954
          ],
          [
           53,
           59.76884064951918
          ],
          [
           54,
           53.602764165057295
          ],
          [
           55,
           48.302923633737024
          ],
          [
           56,
           45.60819342358913
          ],
          [
           57,
           40.97096012556584
          ],
          [
           58,
           41.34231607013662
          ],
          [
           59,
           43.794195600014106
          ],
          [
           60,
           32.44931807562359
          ],
          [
           61,
           27.70149436213757
          ],
          [
           155,
           65.91390866070623
          ],
          [
           157,
           52.58741509712602
          ],
          [
           158,
           49.07546471381593
          ],
          [
           159,
           46.79517662811453
          ],
          [
           160,
           43.59705773039899
          ],
          [
           161,
           34.33265477577909
          ],
          [
           162,
           44.12291259259848
          ],
          [
           163,
           37.69980592185022
          ],
          [
           164,
           42.90103598261578
          ]
         ],
         "hovertemplate": "subcluster_id=4<br>X1=%{x}<br>X2=%{y}<br>id=%{customdata[0]}<br>F=%{customdata[1]}<extra></extra>",
         "legendgroup": "4",
         "marker": {
          "color": "#FF6692",
          "symbol": "circle"
         },
         "mode": "markers",
         "name": "4",
         "orientation": "v",
         "showlegend": true,
         "type": "scatter",
         "x": [
          14.372422593368718,
          14.686205616348845,
          14.852246094329766,
          14.763379303717123,
          15.119985907236096,
          15.34127636759653,
          16.13442183535222,
          16.263061409138064,
          16.276918106394877,
          16.4804977398677,
          13.884961833916003,
          15.0751612922326,
          15.179819553014983,
          15.217007377681169,
          15.880705216790707,
          15.260278229032687,
          15.885969975519242,
          16.393632195476282,
          16.253797955430503
         ],
         "xaxis": "x",
         "y": [
          -0.5784216824347648,
          -0.5630630952045775,
          -0.9714154327297018,
          -1.2706440940327923,
          -1.6181257255089396,
          -1.84719194964491,
          -2.237513600540024,
          -2.7865024865992924,
          -3.2799042153167646,
          -3.6436339743523902,
          -0.6046973649794546,
          -0.6703829645034626,
          -0.9955086484077811,
          -1.402929470989151,
          -2.4081573250629518,
          -2.493603624487909,
          -2.248818282277531,
          -2.454660005873688,
          -2.872955612504773
         ],
         "yaxis": "y"
        },
        {
         "customdata": [
          [
           62,
           34.90466683948607
          ],
          [
           63,
           35.76390767106747
          ],
          [
           64,
           41.55780205592867
          ],
          [
           65,
           38.199151919210536
          ],
          [
           66,
           48.05919639644686
          ],
          [
           67,
           46.59558875078405
          ],
          [
           68,
           50.188245167490884
          ],
          [
           69,
           55.01265550739223
          ],
          [
           70,
           63.04522391354138
          ],
          [
           165,
           37.675607071577446
          ],
          [
           166,
           40.67453116484285
          ],
          [
           167,
           38.8206762034837
          ],
          [
           168,
           43.92143172418007
          ],
          [
           169,
           47.42972934477777
          ],
          [
           170,
           47.402780312294226
          ],
          [
           171,
           38.95634017570861
          ],
          [
           172,
           71.47394782003586
          ],
          [
           173,
           70.12070807684125
          ]
         ],
         "hovertemplate": "subcluster_id=3<br>X1=%{x}<br>X2=%{y}<br>id=%{customdata[0]}<br>F=%{customdata[1]}<extra></extra>",
         "legendgroup": "3",
         "marker": {
          "color": "#B6E880",
          "symbol": "circle"
         },
         "mode": "markers",
         "name": "3",
         "orientation": "v",
         "showlegend": true,
         "type": "scatter",
         "x": [
          11.153578890210726,
          11.48500784874272,
          11.561241860439265,
          12.159106608884347,
          12.052882238626998,
          12.381851618007314,
          12.944215818325379,
          12.99415478737188,
          13.044902371937582,
          11.165161455068313,
          11.394398179257568,
          11.51079015546835,
          11.939546514797645,
          12.13890713080873,
          12.464805698284172,
          12.189436079669164,
          13.061535252377272,
          13.011936619449795
         ],
         "xaxis": "x",
         "y": [
          -3.273950659228819,
          -3.204038414835441,
          -2.654428432816818,
          -2.591276006986305,
          -2.2631585346850396,
          -1.5058932832766556,
          -1.1797588462163318,
          -0.9707818858080242,
          -0.6462015308649147,
          -3.0448394601993067,
          -2.799288561293881,
          -2.352384720817367,
          -2.065691945209194,
          -2.1802691872986997,
          -1.453348777579661,
          -0.37514254437634353,
          -0.45374166944240457,
          -0.4475988699966828
         ],
         "yaxis": "y"
        },
        {
         "customdata": [
          [
           71,
           70.80760754120999
          ],
          [
           103,
           79.75519784935352
          ],
          [
           174,
           78.4943737974187
          ]
         ],
         "hovertemplate": "subcluster_id=8<br>X1=%{x}<br>X2=%{y}<br>id=%{customdata[0]}<br>F=%{customdata[1]}<extra></extra>",
         "legendgroup": "8",
         "marker": {
          "color": "#FF97FF",
          "symbol": "circle"
         },
         "mode": "markers",
         "name": "8",
         "orientation": "v",
         "showlegend": true,
         "type": "scatter",
         "x": [
          13.16523836280431,
          13.226346820231583,
          13.31222225651069
         ],
         "xaxis": "x",
         "y": [
          -0.06695862944608062,
          0.31814255506941747,
          0.011387903240345203
         ],
         "yaxis": "y"
        },
        {
         "customdata": [
          [
           72,
           97.24305878706744
          ],
          [
           99,
           68.00874347520669
          ],
          [
           201,
           84.99419180058851
          ]
         ],
         "hovertemplate": "subcluster_id=7<br>X1=%{x}<br>X2=%{y}<br>id=%{customdata[0]}<br>F=%{customdata[1]}<extra></extra>",
         "legendgroup": "7",
         "marker": {
          "color": "#FECB52",
          "symbol": "circle"
         },
         "mode": "markers",
         "name": "7",
         "orientation": "v",
         "showlegend": true,
         "type": "scatter",
         "x": [
          13.578931750579024,
          13.598767037624523,
          13.709751394099255
         ],
         "xaxis": "x",
         "y": [
          0.18626879446895975,
          1.0397040740528114,
          0.7050784629300203
         ],
         "yaxis": "y"
        },
        {
         "customdata": [
          [
           74,
           88.50265037243429
          ],
          [
           100,
           102.3348240307294
          ],
          [
           101,
           90.45126528463246
          ],
          [
           102,
           66.8820483976933
          ],
          [
           153,
           74.42751891870815
          ],
          [
           156,
           66.06226704250167
          ],
          [
           175,
           112.1320081490741
          ],
          [
           177,
           86.23841113991114
          ],
          [
           197,
           111.3214730298516
          ],
          [
           199,
           78.30498982761873
          ],
          [
           203,
           96.5724151369173
          ],
          [
           204,
           96.98895559462585
          ],
          [
           206,
           85.74578092618877
          ]
         ],
         "hovertemplate": "subcluster_id=6<br>X1=%{x}<br>X2=%{y}<br>id=%{customdata[0]}<br>F=%{customdata[1]}<extra></extra>",
         "legendgroup": "6",
         "marker": {
          "color": "#636efa",
          "symbol": "circle"
         },
         "mode": "markers",
         "name": "6",
         "orientation": "v",
         "showlegend": true,
         "type": "scatter",
         "x": [
          14.318416370103558,
          14.162273227875433,
          14.197273233100713,
          14.876722518622941,
          13.953990345905122,
          14.906367442455485,
          14.065535575910543,
          14.339261206579133,
          14.064429341476465,
          14.50605824572347,
          14.304388084293436,
          14.086965594829852,
          14.423955288316982
         ],
         "xaxis": "x",
         "y": [
          0.23835848261283377,
          0.5942959593382034,
          0.7921704284620101,
          -0.2978373788909822,
          0.9722478066457033,
          -0.2920115511725109,
          0.3316363026411911,
          0.7613641390861471,
          0.4223691236050461,
          0.3648786084998904,
          0.46673781438938156,
          0.70207420226118,
          0.6137293085383495
         ],
         "yaxis": "y"
        },
        {
         "customdata": [
          [
           75,
           57.27593760425185
          ],
          [
           76,
           59.58608551423518
          ],
          [
           77,
           57.03805847651979
          ],
          [
           78,
           43.29595873971667
          ],
          [
           79,
           39.957138364784164
          ],
          [
           80,
           38.28308100414561
          ],
          [
           81,
           45.640849783323574
          ],
          [
           82,
           37.5479292690917
          ],
          [
           95,
           53.20536207182701
          ],
          [
           178,
           50.55462262160842
          ],
          [
           179,
           49.23939944180566
          ],
          [
           180,
           58.475360612172764
          ],
          [
           181,
           36.642636849921445
          ],
          [
           182,
           37.39548723509126
          ],
          [
           183,
           37.970347651869616
          ],
          [
           184,
           44.90485364918278
          ],
          [
           185,
           35.146091026576016
          ]
         ],
         "hovertemplate": "subcluster_id=0<br>X1=%{x}<br>X2=%{y}<br>id=%{customdata[0]}<br>F=%{customdata[1]}<extra></extra>",
         "legendgroup": "0",
         "marker": {
          "color": "#EF553B",
          "symbol": "circle"
         },
         "mode": "markers",
         "name": "0",
         "orientation": "v",
         "showlegend": true,
         "type": "scatter",
         "x": [
          14.62025127861276,
          14.69781454552901,
          15.055680783550597,
          15.285149181956962,
          15.63726710189955,
          15.794373649126404,
          15.953357972534532,
          16.29135430120579,
          15.166835377441009,
          14.365338800146182,
          14.6062088534503,
          15.097767301449847,
          14.920985576993836,
          15.930974469745935,
          15.780700535702875,
          16.032145659284947,
          16.372559849095204
         ],
         "xaxis": "x",
         "y": [
          1.4591999157929947,
          1.2542656080216166,
          1.2931008634363337,
          1.7041838966540588,
          2.274559548057315,
          2.608249020760892,
          3.120087573120146,
          3.4604681767644356,
          1.0040596822231038,
          1.736856727631683,
          1.824178207052462,
          1.1598147988069643,
          2.4755134194945456,
          2.194008202763675,
          3.2943937564855608,
          3.129371446173023,
          3.5824406540565272
         ],
         "yaxis": "y"
        },
        {
         "customdata": [
          [
           94,
           70.45303789998042
          ],
          [
           96,
           56.46088650857361
          ],
          [
           97,
           58.47536540254704
          ],
          [
           98,
           68.58497163916459
          ]
         ],
         "hovertemplate": "subcluster_id=5<br>X1=%{x}<br>X2=%{y}<br>id=%{customdata[0]}<br>F=%{customdata[1]}<extra></extra>",
         "legendgroup": "5",
         "marker": {
          "color": "#00cc96",
          "symbol": "circle"
         },
         "mode": "markers",
         "name": "5",
         "orientation": "v",
         "showlegend": true,
         "type": "scatter",
         "x": [
          13.641324948955358,
          13.632978149584552,
          13.537851326270477,
          13.637776367244912
         ],
         "xaxis": "x",
         "y": [
          -0.6562548947448993,
          -1.1635383254413985,
          -1.1073743024369775,
          -0.7499371754101994
         ],
         "yaxis": "y"
        }
       ],
       "layout": {
        "legend": {
         "title": {
          "text": "subcluster_id"
         },
         "tracegroupgap": 0
        },
        "margin": {
         "t": 60
        },
        "template": {
         "data": {
          "bar": [
           {
            "error_x": {
             "color": "#2a3f5f"
            },
            "error_y": {
             "color": "#2a3f5f"
            },
            "marker": {
             "line": {
              "color": "#E5ECF6",
              "width": 0.5
             }
            },
            "type": "bar"
           }
          ],
          "barpolar": [
           {
            "marker": {
             "line": {
              "color": "#E5ECF6",
              "width": 0.5
             }
            },
            "type": "barpolar"
           }
          ],
          "carpet": [
           {
            "aaxis": {
             "endlinecolor": "#2a3f5f",
             "gridcolor": "white",
             "linecolor": "white",
             "minorgridcolor": "white",
             "startlinecolor": "#2a3f5f"
            },
            "baxis": {
             "endlinecolor": "#2a3f5f",
             "gridcolor": "white",
             "linecolor": "white",
             "minorgridcolor": "white",
             "startlinecolor": "#2a3f5f"
            },
            "type": "carpet"
           }
          ],
          "choropleth": [
           {
            "colorbar": {
             "outlinewidth": 0,
             "ticks": ""
            },
            "type": "choropleth"
           }
          ],
          "contour": [
           {
            "colorbar": {
             "outlinewidth": 0,
             "ticks": ""
            },
            "colorscale": [
             [
              0,
              "#0d0887"
             ],
             [
              0.1111111111111111,
              "#46039f"
             ],
             [
              0.2222222222222222,
              "#7201a8"
             ],
             [
              0.3333333333333333,
              "#9c179e"
             ],
             [
              0.4444444444444444,
              "#bd3786"
             ],
             [
              0.5555555555555556,
              "#d8576b"
             ],
             [
              0.6666666666666666,
              "#ed7953"
             ],
             [
              0.7777777777777778,
              "#fb9f3a"
             ],
             [
              0.8888888888888888,
              "#fdca26"
             ],
             [
              1,
              "#f0f921"
             ]
            ],
            "type": "contour"
           }
          ],
          "contourcarpet": [
           {
            "colorbar": {
             "outlinewidth": 0,
             "ticks": ""
            },
            "type": "contourcarpet"
           }
          ],
          "heatmap": [
           {
            "colorbar": {
             "outlinewidth": 0,
             "ticks": ""
            },
            "colorscale": [
             [
              0,
              "#0d0887"
             ],
             [
              0.1111111111111111,
              "#46039f"
             ],
             [
              0.2222222222222222,
              "#7201a8"
             ],
             [
              0.3333333333333333,
              "#9c179e"
             ],
             [
              0.4444444444444444,
              "#bd3786"
             ],
             [
              0.5555555555555556,
              "#d8576b"
             ],
             [
              0.6666666666666666,
              "#ed7953"
             ],
             [
              0.7777777777777778,
              "#fb9f3a"
             ],
             [
              0.8888888888888888,
              "#fdca26"
             ],
             [
              1,
              "#f0f921"
             ]
            ],
            "type": "heatmap"
           }
          ],
          "heatmapgl": [
           {
            "colorbar": {
             "outlinewidth": 0,
             "ticks": ""
            },
            "colorscale": [
             [
              0,
              "#0d0887"
             ],
             [
              0.1111111111111111,
              "#46039f"
             ],
             [
              0.2222222222222222,
              "#7201a8"
             ],
             [
              0.3333333333333333,
              "#9c179e"
             ],
             [
              0.4444444444444444,
              "#bd3786"
             ],
             [
              0.5555555555555556,
              "#d8576b"
             ],
             [
              0.6666666666666666,
              "#ed7953"
             ],
             [
              0.7777777777777778,
              "#fb9f3a"
             ],
             [
              0.8888888888888888,
              "#fdca26"
             ],
             [
              1,
              "#f0f921"
             ]
            ],
            "type": "heatmapgl"
           }
          ],
          "histogram": [
           {
            "marker": {
             "colorbar": {
              "outlinewidth": 0,
              "ticks": ""
             }
            },
            "type": "histogram"
           }
          ],
          "histogram2d": [
           {
            "colorbar": {
             "outlinewidth": 0,
             "ticks": ""
            },
            "colorscale": [
             [
              0,
              "#0d0887"
             ],
             [
              0.1111111111111111,
              "#46039f"
             ],
             [
              0.2222222222222222,
              "#7201a8"
             ],
             [
              0.3333333333333333,
              "#9c179e"
             ],
             [
              0.4444444444444444,
              "#bd3786"
             ],
             [
              0.5555555555555556,
              "#d8576b"
             ],
             [
              0.6666666666666666,
              "#ed7953"
             ],
             [
              0.7777777777777778,
              "#fb9f3a"
             ],
             [
              0.8888888888888888,
              "#fdca26"
             ],
             [
              1,
              "#f0f921"
             ]
            ],
            "type": "histogram2d"
           }
          ],
          "histogram2dcontour": [
           {
            "colorbar": {
             "outlinewidth": 0,
             "ticks": ""
            },
            "colorscale": [
             [
              0,
              "#0d0887"
             ],
             [
              0.1111111111111111,
              "#46039f"
             ],
             [
              0.2222222222222222,
              "#7201a8"
             ],
             [
              0.3333333333333333,
              "#9c179e"
             ],
             [
              0.4444444444444444,
              "#bd3786"
             ],
             [
              0.5555555555555556,
              "#d8576b"
             ],
             [
              0.6666666666666666,
              "#ed7953"
             ],
             [
              0.7777777777777778,
              "#fb9f3a"
             ],
             [
              0.8888888888888888,
              "#fdca26"
             ],
             [
              1,
              "#f0f921"
             ]
            ],
            "type": "histogram2dcontour"
           }
          ],
          "mesh3d": [
           {
            "colorbar": {
             "outlinewidth": 0,
             "ticks": ""
            },
            "type": "mesh3d"
           }
          ],
          "parcoords": [
           {
            "line": {
             "colorbar": {
              "outlinewidth": 0,
              "ticks": ""
             }
            },
            "type": "parcoords"
           }
          ],
          "pie": [
           {
            "automargin": true,
            "type": "pie"
           }
          ],
          "scatter": [
           {
            "marker": {
             "colorbar": {
              "outlinewidth": 0,
              "ticks": ""
             }
            },
            "type": "scatter"
           }
          ],
          "scatter3d": [
           {
            "line": {
             "colorbar": {
              "outlinewidth": 0,
              "ticks": ""
             }
            },
            "marker": {
             "colorbar": {
              "outlinewidth": 0,
              "ticks": ""
             }
            },
            "type": "scatter3d"
           }
          ],
          "scattercarpet": [
           {
            "marker": {
             "colorbar": {
              "outlinewidth": 0,
              "ticks": ""
             }
            },
            "type": "scattercarpet"
           }
          ],
          "scattergeo": [
           {
            "marker": {
             "colorbar": {
              "outlinewidth": 0,
              "ticks": ""
             }
            },
            "type": "scattergeo"
           }
          ],
          "scattergl": [
           {
            "marker": {
             "colorbar": {
              "outlinewidth": 0,
              "ticks": ""
             }
            },
            "type": "scattergl"
           }
          ],
          "scattermapbox": [
           {
            "marker": {
             "colorbar": {
              "outlinewidth": 0,
              "ticks": ""
             }
            },
            "type": "scattermapbox"
           }
          ],
          "scatterpolar": [
           {
            "marker": {
             "colorbar": {
              "outlinewidth": 0,
              "ticks": ""
             }
            },
            "type": "scatterpolar"
           }
          ],
          "scatterpolargl": [
           {
            "marker": {
             "colorbar": {
              "outlinewidth": 0,
              "ticks": ""
             }
            },
            "type": "scatterpolargl"
           }
          ],
          "scatterternary": [
           {
            "marker": {
             "colorbar": {
              "outlinewidth": 0,
              "ticks": ""
             }
            },
            "type": "scatterternary"
           }
          ],
          "surface": [
           {
            "colorbar": {
             "outlinewidth": 0,
             "ticks": ""
            },
            "colorscale": [
             [
              0,
              "#0d0887"
             ],
             [
              0.1111111111111111,
              "#46039f"
             ],
             [
              0.2222222222222222,
              "#7201a8"
             ],
             [
              0.3333333333333333,
              "#9c179e"
             ],
             [
              0.4444444444444444,
              "#bd3786"
             ],
             [
              0.5555555555555556,
              "#d8576b"
             ],
             [
              0.6666666666666666,
              "#ed7953"
             ],
             [
              0.7777777777777778,
              "#fb9f3a"
             ],
             [
              0.8888888888888888,
              "#fdca26"
             ],
             [
              1,
              "#f0f921"
             ]
            ],
            "type": "surface"
           }
          ],
          "table": [
           {
            "cells": {
             "fill": {
              "color": "#EBF0F8"
             },
             "line": {
              "color": "white"
             }
            },
            "header": {
             "fill": {
              "color": "#C8D4E3"
             },
             "line": {
              "color": "white"
             }
            },
            "type": "table"
           }
          ]
         },
         "layout": {
          "annotationdefaults": {
           "arrowcolor": "#2a3f5f",
           "arrowhead": 0,
           "arrowwidth": 1
          },
          "autotypenumbers": "strict",
          "coloraxis": {
           "colorbar": {
            "outlinewidth": 0,
            "ticks": ""
           }
          },
          "colorscale": {
           "diverging": [
            [
             0,
             "#8e0152"
            ],
            [
             0.1,
             "#c51b7d"
            ],
            [
             0.2,
             "#de77ae"
            ],
            [
             0.3,
             "#f1b6da"
            ],
            [
             0.4,
             "#fde0ef"
            ],
            [
             0.5,
             "#f7f7f7"
            ],
            [
             0.6,
             "#e6f5d0"
            ],
            [
             0.7,
             "#b8e186"
            ],
            [
             0.8,
             "#7fbc41"
            ],
            [
             0.9,
             "#4d9221"
            ],
            [
             1,
             "#276419"
            ]
           ],
           "sequential": [
            [
             0,
             "#0d0887"
            ],
            [
             0.1111111111111111,
             "#46039f"
            ],
            [
             0.2222222222222222,
             "#7201a8"
            ],
            [
             0.3333333333333333,
             "#9c179e"
            ],
            [
             0.4444444444444444,
             "#bd3786"
            ],
            [
             0.5555555555555556,
             "#d8576b"
            ],
            [
             0.6666666666666666,
             "#ed7953"
            ],
            [
             0.7777777777777778,
             "#fb9f3a"
            ],
            [
             0.8888888888888888,
             "#fdca26"
            ],
            [
             1,
             "#f0f921"
            ]
           ],
           "sequentialminus": [
            [
             0,
             "#0d0887"
            ],
            [
             0.1111111111111111,
             "#46039f"
            ],
            [
             0.2222222222222222,
             "#7201a8"
            ],
            [
             0.3333333333333333,
             "#9c179e"
            ],
            [
             0.4444444444444444,
             "#bd3786"
            ],
            [
             0.5555555555555556,
             "#d8576b"
            ],
            [
             0.6666666666666666,
             "#ed7953"
            ],
            [
             0.7777777777777778,
             "#fb9f3a"
            ],
            [
             0.8888888888888888,
             "#fdca26"
            ],
            [
             1,
             "#f0f921"
            ]
           ]
          },
          "colorway": [
           "#636efa",
           "#EF553B",
           "#00cc96",
           "#ab63fa",
           "#FFA15A",
           "#19d3f3",
           "#FF6692",
           "#B6E880",
           "#FF97FF",
           "#FECB52"
          ],
          "font": {
           "color": "#2a3f5f"
          },
          "geo": {
           "bgcolor": "white",
           "lakecolor": "white",
           "landcolor": "#E5ECF6",
           "showlakes": true,
           "showland": true,
           "subunitcolor": "white"
          },
          "hoverlabel": {
           "align": "left"
          },
          "hovermode": "closest",
          "mapbox": {
           "style": "light"
          },
          "paper_bgcolor": "white",
          "plot_bgcolor": "#E5ECF6",
          "polar": {
           "angularaxis": {
            "gridcolor": "white",
            "linecolor": "white",
            "ticks": ""
           },
           "bgcolor": "#E5ECF6",
           "radialaxis": {
            "gridcolor": "white",
            "linecolor": "white",
            "ticks": ""
           }
          },
          "scene": {
           "xaxis": {
            "backgroundcolor": "#E5ECF6",
            "gridcolor": "white",
            "gridwidth": 2,
            "linecolor": "white",
            "showbackground": true,
            "ticks": "",
            "zerolinecolor": "white"
           },
           "yaxis": {
            "backgroundcolor": "#E5ECF6",
            "gridcolor": "white",
            "gridwidth": 2,
            "linecolor": "white",
            "showbackground": true,
            "ticks": "",
            "zerolinecolor": "white"
           },
           "zaxis": {
            "backgroundcolor": "#E5ECF6",
            "gridcolor": "white",
            "gridwidth": 2,
            "linecolor": "white",
            "showbackground": true,
            "ticks": "",
            "zerolinecolor": "white"
           }
          },
          "shapedefaults": {
           "line": {
            "color": "#2a3f5f"
           }
          },
          "ternary": {
           "aaxis": {
            "gridcolor": "white",
            "linecolor": "white",
            "ticks": ""
           },
           "baxis": {
            "gridcolor": "white",
            "linecolor": "white",
            "ticks": ""
           },
           "bgcolor": "#E5ECF6",
           "caxis": {
            "gridcolor": "white",
            "linecolor": "white",
            "ticks": ""
           }
          },
          "title": {
           "x": 0.05
          },
          "xaxis": {
           "automargin": true,
           "gridcolor": "white",
           "linecolor": "white",
           "ticks": "",
           "title": {
            "standoff": 15
           },
           "zerolinecolor": "white",
           "zerolinewidth": 2
          },
          "yaxis": {
           "automargin": true,
           "gridcolor": "white",
           "linecolor": "white",
           "ticks": "",
           "title": {
            "standoff": 15
           },
           "zerolinecolor": "white",
           "zerolinewidth": 2
          }
         }
        },
        "xaxis": {
         "anchor": "y",
         "domain": [
          0,
          1
         ],
         "title": {
          "text": "X1"
         }
        },
        "yaxis": {
         "anchor": "x",
         "domain": [
          0,
          1
         ],
         "title": {
          "text": "X2"
         }
        }
       }
      },
      "text/html": [
       "<div>                            <div id=\"0250ab3f-9377-4317-ad49-010a28ecdfb5\" class=\"plotly-graph-div\" style=\"height:525px; width:100%;\"></div>            <script type=\"text/javascript\">                require([\"plotly\"], function(Plotly) {                    window.PLOTLYENV=window.PLOTLYENV || {};                                    if (document.getElementById(\"0250ab3f-9377-4317-ad49-010a28ecdfb5\")) {                    Plotly.newPlot(                        \"0250ab3f-9377-4317-ad49-010a28ecdfb5\",                        [{\"customdata\": [[1.0, 43.93299911516438], [2.0, 49.18126245579999], [3.0, 61.23680513097451], [4.0, 65.47867087364848], [5.0, 71.26127893212262], [6.0, 74.65210889834043], [7.0, 97.4820802739224], [8.0, 140.23104819138143], [9.0, 138.8145844217632], [28.0, 158.12115710822968], [29.0, 154.40102368250444], [90.0, 105.58238591931871], [104.0, 37.76739477673671], [105.0, 44.46748796669094], [106.0, 67.27474769335463], [107.0, 73.05949642162567], [108.0, 86.60310397793484], [109.0, 68.40765208493463], [110.0, 79.56097249255524], [132.0, 159.01337467718037], [191.0, 143.37395329777794]], \"hovertemplate\": \"subcluster_id=1<br>X1=%{x}<br>X2=%{y}<br>id=%{customdata[0]}<br>F=%{customdata[1]}<extra></extra>\", \"legendgroup\": \"1\", \"marker\": {\"color\": \"#636efa\", \"symbol\": \"circle\"}, \"mode\": \"markers\", \"name\": \"1\", \"orientation\": \"v\", \"showlegend\": true, \"type\": \"scatter\", \"x\": [6.436438064094631, 6.617603790550273, 6.298267249343526, 6.409607621543012, 6.591651383470817, 6.569373669754997, 5.997188560200813, 6.23225641768652, 6.288359000466092, 6.228014501153049, 6.202985196055577, 6.168554688510901, 6.822310262916808, 6.228502404613413, 6.5203445244957425, 6.533853439689073, 6.34821705998926, 6.372806817579324, 6.365637257630389, 6.257188635086709, 6.1769086442865735], \"xaxis\": \"x\", \"y\": [3.551314958974989, 3.893796269070809, 4.2053973066675665, 4.219015616381802, 4.545726367592936, 5.0221801283452105, 5.412176290923264, 5.629993624771982, 5.636211599384738, 5.83239852689857, 5.784375339383488, 5.420033341340179, 3.431659962699944, 3.676678852413863, 4.327964739130412, 4.503955041436071, 5.184931636400878, 4.701986188569234, 5.023265590358777, 5.908273633055215, 5.682398925617926], \"yaxis\": \"y\"}, {\"customdata\": [[10.0, 143.5317780905844], [32.0, 84.82037417680033], [33.0, 77.18350430222077], [34.0, 59.590486721799266], [35.0, 60.22871032333647], [36.0, 55.918840639564955], [37.0, 49.55462222909755], [38.0, 50.680815075456074], [39.0, 50.73673959000743], [40.0, 37.55144072327345], [86.0, 49.193410539536146], [87.0, 119.64711342704933], [133.0, 138.85694296567476], [134.0, 156.88878370327276], [135.0, 83.73189718494774], [136.0, 56.466894406012884], [137.0, 56.236341683712], [138.0, 80.65776511678133], [139.0, 44.304565043382894], [140.0, 52.63738025711597], [141.0, 49.79205438078914], [142.0, 37.33029994847785], [143.0, 36.067290095298034]], \"hovertemplate\": \"subcluster_id=11<br>X1=%{x}<br>X2=%{y}<br>id=%{customdata[0]}<br>F=%{customdata[1]}<extra></extra>\", \"legendgroup\": \"11\", \"marker\": {\"color\": \"#EF553B\", \"symbol\": \"circle\"}, \"mode\": \"markers\", \"name\": \"11\", \"orientation\": \"v\", \"showlegend\": true, \"type\": \"scatter\", \"x\": [6.542567329933236, 6.962870137640631, 7.310758366997969, 7.706491607992135, 7.723316506313088, 7.982580630892884, 8.48268868144498, 8.752228421882128, 8.957933531538453, 9.213032561524328, 7.470967588418638, 6.6923307489212185, 6.577845747776734, 6.486847961671103, 7.06009996182429, 7.709054570172619, 7.551818329284393, 7.245724695901502, 7.879709925259513, 8.179948096883475, 8.944322288609374, 9.41271073990849, 9.25102618249211], \"xaxis\": \"x\", \"y\": [6.288840929423087, 6.23229532136485, 5.778640775135264, 5.372319142067364, 5.69120958659508, 5.813168346825777, 6.046537959641268, 5.978838150667727, 6.000821260930323, 5.48332441298936, 6.938874542583894, 6.133960868901978, 6.142654876311944, 6.218306077209286, 5.838271056361689, 5.255437563307895, 6.392623319421385, 5.8043190717972, 6.867343789698569, 5.965588775119891, 6.130471821329264, 5.764089623807256, 6.458327651040758], \"yaxis\": \"y\"}, {\"customdata\": [[11.0, 93.67412704777031], [12.0, 90.98400978826427], [13.0, 62.900064131944546], [14.0, 56.46373707606819], [15.0, 52.81005448541528], [16.0, 51.347776705545705], [17.0, 54.998332522659126], [83.0, 161.7585697227778], [85.0, 157.98641564628107], [88.0, 150.17816796053967], [92.0, 99.09477529036351], [112.0, 129.84596829050977], [114.0, 93.46971854666364], [115.0, 79.5811799630198], [116.0, 75.22028807814779], [117.0, 54.45393090382491], [118.0, 45.639076151242534], [119.0, 52.15760328680372], [120.0, 33.02133930635933], [128.0, 59.133061211401056], [130.0, 150.3094038003507], [186.0, 161.52987542925297], [187.0, 120.3973557487534], [189.0, 158.62924292003868], [190.0, 117.76157696156582]], \"hovertemplate\": \"subcluster_id=12<br>X1=%{x}<br>X2=%{y}<br>id=%{customdata[0]}<br>F=%{customdata[1]}<extra></extra>\", \"legendgroup\": \"12\", \"marker\": {\"color\": \"#00cc96\", \"symbol\": \"circle\"}, \"mode\": \"markers\", \"name\": \"12\", \"orientation\": \"v\", \"showlegend\": true, \"type\": \"scatter\", \"x\": [6.506623389056689, 6.464976350693669, 6.542766685576433, 6.265846951670399, 6.441311712362733, 6.239313748146133, 6.2988820225029425, 6.323164622219912, 6.455082622593061, 6.335671750997629, 6.155420686433014, 6.432938004847792, 6.174368392869117, 5.859898939963054, 6.185900308297559, 6.2159394017735705, 6.035923324390541, 6.334313707846043, 6.262873556599609, 5.3984735651688975, 6.226883193859031, 6.308130471350184, 6.231877438569657, 6.479174097156543, 6.393938468813006], \"xaxis\": \"x\", \"y\": [6.767723090230122, 6.831188049604418, 7.183077574276636, 7.659794928914378, 7.794808220186818, 8.466658015717755, 8.55085083269611, 6.084847026745483, 6.276507181712108, 6.258477193331997, 6.692209200328694, 6.433754366981715, 6.792043438627853, 6.682341401330444, 7.0072564750413395, 7.834065658046266, 8.120133517746499, 8.595686089660811, 9.053998746991379, 6.733600725776085, 6.1599120954207125, 6.120669051841744, 6.44119439184916, 6.268469951239958, 6.530179561994263], \"yaxis\": \"y\"}, {\"customdata\": [[18.0, 60.5812627873095], [19.0, 64.64137584754062], [20.0, 63.464428991224764], [21.0, 64.25652831213637], [22.0, 60.68946322897522], [23.0, 63.575521143714695], [24.0, 60.57384757326247], [25.0, 74.49799323970274], [26.0, 114.36186189513222], [27.0, 107.13910218463053], [30.0, 147.6313448387842], [31.0, 123.6697985192283], [84.0, 113.18799458253889], [89.0, 127.04984346100372], [91.0, 146.68861346331522], [111.0, 145.84518658234936], [113.0, 157.6384502362569], [121.0, 36.309807725533474], [122.0, 59.420164476482555], [123.0, 54.9931086253258], [124.0, 55.82748400690808], [125.0, 63.720456211962755], [126.0, 51.78970017921621], [127.0, 62.63668796769568], [129.0, 125.91888319314683], [131.0, 138.82403239989605], [188.0, 118.10713063358617], [192.0, 115.35669071272525], [193.0, 132.7320498212589], [194.0, 135.20407966616227], [195.0, 117.38725227355243]], \"hovertemplate\": \"subcluster_id=10<br>X1=%{x}<br>X2=%{y}<br>id=%{customdata[0]}<br>F=%{customdata[1]}<extra></extra>\", \"legendgroup\": \"10\", \"marker\": {\"color\": \"#ab63fa\", \"symbol\": \"circle\"}, \"mode\": \"markers\", \"name\": \"10\", \"orientation\": \"v\", \"showlegend\": true, \"type\": \"scatter\", \"x\": [3.7788129360577143, 3.9957928711467736, 3.825930851699123, 4.270350241214104, 4.511591501312653, 4.976779031556153, 4.947856398967908, 5.385113944708296, 5.743081319871933, 5.681436263174117, 6.44457687350867, 6.641822511810538, 5.775529962648372, 6.6072407393616475, 6.089637830507263, 6.46667029018778, 6.325403190198013, 3.3988839724581466, 4.025761868950123, 3.951236619525332, 4.207955906768906, 4.422881408268287, 4.631595644111009, 5.08447372970848, 5.820490906266877, 6.004457707781809, 5.9110497170903304, 6.568403956468687, 5.906121995525385, 5.93146304862215, 5.853251078668777], \"xaxis\": \"x\", \"y\": [5.99478238142261, 5.971304294710734, 5.9699600948942795, 5.990678738399154, 5.83280941003499, 6.0988585482359845, 5.784410669723954, 6.1684699400997145, 5.7463744749771815, 5.876452282141224, 5.788621540461385, 5.802524994585747, 5.68744667508806, 5.750141043950764, 5.99262991618854, 5.782774456950261, 5.972038087127999, 6.318577728133679, 5.826449645127108, 6.236794659138521, 6.268491994896307, 6.002359799885558, 5.5223700273592415, 6.327127277933923, 5.929135310730253, 6.078220656563501, 5.6576422174508005, 5.625052998505983, 5.870018857511444, 6.0504832880621535, 6.13202737535706], \"yaxis\": \"y\"}, {\"customdata\": [[41.0, 37.06480045644055], [42.0, 36.74497508089445], [43.0, 43.54550600954368], [44.0, 45.94756841413606], [45.0, 43.28486851551992], [46.0, 45.88036636830004], [47.0, 65.56982661974223], [48.0, 62.781446147854794], [49.0, 95.28641665398666], [73.0, 111.88140179855017], [93.0, 93.55799543849275], [144.0, 30.087674123429267], [145.0, 45.740842418878515], [146.0, 45.1854844992733], [147.0, 45.627949844286], [148.0, 46.84941501801242], [149.0, 42.91577484688564], [150.0, 48.681595577563826], [151.0, 51.57342037527002], [152.0, 61.88491799243166], [196.0, 100.15313894538806], [198.0, 114.01595078099089], [200.0, 102.10493262627857]], \"hovertemplate\": \"subcluster_id=2<br>X1=%{x}<br>X2=%{y}<br>id=%{customdata[0]}<br>F=%{customdata[1]}<extra></extra>\", \"legendgroup\": \"2\", \"marker\": {\"color\": \"#FFA15A\", \"symbol\": \"circle\"}, \"mode\": \"markers\", \"name\": \"2\", \"orientation\": \"v\", \"showlegend\": true, \"type\": \"scatter\", \"x\": [11.563311284311984, 11.524362461327659, 11.974258186135293, 12.08406783376315, 12.35527580511942, 12.642092521090449, 13.122004703634554, 13.057935064684987, 13.363026135369276, 13.838917370992357, 13.394441901118032, 11.209606728243045, 11.973347519214776, 12.020549383870504, 12.256329956401572, 12.367034194487905, 12.681176553690072, 13.504195329909425, 12.795612762341879, 13.26100060014899, 13.468326425935132, 13.93860482987011, 13.60401375193879], \"xaxis\": \"x\", \"y\": [3.2868267931681467, 2.927422770547193, 2.613850355730975, 2.3723448838300296, 1.864792558495555, 1.5993157660809563, 0.872495915077099, 1.0550843143130804, 0.43176821493206696, 0.3436941499800269, 0.502086301842039, 3.7616123564023645, 3.3476303619874455, 3.365766611815271, 2.585420387703557, 2.316749329538687, 2.260248650515612, 1.6183224683458575, 1.223327261814012, 1.1778460292740522, 0.4037780445814823, 0.37812748999089935, 0.3658715260295164], \"yaxis\": \"y\"}, {\"customdata\": [[50.0, 112.74138664237641], [51.0, 114.99211728806107], [154.0, 90.1831307860062], [176.0, 110.21432184390954], [202.0, 108.85610158702322], [205.0, 102.61585953385999]], \"hovertemplate\": \"subcluster_id=9<br>X1=%{x}<br>X2=%{y}<br>id=%{customdata[0]}<br>F=%{customdata[1]}<extra></extra>\", \"legendgroup\": \"9\", \"marker\": {\"color\": \"#19d3f3\", \"symbol\": \"circle\"}, \"mode\": \"markers\", \"name\": \"9\", \"orientation\": \"v\", \"showlegend\": true, \"type\": \"scatter\", \"x\": [13.812371665607785, 13.881878320887042, 14.059463340229506, 13.997619083991395, 13.842114402443658, 13.947076352932678], \"xaxis\": \"x\", \"y\": [0.1838758662909809, 0.08842865995827014, -0.07986575552341067, 0.14575974881231402, 0.034640379100423724, -0.025324098110177863], \"yaxis\": \"y\"}, {\"customdata\": [[52.0, 60.200366783039954], [53.0, 59.76884064951918], [54.0, 53.602764165057295], [55.0, 48.302923633737024], [56.0, 45.60819342358913], [57.0, 40.97096012556584], [58.0, 41.34231607013662], [59.0, 43.794195600014106], [60.0, 32.44931807562359], [61.0, 27.70149436213757], [155.0, 65.91390866070623], [157.0, 52.58741509712602], [158.0, 49.07546471381593], [159.0, 46.79517662811453], [160.0, 43.59705773039899], [161.0, 34.33265477577909], [162.0, 44.12291259259848], [163.0, 37.69980592185022], [164.0, 42.90103598261578]], \"hovertemplate\": \"subcluster_id=4<br>X1=%{x}<br>X2=%{y}<br>id=%{customdata[0]}<br>F=%{customdata[1]}<extra></extra>\", \"legendgroup\": \"4\", \"marker\": {\"color\": \"#FF6692\", \"symbol\": \"circle\"}, \"mode\": \"markers\", \"name\": \"4\", \"orientation\": \"v\", \"showlegend\": true, \"type\": \"scatter\", \"x\": [14.372422593368718, 14.686205616348845, 14.852246094329766, 14.763379303717123, 15.119985907236096, 15.34127636759653, 16.13442183535222, 16.263061409138064, 16.276918106394877, 16.4804977398677, 13.884961833916003, 15.0751612922326, 15.179819553014983, 15.217007377681169, 15.880705216790707, 15.260278229032687, 15.885969975519242, 16.393632195476282, 16.253797955430503], \"xaxis\": \"x\", \"y\": [-0.5784216824347648, -0.5630630952045775, -0.9714154327297018, -1.2706440940327923, -1.6181257255089396, -1.84719194964491, -2.237513600540024, -2.7865024865992924, -3.2799042153167646, -3.6436339743523902, -0.6046973649794546, -0.6703829645034626, -0.9955086484077811, -1.402929470989151, -2.4081573250629518, -2.493603624487909, -2.248818282277531, -2.454660005873688, -2.872955612504773], \"yaxis\": \"y\"}, {\"customdata\": [[62.0, 34.90466683948607], [63.0, 35.76390767106747], [64.0, 41.55780205592867], [65.0, 38.199151919210536], [66.0, 48.05919639644686], [67.0, 46.59558875078405], [68.0, 50.188245167490884], [69.0, 55.01265550739223], [70.0, 63.04522391354138], [165.0, 37.675607071577446], [166.0, 40.67453116484285], [167.0, 38.8206762034837], [168.0, 43.92143172418007], [169.0, 47.42972934477777], [170.0, 47.402780312294226], [171.0, 38.95634017570861], [172.0, 71.47394782003586], [173.0, 70.12070807684125]], \"hovertemplate\": \"subcluster_id=3<br>X1=%{x}<br>X2=%{y}<br>id=%{customdata[0]}<br>F=%{customdata[1]}<extra></extra>\", \"legendgroup\": \"3\", \"marker\": {\"color\": \"#B6E880\", \"symbol\": \"circle\"}, \"mode\": \"markers\", \"name\": \"3\", \"orientation\": \"v\", \"showlegend\": true, \"type\": \"scatter\", \"x\": [11.153578890210726, 11.48500784874272, 11.561241860439265, 12.159106608884347, 12.052882238626998, 12.381851618007314, 12.944215818325379, 12.99415478737188, 13.044902371937582, 11.165161455068313, 11.394398179257568, 11.51079015546835, 11.939546514797645, 12.13890713080873, 12.464805698284172, 12.189436079669164, 13.061535252377272, 13.011936619449795], \"xaxis\": \"x\", \"y\": [-3.273950659228819, -3.204038414835441, -2.654428432816818, -2.591276006986305, -2.2631585346850396, -1.5058932832766556, -1.1797588462163318, -0.9707818858080242, -0.6462015308649147, -3.0448394601993067, -2.799288561293881, -2.352384720817367, -2.065691945209194, -2.1802691872986997, -1.453348777579661, -0.37514254437634353, -0.45374166944240457, -0.4475988699966828], \"yaxis\": \"y\"}, {\"customdata\": [[71.0, 70.80760754120999], [103.0, 79.75519784935352], [174.0, 78.4943737974187]], \"hovertemplate\": \"subcluster_id=8<br>X1=%{x}<br>X2=%{y}<br>id=%{customdata[0]}<br>F=%{customdata[1]}<extra></extra>\", \"legendgroup\": \"8\", \"marker\": {\"color\": \"#FF97FF\", \"symbol\": \"circle\"}, \"mode\": \"markers\", \"name\": \"8\", \"orientation\": \"v\", \"showlegend\": true, \"type\": \"scatter\", \"x\": [13.16523836280431, 13.226346820231583, 13.31222225651069], \"xaxis\": \"x\", \"y\": [-0.06695862944608062, 0.31814255506941747, 0.011387903240345203], \"yaxis\": \"y\"}, {\"customdata\": [[72.0, 97.24305878706744], [99.0, 68.00874347520669], [201.0, 84.99419180058851]], \"hovertemplate\": \"subcluster_id=7<br>X1=%{x}<br>X2=%{y}<br>id=%{customdata[0]}<br>F=%{customdata[1]}<extra></extra>\", \"legendgroup\": \"7\", \"marker\": {\"color\": \"#FECB52\", \"symbol\": \"circle\"}, \"mode\": \"markers\", \"name\": \"7\", \"orientation\": \"v\", \"showlegend\": true, \"type\": \"scatter\", \"x\": [13.578931750579024, 13.598767037624523, 13.709751394099255], \"xaxis\": \"x\", \"y\": [0.18626879446895975, 1.0397040740528114, 0.7050784629300203], \"yaxis\": \"y\"}, {\"customdata\": [[74.0, 88.50265037243429], [100.0, 102.3348240307294], [101.0, 90.45126528463246], [102.0, 66.8820483976933], [153.0, 74.42751891870815], [156.0, 66.06226704250167], [175.0, 112.1320081490741], [177.0, 86.23841113991114], [197.0, 111.3214730298516], [199.0, 78.30498982761873], [203.0, 96.5724151369173], [204.0, 96.98895559462585], [206.0, 85.74578092618877]], \"hovertemplate\": \"subcluster_id=6<br>X1=%{x}<br>X2=%{y}<br>id=%{customdata[0]}<br>F=%{customdata[1]}<extra></extra>\", \"legendgroup\": \"6\", \"marker\": {\"color\": \"#636efa\", \"symbol\": \"circle\"}, \"mode\": \"markers\", \"name\": \"6\", \"orientation\": \"v\", \"showlegend\": true, \"type\": \"scatter\", \"x\": [14.318416370103558, 14.162273227875433, 14.197273233100713, 14.876722518622941, 13.953990345905122, 14.906367442455485, 14.065535575910543, 14.339261206579133, 14.064429341476465, 14.50605824572347, 14.304388084293436, 14.086965594829852, 14.423955288316982], \"xaxis\": \"x\", \"y\": [0.23835848261283377, 0.5942959593382034, 0.7921704284620101, -0.2978373788909822, 0.9722478066457033, -0.2920115511725109, 0.3316363026411911, 0.7613641390861471, 0.4223691236050461, 0.3648786084998904, 0.46673781438938156, 0.70207420226118, 0.6137293085383495], \"yaxis\": \"y\"}, {\"customdata\": [[75.0, 57.27593760425185], [76.0, 59.58608551423518], [77.0, 57.03805847651979], [78.0, 43.29595873971667], [79.0, 39.957138364784164], [80.0, 38.28308100414561], [81.0, 45.640849783323574], [82.0, 37.5479292690917], [95.0, 53.20536207182701], [178.0, 50.55462262160842], [179.0, 49.23939944180566], [180.0, 58.475360612172764], [181.0, 36.642636849921445], [182.0, 37.39548723509126], [183.0, 37.970347651869616], [184.0, 44.90485364918278], [185.0, 35.146091026576016]], \"hovertemplate\": \"subcluster_id=0<br>X1=%{x}<br>X2=%{y}<br>id=%{customdata[0]}<br>F=%{customdata[1]}<extra></extra>\", \"legendgroup\": \"0\", \"marker\": {\"color\": \"#EF553B\", \"symbol\": \"circle\"}, \"mode\": \"markers\", \"name\": \"0\", \"orientation\": \"v\", \"showlegend\": true, \"type\": \"scatter\", \"x\": [14.62025127861276, 14.69781454552901, 15.055680783550597, 15.285149181956962, 15.63726710189955, 15.794373649126404, 15.953357972534532, 16.29135430120579, 15.166835377441009, 14.365338800146182, 14.6062088534503, 15.097767301449847, 14.920985576993836, 15.930974469745935, 15.780700535702875, 16.032145659284947, 16.372559849095204], \"xaxis\": \"x\", \"y\": [1.4591999157929947, 1.2542656080216166, 1.2931008634363337, 1.7041838966540588, 2.274559548057315, 2.608249020760892, 3.120087573120146, 3.4604681767644356, 1.0040596822231038, 1.736856727631683, 1.824178207052462, 1.1598147988069643, 2.4755134194945456, 2.194008202763675, 3.2943937564855608, 3.129371446173023, 3.5824406540565272], \"yaxis\": \"y\"}, {\"customdata\": [[94.0, 70.45303789998042], [96.0, 56.46088650857361], [97.0, 58.47536540254704], [98.0, 68.58497163916459]], \"hovertemplate\": \"subcluster_id=5<br>X1=%{x}<br>X2=%{y}<br>id=%{customdata[0]}<br>F=%{customdata[1]}<extra></extra>\", \"legendgroup\": \"5\", \"marker\": {\"color\": \"#00cc96\", \"symbol\": \"circle\"}, \"mode\": \"markers\", \"name\": \"5\", \"orientation\": \"v\", \"showlegend\": true, \"type\": \"scatter\", \"x\": [13.641324948955358, 13.632978149584552, 13.537851326270477, 13.637776367244912], \"xaxis\": \"x\", \"y\": [-0.6562548947448993, -1.1635383254413985, -1.1073743024369775, -0.7499371754101994], \"yaxis\": \"y\"}],                        {\"legend\": {\"title\": {\"text\": \"subcluster_id\"}, \"tracegroupgap\": 0}, \"margin\": {\"t\": 60}, \"template\": {\"data\": {\"bar\": [{\"error_x\": {\"color\": \"#2a3f5f\"}, \"error_y\": {\"color\": \"#2a3f5f\"}, \"marker\": {\"line\": {\"color\": \"#E5ECF6\", \"width\": 0.5}}, \"type\": \"bar\"}], \"barpolar\": [{\"marker\": {\"line\": {\"color\": \"#E5ECF6\", \"width\": 0.5}}, \"type\": \"barpolar\"}], \"carpet\": [{\"aaxis\": {\"endlinecolor\": \"#2a3f5f\", \"gridcolor\": \"white\", \"linecolor\": \"white\", \"minorgridcolor\": \"white\", \"startlinecolor\": \"#2a3f5f\"}, \"baxis\": {\"endlinecolor\": \"#2a3f5f\", \"gridcolor\": \"white\", \"linecolor\": \"white\", \"minorgridcolor\": \"white\", \"startlinecolor\": \"#2a3f5f\"}, \"type\": \"carpet\"}], \"choropleth\": [{\"colorbar\": {\"outlinewidth\": 0, \"ticks\": \"\"}, \"type\": \"choropleth\"}], \"contour\": [{\"colorbar\": {\"outlinewidth\": 0, \"ticks\": \"\"}, \"colorscale\": [[0.0, \"#0d0887\"], [0.1111111111111111, \"#46039f\"], [0.2222222222222222, \"#7201a8\"], [0.3333333333333333, \"#9c179e\"], [0.4444444444444444, \"#bd3786\"], [0.5555555555555556, \"#d8576b\"], [0.6666666666666666, \"#ed7953\"], [0.7777777777777778, \"#fb9f3a\"], [0.8888888888888888, \"#fdca26\"], [1.0, \"#f0f921\"]], \"type\": \"contour\"}], \"contourcarpet\": [{\"colorbar\": {\"outlinewidth\": 0, \"ticks\": \"\"}, \"type\": \"contourcarpet\"}], \"heatmap\": [{\"colorbar\": {\"outlinewidth\": 0, \"ticks\": \"\"}, \"colorscale\": [[0.0, \"#0d0887\"], [0.1111111111111111, \"#46039f\"], [0.2222222222222222, \"#7201a8\"], [0.3333333333333333, \"#9c179e\"], [0.4444444444444444, \"#bd3786\"], [0.5555555555555556, \"#d8576b\"], [0.6666666666666666, \"#ed7953\"], [0.7777777777777778, \"#fb9f3a\"], [0.8888888888888888, \"#fdca26\"], [1.0, \"#f0f921\"]], \"type\": \"heatmap\"}], \"heatmapgl\": [{\"colorbar\": {\"outlinewidth\": 0, \"ticks\": \"\"}, \"colorscale\": [[0.0, \"#0d0887\"], [0.1111111111111111, \"#46039f\"], [0.2222222222222222, \"#7201a8\"], [0.3333333333333333, \"#9c179e\"], [0.4444444444444444, \"#bd3786\"], [0.5555555555555556, \"#d8576b\"], [0.6666666666666666, \"#ed7953\"], [0.7777777777777778, \"#fb9f3a\"], [0.8888888888888888, \"#fdca26\"], [1.0, \"#f0f921\"]], \"type\": \"heatmapgl\"}], \"histogram\": [{\"marker\": {\"colorbar\": {\"outlinewidth\": 0, \"ticks\": \"\"}}, \"type\": \"histogram\"}], \"histogram2d\": [{\"colorbar\": {\"outlinewidth\": 0, \"ticks\": \"\"}, \"colorscale\": [[0.0, \"#0d0887\"], [0.1111111111111111, \"#46039f\"], [0.2222222222222222, \"#7201a8\"], [0.3333333333333333, \"#9c179e\"], [0.4444444444444444, \"#bd3786\"], [0.5555555555555556, \"#d8576b\"], [0.6666666666666666, \"#ed7953\"], [0.7777777777777778, \"#fb9f3a\"], [0.8888888888888888, \"#fdca26\"], [1.0, \"#f0f921\"]], \"type\": \"histogram2d\"}], \"histogram2dcontour\": [{\"colorbar\": {\"outlinewidth\": 0, \"ticks\": \"\"}, \"colorscale\": [[0.0, \"#0d0887\"], [0.1111111111111111, \"#46039f\"], [0.2222222222222222, \"#7201a8\"], [0.3333333333333333, \"#9c179e\"], [0.4444444444444444, \"#bd3786\"], [0.5555555555555556, \"#d8576b\"], [0.6666666666666666, \"#ed7953\"], [0.7777777777777778, \"#fb9f3a\"], [0.8888888888888888, \"#fdca26\"], [1.0, \"#f0f921\"]], \"type\": \"histogram2dcontour\"}], \"mesh3d\": [{\"colorbar\": {\"outlinewidth\": 0, \"ticks\": \"\"}, \"type\": \"mesh3d\"}], \"parcoords\": [{\"line\": {\"colorbar\": {\"outlinewidth\": 0, \"ticks\": \"\"}}, \"type\": \"parcoords\"}], \"pie\": [{\"automargin\": true, \"type\": \"pie\"}], \"scatter\": [{\"marker\": {\"colorbar\": {\"outlinewidth\": 0, \"ticks\": \"\"}}, \"type\": \"scatter\"}], \"scatter3d\": [{\"line\": {\"colorbar\": {\"outlinewidth\": 0, \"ticks\": \"\"}}, \"marker\": {\"colorbar\": {\"outlinewidth\": 0, \"ticks\": \"\"}}, \"type\": \"scatter3d\"}], \"scattercarpet\": [{\"marker\": {\"colorbar\": {\"outlinewidth\": 0, \"ticks\": \"\"}}, \"type\": \"scattercarpet\"}], \"scattergeo\": [{\"marker\": {\"colorbar\": {\"outlinewidth\": 0, \"ticks\": \"\"}}, \"type\": \"scattergeo\"}], \"scattergl\": [{\"marker\": {\"colorbar\": {\"outlinewidth\": 0, \"ticks\": \"\"}}, \"type\": \"scattergl\"}], \"scattermapbox\": [{\"marker\": {\"colorbar\": {\"outlinewidth\": 0, \"ticks\": \"\"}}, \"type\": \"scattermapbox\"}], \"scatterpolar\": [{\"marker\": {\"colorbar\": {\"outlinewidth\": 0, \"ticks\": \"\"}}, \"type\": \"scatterpolar\"}], \"scatterpolargl\": [{\"marker\": {\"colorbar\": {\"outlinewidth\": 0, \"ticks\": \"\"}}, \"type\": \"scatterpolargl\"}], \"scatterternary\": [{\"marker\": {\"colorbar\": {\"outlinewidth\": 0, \"ticks\": \"\"}}, \"type\": \"scatterternary\"}], \"surface\": [{\"colorbar\": {\"outlinewidth\": 0, \"ticks\": \"\"}, \"colorscale\": [[0.0, \"#0d0887\"], [0.1111111111111111, \"#46039f\"], [0.2222222222222222, \"#7201a8\"], [0.3333333333333333, \"#9c179e\"], [0.4444444444444444, \"#bd3786\"], [0.5555555555555556, \"#d8576b\"], [0.6666666666666666, \"#ed7953\"], [0.7777777777777778, \"#fb9f3a\"], [0.8888888888888888, \"#fdca26\"], [1.0, \"#f0f921\"]], \"type\": \"surface\"}], \"table\": [{\"cells\": {\"fill\": {\"color\": \"#EBF0F8\"}, \"line\": {\"color\": \"white\"}}, \"header\": {\"fill\": {\"color\": \"#C8D4E3\"}, \"line\": {\"color\": \"white\"}}, \"type\": \"table\"}]}, \"layout\": {\"annotationdefaults\": {\"arrowcolor\": \"#2a3f5f\", \"arrowhead\": 0, \"arrowwidth\": 1}, \"autotypenumbers\": \"strict\", \"coloraxis\": {\"colorbar\": {\"outlinewidth\": 0, \"ticks\": \"\"}}, \"colorscale\": {\"diverging\": [[0, \"#8e0152\"], [0.1, \"#c51b7d\"], [0.2, \"#de77ae\"], [0.3, \"#f1b6da\"], [0.4, \"#fde0ef\"], [0.5, \"#f7f7f7\"], [0.6, \"#e6f5d0\"], [0.7, \"#b8e186\"], [0.8, \"#7fbc41\"], [0.9, \"#4d9221\"], [1, \"#276419\"]], \"sequential\": [[0.0, \"#0d0887\"], [0.1111111111111111, \"#46039f\"], [0.2222222222222222, \"#7201a8\"], [0.3333333333333333, \"#9c179e\"], [0.4444444444444444, \"#bd3786\"], [0.5555555555555556, \"#d8576b\"], [0.6666666666666666, \"#ed7953\"], [0.7777777777777778, \"#fb9f3a\"], [0.8888888888888888, \"#fdca26\"], [1.0, \"#f0f921\"]], \"sequentialminus\": [[0.0, \"#0d0887\"], [0.1111111111111111, \"#46039f\"], [0.2222222222222222, \"#7201a8\"], [0.3333333333333333, \"#9c179e\"], [0.4444444444444444, \"#bd3786\"], [0.5555555555555556, \"#d8576b\"], [0.6666666666666666, \"#ed7953\"], [0.7777777777777778, \"#fb9f3a\"], [0.8888888888888888, \"#fdca26\"], [1.0, \"#f0f921\"]]}, \"colorway\": [\"#636efa\", \"#EF553B\", \"#00cc96\", \"#ab63fa\", \"#FFA15A\", \"#19d3f3\", \"#FF6692\", \"#B6E880\", \"#FF97FF\", \"#FECB52\"], \"font\": {\"color\": \"#2a3f5f\"}, \"geo\": {\"bgcolor\": \"white\", \"lakecolor\": \"white\", \"landcolor\": \"#E5ECF6\", \"showlakes\": true, \"showland\": true, \"subunitcolor\": \"white\"}, \"hoverlabel\": {\"align\": \"left\"}, \"hovermode\": \"closest\", \"mapbox\": {\"style\": \"light\"}, \"paper_bgcolor\": \"white\", \"plot_bgcolor\": \"#E5ECF6\", \"polar\": {\"angularaxis\": {\"gridcolor\": \"white\", \"linecolor\": \"white\", \"ticks\": \"\"}, \"bgcolor\": \"#E5ECF6\", \"radialaxis\": {\"gridcolor\": \"white\", \"linecolor\": \"white\", \"ticks\": \"\"}}, \"scene\": {\"xaxis\": {\"backgroundcolor\": \"#E5ECF6\", \"gridcolor\": \"white\", \"gridwidth\": 2, \"linecolor\": \"white\", \"showbackground\": true, \"ticks\": \"\", \"zerolinecolor\": \"white\"}, \"yaxis\": {\"backgroundcolor\": \"#E5ECF6\", \"gridcolor\": \"white\", \"gridwidth\": 2, \"linecolor\": \"white\", \"showbackground\": true, \"ticks\": \"\", \"zerolinecolor\": \"white\"}, \"zaxis\": {\"backgroundcolor\": \"#E5ECF6\", \"gridcolor\": \"white\", \"gridwidth\": 2, \"linecolor\": \"white\", \"showbackground\": true, \"ticks\": \"\", \"zerolinecolor\": \"white\"}}, \"shapedefaults\": {\"line\": {\"color\": \"#2a3f5f\"}}, \"ternary\": {\"aaxis\": {\"gridcolor\": \"white\", \"linecolor\": \"white\", \"ticks\": \"\"}, \"baxis\": {\"gridcolor\": \"white\", \"linecolor\": \"white\", \"ticks\": \"\"}, \"bgcolor\": \"#E5ECF6\", \"caxis\": {\"gridcolor\": \"white\", \"linecolor\": \"white\", \"ticks\": \"\"}}, \"title\": {\"x\": 0.05}, \"xaxis\": {\"automargin\": true, \"gridcolor\": \"white\", \"linecolor\": \"white\", \"ticks\": \"\", \"title\": {\"standoff\": 15}, \"zerolinecolor\": \"white\", \"zerolinewidth\": 2}, \"yaxis\": {\"automargin\": true, \"gridcolor\": \"white\", \"linecolor\": \"white\", \"ticks\": \"\", \"title\": {\"standoff\": 15}, \"zerolinecolor\": \"white\", \"zerolinewidth\": 2}}}, \"xaxis\": {\"anchor\": \"y\", \"domain\": [0.0, 1.0], \"title\": {\"text\": \"X1\"}}, \"yaxis\": {\"anchor\": \"x\", \"domain\": [0.0, 1.0], \"title\": {\"text\": \"X2\"}}},                        {\"responsive\": true}                    ).then(function(){\n",
       "                            \n",
       "var gd = document.getElementById('0250ab3f-9377-4317-ad49-010a28ecdfb5');\n",
       "var x = new MutationObserver(function (mutations, observer) {{\n",
       "        var display = window.getComputedStyle(gd).display;\n",
       "        if (!display || display === 'none') {{\n",
       "            console.log([gd, 'removed!']);\n",
       "            Plotly.purge(gd);\n",
       "            observer.disconnect();\n",
       "        }}\n",
       "}});\n",
       "\n",
       "// Listen for the removal of the full notebook cells\n",
       "var notebookContainer = gd.closest('#notebook-container');\n",
       "if (notebookContainer) {{\n",
       "    x.observe(notebookContainer, {childList: true});\n",
       "}}\n",
       "\n",
       "// Listen for the clearing of the current output cell\n",
       "var outputEl = gd.closest('.output');\n",
       "if (outputEl) {{\n",
       "    x.observe(outputEl, {childList: true});\n",
       "}}\n",
       "\n",
       "                        })                };                });            </script>        </div>"
      ]
     },
     "metadata": {},
     "output_type": "display_data"
    }
   ],
   "source": [
    "fig = px.scatter(df, x=\"X1\", y=\"X2\", color=\"subcluster_id\", hover_data=['id', 'F'], )\n",
    "fig.show()"
   ]
  },
  {
   "cell_type": "code",
   "execution_count": null,
   "metadata": {},
   "outputs": [],
   "source": []
  },
  {
   "cell_type": "code",
   "execution_count": null,
   "metadata": {},
   "outputs": [],
   "source": []
  }
 ],
 "metadata": {
  "kernelspec": {
   "display_name": "Python 3",
   "language": "python",
   "name": "python3"
  },
  "language_info": {
   "codemirror_mode": {
    "name": "ipython",
    "version": 3
   },
   "file_extension": ".py",
   "mimetype": "text/x-python",
   "name": "python",
   "nbconvert_exporter": "python",
   "pygments_lexer": "ipython3",
   "version": "3.7.3"
  }
 },
 "nbformat": 4,
 "nbformat_minor": 2
}
