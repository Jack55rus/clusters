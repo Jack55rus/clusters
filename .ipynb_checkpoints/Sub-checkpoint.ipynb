{
 "cells": [
  {
   "cell_type": "code",
   "execution_count": 1,
   "metadata": {},
   "outputs": [
    {
     "name": "stderr",
     "output_type": "stream",
     "text": [
      "C:\\Users\\nekro\\Anaconda3\\lib\\site-packages\\sklearn\\utils\\deprecation.py:143: FutureWarning: The sklearn.datasets.samples_generator module is  deprecated in version 0.22 and will be removed in version 0.24. The corresponding classes / functions should instead be imported from sklearn.datasets. Anything that cannot be imported from sklearn.datasets is now part of the private API.\n",
      "  warnings.warn(message, FutureWarning)\n"
     ]
    }
   ],
   "source": [
    "import yaml\n",
    "import random\n",
    "import numpy as np\n",
    "import time\n",
    "\n",
    "from reader import Reader\n",
    "from const import Const\n",
    "from utils import get_F_example\n",
    "from clustering import Clusters\n",
    "from i_merge import IMerger\n",
    "\n",
    "from sklearn.datasets.samples_generator import make_blobs\n",
    "import matplotlib.pyplot as plt\n",
    "import plotly.express as px\n",
    "import pandas as pd"
   ]
  },
  {
   "cell_type": "markdown",
   "metadata": {},
   "source": [
    "# Если есть желание создать свои данные, то вызвать этот код"
   ]
  },
  {
   "cell_type": "code",
   "execution_count": null,
   "metadata": {},
   "outputs": [],
   "source": [
    "X, y = make_blobs(n_samples=500, centers=7, cluster_std=0.6, random_state=0)\n",
    "\n",
    "ids = [i+1 for i in range(len(X))]\n",
    "df = pd.DataFrame()\n",
    "df['id'] = ids\n",
    "df['X1'] = X[:,0]\n",
    "df['X2'] = X[:,1]"
   ]
  },
  {
   "cell_type": "code",
   "execution_count": null,
   "metadata": {},
   "outputs": [],
   "source": [
    "ids = []\n",
    "X1 = []\n",
    "X2 = []\n",
    "with open('Two.txt', 'r') as f:\n",
    "    for k, line in enumerate(f):\n",
    "        if k==0:\n",
    "            continue\n",
    "        ids.append(int(line.split()[0]))\n",
    "        X1.append(float(line.split()[1]))\n",
    "        X2.append(float(line.split()[2]))\n",
    "        if k>=205:\n",
    "            break\n",
    "df = pd.DataFrame()\n",
    "df['id'] = ids\n",
    "df['X1'] = X1\n",
    "df['X2'] = X2\n",
    "    "
   ]
  },
  {
   "cell_type": "code",
   "execution_count": 2,
   "metadata": {},
   "outputs": [],
   "source": [
    "reader = Reader()"
   ]
  },
  {
   "cell_type": "code",
   "execution_count": 3,
   "metadata": {},
   "outputs": [],
   "source": [
    "df = reader.read('input.xlsx')"
   ]
  },
  {
   "cell_type": "code",
   "execution_count": 4,
   "metadata": {},
   "outputs": [
    {
     "data": {
      "text/html": [
       "<div>\n",
       "<style scoped>\n",
       "    .dataframe tbody tr th:only-of-type {\n",
       "        vertical-align: middle;\n",
       "    }\n",
       "\n",
       "    .dataframe tbody tr th {\n",
       "        vertical-align: top;\n",
       "    }\n",
       "\n",
       "    .dataframe thead th {\n",
       "        text-align: right;\n",
       "    }\n",
       "</style>\n",
       "<table border=\"1\" class=\"dataframe\">\n",
       "  <thead>\n",
       "    <tr style=\"text-align: right;\">\n",
       "      <th></th>\n",
       "      <th>id</th>\n",
       "      <th>X1</th>\n",
       "      <th>X2</th>\n",
       "    </tr>\n",
       "  </thead>\n",
       "  <tbody>\n",
       "    <tr>\n",
       "      <th>0</th>\n",
       "      <td>1</td>\n",
       "      <td>25.388056</td>\n",
       "      <td>10.849605</td>\n",
       "    </tr>\n",
       "    <tr>\n",
       "      <th>1</th>\n",
       "      <td>2</td>\n",
       "      <td>26.102651</td>\n",
       "      <td>11.895918</td>\n",
       "    </tr>\n",
       "    <tr>\n",
       "      <th>2</th>\n",
       "      <td>3</td>\n",
       "      <td>24.843052</td>\n",
       "      <td>12.847889</td>\n",
       "    </tr>\n",
       "    <tr>\n",
       "      <th>3</th>\n",
       "      <td>4</td>\n",
       "      <td>25.282225</td>\n",
       "      <td>12.889494</td>\n",
       "    </tr>\n",
       "    <tr>\n",
       "      <th>4</th>\n",
       "      <td>5</td>\n",
       "      <td>26.000284</td>\n",
       "      <td>13.887626</td>\n",
       "    </tr>\n",
       "  </tbody>\n",
       "</table>\n",
       "</div>"
      ],
      "text/plain": [
       "   id         X1         X2\n",
       "0   1  25.388056  10.849605\n",
       "1   2  26.102651  11.895918\n",
       "2   3  24.843052  12.847889\n",
       "3   4  25.282225  12.889494\n",
       "4   5  26.000284  13.887626"
      ]
     },
     "execution_count": 4,
     "metadata": {},
     "output_type": "execute_result"
    }
   ],
   "source": [
    "df.head()"
   ]
  },
  {
   "cell_type": "code",
   "execution_count": null,
   "metadata": {
    "scrolled": true
   },
   "outputs": [],
   "source": [
    "plt.scatter(df['X1'], df['X2'])\n",
    "plt.show()"
   ]
  },
  {
   "cell_type": "markdown",
   "metadata": {},
   "source": [
    "# Подбор констант"
   ]
  },
  {
   "cell_type": "code",
   "execution_count": 5,
   "metadata": {},
   "outputs": [
    {
     "name": "stderr",
     "output_type": "stream",
     "text": [
      "C:\\Users\\nekro\\Documents\\Cluster\\clusters\\const.py:18: YAMLLoadWarning: calling yaml.load() without Loader=... is deprecated, as the default Loader is unsafe. Please read https://msg.pyyaml.org/load for full details.\n",
      "  self.config = yaml.load(open(path, 'r'))\n"
     ]
    }
   ],
   "source": [
    "const = Const('./example.yaml')\n",
    "# const = Const()"
   ]
  },
  {
   "cell_type": "code",
   "execution_count": 6,
   "metadata": {},
   "outputs": [],
   "source": [
    "const.norm(df) # Нормировка"
   ]
  },
  {
   "cell_type": "code",
   "execution_count": 7,
   "metadata": {},
   "outputs": [
    {
     "data": {
      "text/plain": [
       "{'X1': 3.9444263889161597, 'X2': 3.0550950818669733}"
      ]
     },
     "execution_count": 7,
     "metadata": {},
     "output_type": "execute_result"
    }
   ],
   "source": [
    "const.get_norms() # Получение норм"
   ]
  },
  {
   "cell_type": "code",
   "execution_count": null,
   "metadata": {
    "scrolled": false
   },
   "outputs": [],
   "source": [
    "a = time.time()\n",
    "const.calculate_a(df, type_of_optimization=3) # Вычисление а и пересчет констант\n",
    "b = time.time()\n",
    "print(b-a)"
   ]
  },
  {
   "cell_type": "code",
   "execution_count": 8,
   "metadata": {},
   "outputs": [],
   "source": [
    "const.add_Fcolumn(df)"
   ]
  },
  {
   "cell_type": "code",
   "execution_count": null,
   "metadata": {},
   "outputs": [],
   "source": [
    "df.head()"
   ]
  },
  {
   "cell_type": "code",
   "execution_count": null,
   "metadata": {},
   "outputs": [],
   "source": [
    "const.config # Вывод параметров"
   ]
  },
  {
   "cell_type": "code",
   "execution_count": null,
   "metadata": {},
   "outputs": [],
   "source": [
    "# const.config['conturs']['min_diff'] = 6.21\n",
    "const.config['isolated_cluster']['divider'] = 1"
   ]
  },
  {
   "cell_type": "code",
   "execution_count": null,
   "metadata": {},
   "outputs": [],
   "source": [
    "# const.save_consts('example') #Сохранение констант в файл"
   ]
  },
  {
   "cell_type": "markdown",
   "metadata": {},
   "source": [
    "Researching dataset"
   ]
  },
  {
   "cell_type": "code",
   "execution_count": null,
   "metadata": {},
   "outputs": [],
   "source": [
    "fig = px.scatter_3d(df, x='X1', y='X2', z='F')\n",
    "fig.show()"
   ]
  },
  {
   "cell_type": "markdown",
   "metadata": {},
   "source": [
    "# Кластеризация"
   ]
  },
  {
   "cell_type": "code",
   "execution_count": null,
   "metadata": {},
   "outputs": [],
   "source": [
    "df.head()"
   ]
  },
  {
   "cell_type": "code",
   "execution_count": 9,
   "metadata": {},
   "outputs": [],
   "source": [
    "cluster = Clusters(const.config) "
   ]
  },
  {
   "cell_type": "code",
   "execution_count": 10,
   "metadata": {},
   "outputs": [
    {
     "name": "stderr",
     "output_type": "stream",
     "text": [
      "100%|████████████████████████████████████████████████████████████████████████████████| 206/206 [00:25<00:00,  7.44it/s]\n"
     ]
    },
    {
     "data": {
      "text/html": [
       "<div>\n",
       "<style scoped>\n",
       "    .dataframe tbody tr th:only-of-type {\n",
       "        vertical-align: middle;\n",
       "    }\n",
       "\n",
       "    .dataframe tbody tr th {\n",
       "        vertical-align: top;\n",
       "    }\n",
       "\n",
       "    .dataframe thead th {\n",
       "        text-align: right;\n",
       "    }\n",
       "</style>\n",
       "<table border=\"1\" class=\"dataframe\">\n",
       "  <thead>\n",
       "    <tr style=\"text-align: right;\">\n",
       "      <th></th>\n",
       "      <th>id</th>\n",
       "      <th>X1</th>\n",
       "      <th>X2</th>\n",
       "      <th>F</th>\n",
       "      <th>cluster_id</th>\n",
       "    </tr>\n",
       "  </thead>\n",
       "  <tbody>\n",
       "    <tr>\n",
       "      <th>0</th>\n",
       "      <td>1</td>\n",
       "      <td>6.436438</td>\n",
       "      <td>3.551315</td>\n",
       "      <td>43.932999</td>\n",
       "      <td>0</td>\n",
       "    </tr>\n",
       "    <tr>\n",
       "      <th>1</th>\n",
       "      <td>2</td>\n",
       "      <td>6.617604</td>\n",
       "      <td>3.893796</td>\n",
       "      <td>49.181262</td>\n",
       "      <td>0</td>\n",
       "    </tr>\n",
       "    <tr>\n",
       "      <th>2</th>\n",
       "      <td>3</td>\n",
       "      <td>6.298267</td>\n",
       "      <td>4.205397</td>\n",
       "      <td>61.236805</td>\n",
       "      <td>0</td>\n",
       "    </tr>\n",
       "    <tr>\n",
       "      <th>3</th>\n",
       "      <td>4</td>\n",
       "      <td>6.409608</td>\n",
       "      <td>4.219016</td>\n",
       "      <td>65.478671</td>\n",
       "      <td>0</td>\n",
       "    </tr>\n",
       "    <tr>\n",
       "      <th>4</th>\n",
       "      <td>5</td>\n",
       "      <td>6.591651</td>\n",
       "      <td>4.545726</td>\n",
       "      <td>71.261279</td>\n",
       "      <td>0</td>\n",
       "    </tr>\n",
       "  </tbody>\n",
       "</table>\n",
       "</div>"
      ],
      "text/plain": [
       "   id        X1        X2          F  cluster_id\n",
       "0   1  6.436438  3.551315  43.932999           0\n",
       "1   2  6.617604  3.893796  49.181262           0\n",
       "2   3  6.298267  4.205397  61.236805           0\n",
       "3   4  6.409608  4.219016  65.478671           0\n",
       "4   5  6.591651  4.545726  71.261279           0"
      ]
     },
     "execution_count": 10,
     "metadata": {},
     "output_type": "execute_result"
    }
   ],
   "source": [
    "df = cluster.get_isolated_clusters(df) # Вычисление кластеров\n",
    "df.head()"
   ]
  },
  {
   "cell_type": "code",
   "execution_count": 11,
   "metadata": {},
   "outputs": [
    {
     "data": {
      "text/plain": [
       "{0, 1}"
      ]
     },
     "execution_count": 11,
     "metadata": {},
     "output_type": "execute_result"
    }
   ],
   "source": [
    "set(df['cluster_id'])"
   ]
  },
  {
   "cell_type": "code",
   "execution_count": 12,
   "metadata": {},
   "outputs": [
    {
     "data": {
      "image/png": "[encoded data removed]",
      "text/plain": [
       "<Figure size 432x288 with 1 Axes>"
      ]
     },
     "metadata": {
      "needs_background": "light"
     },
     "output_type": "display_data"
    }
   ],
   "source": [
    "for cluster in set(df['cluster_id']):\n",
    "    plt.scatter(df[df['cluster_id']==cluster]['X1'], df[df['cluster_id']==cluster]['X2'])\n"
   ]
  },
  {
   "cell_type": "code",
   "execution_count": null,
   "metadata": {
    "scrolled": false
   },
   "outputs": [],
   "source": [
    "fig = px.scatter_3d(df, x='X1', y='X2', z='F',\n",
    "              color='cluster_id')\n",
    "fig.show()"
   ]
  },
  {
   "cell_type": "code",
   "execution_count": null,
   "metadata": {},
   "outputs": [],
   "source": [
    "df.head()"
   ]
  },
  {
   "cell_type": "markdown",
   "metadata": {},
   "source": [
    "# Merge I"
   ]
  },
  {
   "cell_type": "code",
   "execution_count": null,
   "metadata": {},
   "outputs": [],
   "source": [
    "Merger = IMerger(const.config)\n",
    "Merger.mergeClusters(df)"
   ]
  },
  {
   "cell_type": "code",
   "execution_count": null,
   "metadata": {},
   "outputs": [],
   "source": [
    "plt.scatter(df['X1'],df['X2'], c=df['cluster_id'])"
   ]
  },
  {
   "cell_type": "code",
   "execution_count": null,
   "metadata": {},
   "outputs": [],
   "source": [
    "fig = px.scatter_3d(df, x='X1', y='X2', z='F',\n",
    "              color='cluster_id')\n",
    "fig.show()"
   ]
  },
  {
   "cell_type": "markdown",
   "metadata": {},
   "source": [
    "# Subcluster"
   ]
  },
  {
   "cell_type": "code",
   "execution_count": 13,
   "metadata": {
    "scrolled": true
   },
   "outputs": [],
   "source": [
    "first = df[df['cluster_id']==0].sort_values('F')"
   ]
  },
  {
   "cell_type": "code",
   "execution_count": null,
   "metadata": {},
   "outputs": [],
   "source": [
    "first[first['id']==206]"
   ]
  },
  {
   "cell_type": "code",
   "execution_count": null,
   "metadata": {},
   "outputs": [],
   "source": [
    "fig = px.scatter_3d(first, x='X1', y='X2', z='F',\n",
    "              color='id')\n",
    "fig.show()"
   ]
  },
  {
   "cell_type": "code",
   "execution_count": 14,
   "metadata": {},
   "outputs": [
    {
     "data": {
      "text/plain": [
       "{'consts': {'Y_step': 2.5,\n",
       "  'a': 0.24,\n",
       "  'const': 0.25,\n",
       "  'down_steps': 4,\n",
       "  'percent_X': 5,\n",
       "  'percent_Y': 33,\n",
       "  'percent_for_norms': 40,\n",
       "  'power_koef': 1.16,\n",
       "  'round_const': 2,\n",
       "  'threshold': 0.8,\n",
       "  'up_steps': 6},\n",
       " 'conturs': {'contour_points': 50,\n",
       "  'min_diff': 3.5,\n",
       "  'min_points': 30,\n",
       "  'num_of_lenghts': 4},\n",
       " 'isolated_cluster': {'constU1': 0.05,\n",
       "  'divider': 2,\n",
       "  'max_div_num': 8,\n",
       "  'merge_threshold': 1.75,\n",
       "  'min_dif': 3.48,\n",
       "  'min_len': 0.24},\n",
       " 'knots': {'min_fuses_num': 15, 'stop_const': 0.24},\n",
       " 'subcluster': {'F_step': 10}}"
      ]
     },
     "execution_count": 14,
     "metadata": {},
     "output_type": "execute_result"
    }
   ],
   "source": [
    "const.config"
   ]
  },
  {
   "cell_type": "code",
   "execution_count": 15,
   "metadata": {},
   "outputs": [],
   "source": [
    "def get_profile(F, p1, p2, divider = 1, min_diff = 3.48, max_div_num = 8, min_len =  0.23, a = 0.23, min_dif=3.48):\n",
    "    #Функция рассчета профиля F - матрица формата ['id','x1',...,'xn','F'], p1, p2 - точки формата ['id','x1',...,'xn','F']\n",
    "    if np.linalg.norm(np.array(p1[1:-1]) - np.array(p2[1:-1]))/divider <= min_diff:\n",
    "        return 'close', 0\n",
    "    else:\n",
    "        div_num = 0\n",
    "        segment_len = np.linalg.norm( np.array(p1[1:-1]) - np.array(p2[1:-1]))\n",
    "        while (div_num < max_div_num-1) and (segment_len > min_len):\n",
    "            div_num+= 1\n",
    "            num_of_segments = (divider+1)*div_num + divider\n",
    "            segment_len = np.linalg.norm(np.array(p1[1:-1]) - np.array(p2[1:-1]))/num_of_segments\n",
    "\n",
    "        if div_num == 0:\n",
    "            return 'close', 0\n",
    "\n",
    "        points = []\n",
    "        for i in range(num_of_segments):\n",
    "            x = [-1.]\n",
    "            for j in range(1, len(p1)-1):\n",
    "                x.append((p1[j] + p2[j]*(i+1)/(num_of_segments-i))/(1+(i+1)/(num_of_segments-i)))\n",
    "            points.append(np.array(x))\n",
    "\n",
    "        Fs = [[point[1],  point[2], get_F_example([f[:-1] for f in F], const.config['consts']['a'], target=point)] \\\n",
    "                                                                                                for point in points]\n",
    "        Fs = sorted(Fs, key = lambda S: S[-1], reverse = False)\n",
    "#         print(Fs)\n",
    "\n",
    "        Fmin = np.min([F[-1] for F in Fs])\n",
    "        Fstar = p1[-1] if  p1[-1] < p2[-1] else p2[-1]\n",
    "\n",
    "        if Fstar - Fmin >= min_dif:\n",
    "            return 'different', Fstar - Fmin\n",
    "        else:\n",
    "            return 'common', Fstar - Fmin"
   ]
  },
  {
   "cell_type": "code",
   "execution_count": 16,
   "metadata": {},
   "outputs": [
    {
     "data": {
      "text/plain": [
       "(100, 4)"
      ]
     },
     "execution_count": 16,
     "metadata": {},
     "output_type": "execute_result"
    }
   ],
   "source": [
    "X = first.values\n",
    "F_matrix = X[:,:-1]\n",
    "F_matrix.shape"
   ]
  },
  {
   "cell_type": "code",
   "execution_count": 17,
   "metadata": {},
   "outputs": [
    {
     "data": {
      "text/plain": [
       "[10, 20, 30, 40, 50, 60, 70, 80, 90, 100, 110, 120, 130, 140, 150, 160]"
      ]
     },
     "execution_count": 17,
     "metadata": {},
     "output_type": "execute_result"
    }
   ],
   "source": [
    "step = 10\n",
    "layers_F = []\n",
    "current = step\n",
    "while current<X[:,-2].max():\n",
    "    layers_F.append(current)\n",
    "    current += step\n",
    "layers_F"
   ]
  },
  {
   "cell_type": "code",
   "execution_count": 18,
   "metadata": {},
   "outputs": [],
   "source": [
    "def calculate_distance(p, matrix):\n",
    "    \"\"\"\n",
    "    p - [id, X1,...,Xn,F, cluster_id]\n",
    "    matrix - [[id, X1,...,Xn,F, cluster_id],...,[id, X1,...,Xn,F, cluster_id]]\n",
    "    ========\n",
    "    return - index of nearest neighbor\n",
    "    \"\"\"\n",
    "    start = True\n",
    "    for row_index, row in enumerate(matrix):\n",
    "        if p[0]==row[0]:\n",
    "            continue\n",
    "        distance = np.linalg.norm(np.array(p[1:-2]) - np.array(row[1:-2]))\n",
    "        if start:\n",
    "            min_distanse = distance\n",
    "            min_row_index = row_index\n",
    "            start = False\n",
    "        if min_distanse > distance:\n",
    "#             print(min_distanse)\n",
    "            min_distanse = distance\n",
    "            min_row_index = row_index\n",
    "    return min_row_index"
   ]
  },
  {
   "cell_type": "code",
   "execution_count": 19,
   "metadata": {},
   "outputs": [],
   "source": [
    "def check_levels(p, connected, layers):\n",
    "    \"\"\"\n",
    "    p - [id, X1,...,Xn,F, cluster_id]\n",
    "    connected - list of points [id, X1,...,Xn,F, cluster_id]\n",
    "    layers - list\n",
    "    ========\n",
    "    return - bool value, point is closed or not\n",
    "    \"\"\"\n",
    "    if len(connected) == 0:\n",
    "        return True\n",
    "    curret_layer = None\n",
    "    for i in range(len(layers)):\n",
    "        if p[-2]<layers[i]:\n",
    "            curret_layer = layers[i-1]\n",
    "            break\n",
    "    if curret_layer is None:\n",
    "        curret_layer = layers[-1]\n",
    "    for p_c in connected:\n",
    "        if p_c[-2]>curret_layer:\n",
    "            return False\n",
    "    return True\n",
    "    "
   ]
  },
  {
   "cell_type": "code",
   "execution_count": 20,
   "metadata": {},
   "outputs": [],
   "source": [
    "def calculate_distance_for_2_points(A,B):\n",
    "    \"\"\"\n",
    "    A - [id, X1,...,Xn,F, cluster_id]\n",
    "    B - [id, X1,...,Xn,F, cluster_id]\n",
    "    =========\n",
    "    return - distance between 2 points\n",
    "    \"\"\"\n",
    "    return np.linalg.norm(np.array(A[1:-2]) - np.array(B[1:-2]))"
   ]
  },
  {
   "cell_type": "code",
   "execution_count": 21,
   "metadata": {},
   "outputs": [],
   "source": [
    "def merge(A,B, F_matrix):\n",
    "    \"\"\"\n",
    "    A - list of points [id, X1,...,Xn,F, cluster_id]\n",
    "    B - list of points [id, X1,...,Xn,F, cluster_id]\n",
    "    F_matrix - [[id, X1,...,Xn,F],...,[id, X1,...,Xn,F]]\n",
    "    =======\n",
    "    return - bool value, status for merging clusters\n",
    "    \"\"\"\n",
    "    for p_1 in A:\n",
    "        for p_2 in B:\n",
    "            result, _ = get_profile(F_matrix, p_1[:-1], p_2[:-1])\n",
    "#             print(result)\n",
    "            if result == 'different':\n",
    "                return False\n",
    "    return True"
   ]
  },
  {
   "cell_type": "code",
   "execution_count": 22,
   "metadata": {
    "scrolled": true
   },
   "outputs": [
    {
     "name": "stdout",
     "output_type": "stream",
     "text": [
      "##########################################################################################\n",
      "CURRENT POINT [120.           6.26287356   9.05399875  33.02133931   0.        ]\n",
      "NEAREST POINT [119.           6.33431371   8.59568609  52.15760329   0.        ]\n",
      "close\n",
      "TOGETHER NONE\n",
      "##########################################################################################\n",
      "CURRENT POINT [143.           9.25102618   6.45832765  36.0672901    0.        ]\n",
      "NEAREST POINT [141.           8.94432229   6.13047182  49.79205438   0.        ]\n",
      "close\n",
      "TOGETHER NONE\n",
      "##########################################################################################\n",
      "CURRENT POINT [121.           3.39888397   6.31857773  36.30980773   0.        ]\n",
      "NEAREST POINT [18.          3.77881294  5.99478238 60.58126279  0.        ]\n",
      "close\n",
      "TOGETHER NONE\n",
      "##########################################################################################\n",
      "CURRENT POINT [142.           9.41271074   5.76408962  37.33029995   0.        ]\n",
      "NEAREST POINT [40.          9.21303256  5.48332441 37.55144072  0.        ]\n",
      "close\n",
      "TOGETHER NONE\n",
      "##########################################################################################\n",
      "CURRENT POINT [40.          9.21303256  5.48332441 37.55144072  0.        ]\n",
      "NEAREST POINT [39.          8.95793353  6.00082126 50.73673959  0.        ]\n",
      "close\n",
      "DIFFERENT SUB\n",
      "4 MERGE\n",
      "##########################################################################################\n",
      "CURRENT POINT [104.           6.82231026   3.43165996  37.76739478   0.        ]\n",
      "NEAREST POINT [ 1.          6.43643806  3.55131496 43.93299912  0.        ]\n",
      "close\n",
      "TOGETHER NONE\n",
      "##########################################################################################\n",
      "CURRENT POINT [ 1.          6.43643806  3.55131496 43.93299912  0.        ]\n",
      "NEAREST POINT [105.           6.2285024    3.67667885  44.46748797   0.        ]\n",
      "close\n",
      "DIFFERENT SUB\n",
      "6 MERGE\n",
      "##########################################################################################\n",
      "CURRENT POINT [139.           7.87970993   6.86734379  44.30456504   0.        ]\n",
      "NEAREST POINT [86.          7.47096759  6.93887454 49.19341054  0.        ]\n",
      "close\n",
      "TOGETHER NONE\n",
      "##########################################################################################\n",
      "CURRENT POINT [105.           6.2285024    3.67667885  44.46748797   0.        ]\n",
      "NEAREST POINT [ 2.          6.61760379  3.89379627 49.18126246  0.        ]\n",
      "close\n",
      "DIFFERENT SUB\n",
      "8 MERGE\n",
      "##########################################################################################\n",
      "CURRENT POINT [118.           6.03592332   8.12013352  45.63907615   0.        ]\n",
      "NEAREST POINT [117.           6.2159394    7.83406566  54.4539309    0.        ]\n",
      "close\n",
      "TOGETHER NONE\n",
      "##########################################################################################\n",
      "CURRENT POINT [ 2.          6.61760379  3.89379627 49.18126246  0.        ]\n",
      "NEAREST POINT [ 4.          6.40960762  4.21901562 65.47867087  0.        ]\n",
      "close\n",
      "DIFFERENT SUB\n",
      "10 MERGE\n",
      "##########################################################################################\n",
      "CURRENT POINT [86.          7.47096759  6.93887454 49.19341054  0.        ]\n",
      "NEAREST POINT [137.           7.55181833   6.39262332  56.23634168   0.        ]\n",
      "close\n",
      "DIFFERENT SUB\n",
      "11 MERGE\n",
      "##########################################################################################\n",
      "CURRENT POINT [37.          8.48268868  6.04653796 49.55462223  0.        ]\n",
      "NEAREST POINT [38.          8.75222842  5.97883815 50.68081508  0.        ]\n",
      "close\n",
      "TOGETHER NONE\n",
      "##########################################################################################\n",
      "CURRENT POINT [141.           8.94432229   6.13047182  49.79205438   0.        ]\n",
      "NEAREST POINT [39.          8.95793353  6.00082126 50.73673959  0.        ]\n",
      "close\n",
      "DIFFERENT SUB\n",
      "13 MERGE\n",
      "##########################################################################################\n",
      "CURRENT POINT [38.          8.75222842  5.97883815 50.68081508  0.        ]\n",
      "NEAREST POINT [39.          8.95793353  6.00082126 50.73673959  0.        ]\n",
      "close\n",
      "DIFFERENT SUB\n",
      "14 MERGE\n",
      "##########################################################################################\n",
      "CURRENT POINT [39.          8.95793353  6.00082126 50.73673959  0.        ]\n",
      "NEAREST POINT [140.           8.1799481    5.96558878  52.63738026   0.        ]\n",
      "close\n",
      "DIFFERENT SUB\n",
      "15 MERGE\n",
      "##########################################################################################\n",
      "CURRENT POINT [16.          6.23931375  8.46665802 51.34777671  0.        ]\n",
      "NEAREST POINT [17.          6.29888202  8.55085083 54.99833252  0.        ]\n",
      "close\n",
      "TOGETHER NONE\n",
      "##########################################################################################\n",
      "CURRENT POINT [126.           4.63159564   5.52237003  51.78970018   0.        ]\n",
      "NEAREST POINT [22.          4.5115915   5.83280941 60.68946323  0.        ]\n",
      "close\n",
      "TOGETHER NONE\n",
      "##########################################################################################\n",
      "CURRENT POINT [119.           6.33431371   8.59568609  52.15760329   0.        ]\n",
      "NEAREST POINT [17.          6.29888202  8.55085083 54.99833252  0.        ]\n",
      "close\n",
      "DIFFERENT SUB\n",
      "18 MERGE\n",
      "##########################################################################################\n",
      "CURRENT POINT [140.           8.1799481    5.96558878  52.63738026   0.        ]\n",
      "NEAREST POINT [36.          7.98258063  5.81316835 55.91884064  0.        ]\n",
      "close\n",
      "DIFFERENT SUB\n",
      "19 MERGE\n",
      "##########################################################################################\n",
      "CURRENT POINT [15.          6.44131171  7.79480822 52.81005449  0.        ]\n",
      "NEAREST POINT [14.          6.26584695  7.65979493 56.46373708  0.        ]\n",
      "close\n",
      "TOGETHER NONE\n",
      "##########################################################################################\n",
      "CURRENT POINT [117.           6.2159394    7.83406566  54.4539309    0.        ]\n",
      "NEAREST POINT [14.          6.26584695  7.65979493 56.46373708  0.        ]\n",
      "close\n",
      "DIFFERENT SUB\n",
      "21 MERGE\n",
      "##########################################################################################\n",
      "CURRENT POINT [123.           3.95123662   6.23679466  54.99310863   0.        ]\n",
      "NEAREST POINT [124.           4.20795591   6.26849199  55.82748401   0.        ]\n",
      "close\n",
      "TOGETHER NONE\n",
      "##########################################################################################\n",
      "CURRENT POINT [17.          6.29888202  8.55085083 54.99833252  0.        ]\n",
      "NEAREST POINT [14.          6.26584695  7.65979493 56.46373708  0.        ]\n",
      "close\n",
      "DIFFERENT SUB\n",
      "23 MERGE\n",
      "##########################################################################################\n",
      "CURRENT POINT [124.           4.20795591   6.26849199  55.82748401   0.        ]\n",
      "NEAREST POINT [21.          4.27035024  5.99067874 64.25652831  0.        ]\n",
      "close\n",
      "DIFFERENT SUB\n",
      "24 MERGE\n",
      "##########################################################################################\n",
      "CURRENT POINT [36.          7.98258063  5.81316835 55.91884064  0.        ]\n",
      "NEAREST POINT [35.          7.72331651  5.69120959 60.22871032  0.        ]\n",
      "close\n",
      "DIFFERENT SUB\n",
      "25 MERGE\n",
      "##########################################################################################\n",
      "CURRENT POINT [137.           7.55181833   6.39262332  56.23634168   0.        ]\n",
      "NEAREST POINT [32.          6.96287014  6.23229532 84.82037418  0.        ]\n",
      "close\n",
      "DIFFERENT SUB\n",
      "26 MERGE\n",
      "##########################################################################################\n",
      "CURRENT POINT [14.          6.26584695  7.65979493 56.46373708  0.        ]\n",
      "NEAREST POINT [13.          6.54276669  7.18307757 62.90006413  0.        ]\n",
      "close\n",
      "DIFFERENT SUB\n",
      "27 MERGE\n",
      "##########################################################################################\n",
      "CURRENT POINT [136.           7.70905457   5.25543756  56.46689441   0.        ]\n",
      "NEAREST POINT [34.          7.70649161  5.37231914 59.59048672  0.        ]\n",
      "close\n",
      "TOGETHER NONE\n",
      "##########################################################################################\n",
      "CURRENT POINT [128.           5.39847357   6.73360073  59.13306121   0.        ]\n",
      "NEAREST POINT [115.           5.85989894   6.6823414   79.58117996   0.        ]\n",
      "close\n",
      "TOGETHER NONE\n"
     ]
    },
    {
     "name": "stdout",
     "output_type": "stream",
     "text": [
      "##########################################################################################\n",
      "CURRENT POINT [122.           4.02576187   5.82644965  59.42016448   0.        ]\n",
      "NEAREST POINT [19.          3.99579287  5.97130429 64.64137585  0.        ]\n",
      "close\n",
      "TOGETHER NONE\n",
      "##########################################################################################\n",
      "CURRENT POINT [34.          7.70649161  5.37231914 59.59048672  0.        ]\n",
      "NEAREST POINT [35.          7.72331651  5.69120959 60.22871032  0.        ]\n",
      "close\n",
      "DIFFERENT SUB\n",
      "31 MERGE\n",
      "##########################################################################################\n",
      "CURRENT POINT [35.          7.72331651  5.69120959 60.22871032  0.        ]\n",
      "NEAREST POINT [33.          7.31075837  5.77864078 77.1835043   0.        ]\n",
      "close\n",
      "DIFFERENT SUB\n",
      "32 MERGE\n",
      "##########################################################################################\n",
      "CURRENT POINT [24.          4.9478564   5.78441067 60.57384757  0.        ]\n",
      "NEAREST POINT [23.          4.97677903  6.09885855 63.57552114  0.        ]\n",
      "close\n",
      "TOGETHER NONE\n",
      "##########################################################################################\n",
      "CURRENT POINT [18.          3.77881294  5.99478238 60.58126279  0.        ]\n",
      "NEAREST POINT [20.          3.82593085  5.96996009 63.46442899  0.        ]\n",
      "close\n",
      "DIFFERENT SUB\n",
      "34 MERGE\n",
      "##########################################################################################\n",
      "CURRENT POINT [22.          4.5115915   5.83280941 60.68946323  0.        ]\n",
      "NEAREST POINT [125.           4.42288141   6.0023598   63.72045621   0.        ]\n",
      "close\n",
      "DIFFERENT SUB\n",
      "35 MERGE\n",
      "##########################################################################################\n",
      "CURRENT POINT [ 3.          6.29826725  4.20539731 61.23680513  0.        ]\n",
      "NEAREST POINT [ 4.          6.40960762  4.21901562 65.47867087  0.        ]\n",
      "close\n",
      "DIFFERENT SUB\n",
      "36 MERGE\n",
      "##########################################################################################\n",
      "CURRENT POINT [127.           5.08447373   6.32712728  62.63668797   0.        ]\n",
      "NEAREST POINT [23.          4.97677903  6.09885855 63.57552114  0.        ]\n",
      "close\n",
      "DIFFERENT SUB\n",
      "37 MERGE\n",
      "##########################################################################################\n",
      "CURRENT POINT [13.          6.54276669  7.18307757 62.90006413  0.        ]\n",
      "NEAREST POINT [12.          6.46497635  6.83118805 90.98400979  0.        ]\n",
      "close\n",
      "DIFFERENT SUB\n",
      "38 MERGE\n",
      "##########################################################################################\n",
      "CURRENT POINT [20.          3.82593085  5.96996009 63.46442899  0.        ]\n",
      "NEAREST POINT [19.          3.99579287  5.97130429 64.64137585  0.        ]\n",
      "close\n",
      "DIFFERENT SUB\n",
      "39 MERGE\n",
      "##########################################################################################\n",
      "CURRENT POINT [23.          4.97677903  6.09885855 63.57552114  0.        ]\n",
      "NEAREST POINT [25.          5.38511394  6.16846994 74.49799324  0.        ]\n",
      "close\n",
      "DIFFERENT SUB\n",
      "40 MERGE\n",
      "##########################################################################################\n",
      "CURRENT POINT [125.           4.42288141   6.0023598   63.72045621   0.        ]\n",
      "NEAREST POINT [21.          4.27035024  5.99067874 64.25652831  0.        ]\n",
      "close\n",
      "DIFFERENT SUB\n",
      "41 MERGE\n",
      "##########################################################################################\n",
      "CURRENT POINT [21.          4.27035024  5.99067874 64.25652831  0.        ]\n",
      "NEAREST POINT [19.          3.99579287  5.97130429 64.64137585  0.        ]\n",
      "close\n",
      "DIFFERENT SUB\n",
      "42 MERGE\n",
      "##########################################################################################\n",
      "CURRENT POINT [19.          3.99579287  5.97130429 64.64137585  0.        ]\n",
      "NEAREST POINT [25.          5.38511394  6.16846994 74.49799324  0.        ]\n",
      "close\n",
      "DIFFERENT SUB\n",
      "43 MERGE\n",
      "##########################################################################################\n",
      "CURRENT POINT [ 4.          6.40960762  4.21901562 65.47867087  0.        ]\n",
      "NEAREST POINT [106.           6.52034452   4.32796474  67.27474769   0.        ]\n",
      "close\n",
      "DIFFERENT SUB\n",
      "44 MERGE\n",
      "##########################################################################################\n",
      "CURRENT POINT [106.           6.52034452   4.32796474  67.27474769   0.        ]\n",
      "NEAREST POINT [107.           6.53385344   4.50395504  73.05949642   0.        ]\n",
      "close\n",
      "DIFFERENT SUB\n",
      "45 MERGE\n",
      "##########################################################################################\n",
      "CURRENT POINT [109.           6.37280682   4.70198619  68.40765208   0.        ]\n",
      "NEAREST POINT [107.           6.53385344   4.50395504  73.05949642   0.        ]\n",
      "close\n",
      "DIFFERENT SUB\n",
      "46 MERGE\n",
      "##########################################################################################\n",
      "CURRENT POINT [ 5.          6.59165138  4.54572637 71.26127893  0.        ]\n",
      "NEAREST POINT [107.           6.53385344   4.50395504  73.05949642   0.        ]\n",
      "close\n",
      "DIFFERENT SUB\n",
      "47 MERGE\n",
      "##########################################################################################\n",
      "CURRENT POINT [107.           6.53385344   4.50395504  73.05949642   0.        ]\n",
      "NEAREST POINT [ 6.          6.56937367  5.02218013 74.6521089   0.        ]\n",
      "close\n",
      "DIFFERENT SUB\n",
      "48 MERGE\n",
      "##########################################################################################\n",
      "CURRENT POINT [25.          5.38511394  6.16846994 74.49799324  0.        ]\n",
      "NEAREST POINT [ 27.           5.68143626   5.87645228 107.13910218   0.        ]\n",
      "close\n",
      "DIFFERENT SUB\n",
      "49 MERGE\n",
      "##########################################################################################\n",
      "CURRENT POINT [ 6.          6.56937367  5.02218013 74.6521089   0.        ]\n",
      "NEAREST POINT [110.           6.36563726   5.02326559  79.56097249   0.        ]\n",
      "close\n",
      "DIFFERENT SUB\n",
      "50 MERGE\n",
      "##########################################################################################\n",
      "CURRENT POINT [116.           6.18590031   7.00725648  75.22028808   0.        ]\n",
      "NEAREST POINT [114.           6.17436839   6.79204344  93.46971855   0.        ]\n",
      "close\n",
      "TOGETHER NONE\n",
      "##########################################################################################\n",
      "CURRENT POINT [33.          7.31075837  5.77864078 77.1835043   0.        ]\n",
      "NEAREST POINT [138.           7.2457247    5.80431907  80.65776512   0.        ]\n",
      "close\n",
      "DIFFERENT SUB\n",
      "52 MERGE\n",
      "##########################################################################################\n",
      "CURRENT POINT [110.           6.36563726   5.02326559  79.56097249   0.        ]\n",
      "NEAREST POINT [108.           6.34821706   5.18493164  86.60310398   0.        ]\n",
      "close\n",
      "DIFFERENT SUB\n",
      "53 MERGE\n",
      "##########################################################################################\n",
      "CURRENT POINT [115.           5.85989894   6.6823414   79.58117996   0.        ]\n",
      "NEAREST POINT [92.          6.15542069  6.6922092  99.09477529  0.        ]\n",
      "close\n",
      "DIFFERENT SUB\n",
      "54 MERGE\n",
      "##########################################################################################\n",
      "CURRENT POINT [138.           7.2457247    5.80431907  80.65776512   0.        ]\n",
      "NEAREST POINT [135.           7.06009996   5.83827106  83.73189718   0.        ]\n",
      "close\n",
      "DIFFERENT SUB\n",
      "55 MERGE\n",
      "##########################################################################################\n",
      "CURRENT POINT [135.           7.06009996   5.83827106  83.73189718   0.        ]\n",
      "NEAREST POINT [32.          6.96287014  6.23229532 84.82037418  0.        ]\n",
      "close\n",
      "DIFFERENT SUB\n",
      "56 MERGE\n",
      "##########################################################################################\n",
      "CURRENT POINT [32.          6.96287014  6.23229532 84.82037418  0.        ]\n",
      "NEAREST POINT [ 87.           6.69233075   6.13396087 119.64711343   0.        ]\n",
      "close\n",
      "DIFFERENT SUB\n",
      "57 MERGE\n",
      "##########################################################################################\n",
      "CURRENT POINT [108.           6.34821706   5.18493164  86.60310398   0.        ]\n",
      "NEAREST POINT [ 90.           6.16855469   5.42003334 105.58238592   0.        ]\n",
      "close\n",
      "DIFFERENT SUB\n",
      "58 MERGE\n",
      "##########################################################################################\n",
      "CURRENT POINT [12.          6.46497635  6.83118805 90.98400979  0.        ]\n"
     ]
    },
    {
     "name": "stdout",
     "output_type": "stream",
     "text": [
      "NEAREST POINT [11.          6.50662339  6.76772309 93.67412705  0.        ]\n",
      "close\n",
      "DIFFERENT SUB\n",
      "59 MERGE\n",
      "##########################################################################################\n",
      "CURRENT POINT [114.           6.17436839   6.79204344  93.46971855   0.        ]\n",
      "NEAREST POINT [92.          6.15542069  6.6922092  99.09477529  0.        ]\n",
      "close\n",
      "DIFFERENT SUB\n",
      "60 MERGE\n",
      "##########################################################################################\n",
      "CURRENT POINT [11.          6.50662339  6.76772309 93.67412705  0.        ]\n",
      "NEAREST POINT [190.           6.39393847   6.53017956 117.76157696   0.        ]\n",
      "close\n",
      "DIFFERENT SUB\n",
      "61 MERGE\n",
      "##########################################################################################\n",
      "CURRENT POINT [ 7.          5.99718856  5.41217629 97.48208027  0.        ]\n",
      "NEAREST POINT [ 90.           6.16855469   5.42003334 105.58238592   0.        ]\n",
      "close\n",
      "DIFFERENT SUB\n",
      "62 MERGE\n",
      "##########################################################################################\n",
      "CURRENT POINT [92.          6.15542069  6.6922092  99.09477529  0.        ]\n",
      "NEAREST POINT [187.           6.23187744   6.44119439 120.39735575   0.        ]\n",
      "close\n",
      "DIFFERENT SUB\n",
      "63 MERGE\n",
      "##########################################################################################\n",
      "CURRENT POINT [ 90.           6.16855469   5.42003334 105.58238592   0.        ]\n",
      "NEAREST POINT [  8.           6.23225642   5.62999362 140.23104819   0.        ]\n",
      "close\n",
      "DIFFERENT SUB\n",
      "64 MERGE\n",
      "##########################################################################################\n",
      "CURRENT POINT [ 27.           5.68143626   5.87645228 107.13910218   0.        ]\n",
      "NEAREST POINT [ 26.           5.74308132   5.74637447 114.3618619    0.        ]\n",
      "close\n",
      "DIFFERENT SUB\n",
      "65 MERGE\n",
      "##########################################################################################\n",
      "CURRENT POINT [ 84.           5.77552996   5.68744668 113.18799458   0.        ]\n",
      "NEAREST POINT [ 26.           5.74308132   5.74637447 114.3618619    0.        ]\n",
      "close\n",
      "DIFFERENT SUB\n",
      "66 MERGE\n",
      "##########################################################################################\n",
      "CURRENT POINT [ 26.           5.74308132   5.74637447 114.3618619    0.        ]\n",
      "NEAREST POINT [188.           5.91104972   5.65764222 118.10713063   0.        ]\n",
      "close\n",
      "DIFFERENT SUB\n",
      "67 MERGE\n",
      "##########################################################################################\n",
      "CURRENT POINT [192.           6.56840396   5.625053   115.35669071   0.        ]\n",
      "NEAREST POINT [ 89.           6.60724074   5.75014104 127.04984346   0.        ]\n",
      "close\n",
      "TOGETHER NONE\n",
      "##########################################################################################\n",
      "CURRENT POINT [195.           5.85325108   6.13202738 117.38725227   0.        ]\n",
      "NEAREST POINT [194.           5.93146305   6.05048329 135.20407967   0.        ]\n",
      "close\n",
      "TOGETHER NONE\n",
      "##########################################################################################\n",
      "CURRENT POINT [190.           6.39393847   6.53017956 117.76157696   0.        ]\n",
      "NEAREST POINT [112.           6.432938     6.43375437 129.84596829   0.        ]\n",
      "close\n",
      "DIFFERENT SUB\n",
      "70 MERGE\n",
      "##########################################################################################\n",
      "CURRENT POINT [188.           5.91104972   5.65764222 118.10713063   0.        ]\n",
      "NEAREST POINT [193.           5.906122     5.87001886 132.73204982   0.        ]\n",
      "close\n",
      "DIFFERENT SUB\n",
      "71 MERGE\n",
      "##########################################################################################\n",
      "CURRENT POINT [ 87.           6.69233075   6.13396087 119.64711343   0.        ]\n",
      "NEAREST POINT [133.           6.57784575   6.14265488 138.85694297   0.        ]\n",
      "close\n",
      "DIFFERENT SUB\n",
      "72 MERGE\n",
      "##########################################################################################\n",
      "CURRENT POINT [187.           6.23187744   6.44119439 120.39735575   0.        ]\n",
      "NEAREST POINT [112.           6.432938     6.43375437 129.84596829   0.        ]\n",
      "close\n",
      "DIFFERENT SUB\n",
      "73 MERGE\n",
      "##########################################################################################\n",
      "CURRENT POINT [ 31.           6.64182251   5.80252499 123.66979852   0.        ]\n",
      "NEAREST POINT [ 89.           6.60724074   5.75014104 127.04984346   0.        ]\n",
      "close\n",
      "DIFFERENT SUB\n",
      "74 MERGE\n",
      "##########################################################################################\n",
      "CURRENT POINT [129.           5.82049091   5.92913531 125.91888319   0.        ]\n",
      "NEAREST POINT [193.           5.906122     5.87001886 132.73204982   0.        ]\n",
      "close\n",
      "DIFFERENT SUB\n",
      "75 MERGE\n",
      "##########################################################################################\n",
      "CURRENT POINT [ 89.           6.60724074   5.75014104 127.04984346   0.        ]\n",
      "NEAREST POINT [111.           6.46667029   5.78277446 145.84518658   0.        ]\n",
      "close\n",
      "DIFFERENT SUB\n",
      "76 MERGE\n",
      "##########################################################################################\n",
      "CURRENT POINT [112.           6.432938     6.43375437 129.84596829   0.        ]\n",
      "NEAREST POINT [ 85.           6.45508262   6.27650718 157.98641565   0.        ]\n",
      "close\n",
      "DIFFERENT SUB\n",
      "77 MERGE\n",
      "##########################################################################################\n",
      "CURRENT POINT [193.           5.906122     5.87001886 132.73204982   0.        ]\n",
      "NEAREST POINT [194.           5.93146305   6.05048329 135.20407967   0.        ]\n",
      "close\n",
      "DIFFERENT SUB\n",
      "78 MERGE\n",
      "##########################################################################################\n",
      "CURRENT POINT [194.           5.93146305   6.05048329 135.20407967   0.        ]\n",
      "NEAREST POINT [131.           6.00445771   6.07822066 138.8240324    0.        ]\n",
      "close\n",
      "DIFFERENT SUB\n",
      "79 MERGE\n",
      "##########################################################################################\n",
      "CURRENT POINT [  9.           6.288359     5.6362116  138.81458442   0.        ]\n",
      "NEAREST POINT [  8.           6.23225642   5.62999362 140.23104819   0.        ]\n",
      "close\n",
      "DIFFERENT SUB\n",
      "80 MERGE\n",
      "##########################################################################################\n",
      "CURRENT POINT [131.           6.00445771   6.07822066 138.8240324    0.        ]\n",
      "NEAREST POINT [ 91.           6.08963783   5.99262992 146.68861346   0.        ]\n",
      "close\n",
      "DIFFERENT SUB\n",
      "81 MERGE\n",
      "##########################################################################################\n",
      "CURRENT POINT [133.           6.57784575   6.14265488 138.85694297   0.        ]\n",
      "NEAREST POINT [134.           6.48684796   6.21830608 156.8887837    0.        ]\n",
      "close\n",
      "DIFFERENT SUB\n",
      "82 MERGE\n",
      "##########################################################################################\n",
      "CURRENT POINT [  8.           6.23225642   5.62999362 140.23104819   0.        ]\n",
      "NEAREST POINT [191.           6.17690864   5.68239893 143.3739533    0.        ]\n",
      "close\n",
      "DIFFERENT SUB\n",
      "83 MERGE\n",
      "##########################################################################################\n",
      "CURRENT POINT [191.           6.17690864   5.68239893 143.3739533    0.        ]\n",
      "NEAREST POINT [ 29.           6.2029852    5.78437534 154.40102368   0.        ]\n",
      "close\n",
      "DIFFERENT SUB\n",
      "84 MERGE\n",
      "##########################################################################################\n",
      "CURRENT POINT [ 10.           6.54256733   6.28884093 143.53177809   0.        ]\n",
      "NEAREST POINT [189.           6.4791741    6.26846995 158.62924292   0.        ]\n",
      "close\n",
      "TOGETHER NONE\n",
      "##########################################################################################\n",
      "CURRENT POINT [111.           6.46667029   5.78277446 145.84518658   0.        ]\n",
      "NEAREST POINT [ 30.           6.44457687   5.78862154 147.63134484   0.        ]\n",
      "close\n",
      "DIFFERENT SUB\n",
      "86 MERGE\n",
      "##########################################################################################\n",
      "CURRENT POINT [ 91.           6.08963783   5.99262992 146.68861346   0.        ]\n",
      "NEAREST POINT [132.           6.25718864   5.90827363 159.01337468   0.        ]\n",
      "close\n",
      "DIFFERENT SUB\n",
      "87 MERGE\n",
      "##########################################################################################\n",
      "CURRENT POINT [ 30.           6.44457687   5.78862154 147.63134484   0.        ]\n"
     ]
    },
    {
     "name": "stdout",
     "output_type": "stream",
     "text": [
      "NEAREST POINT [113.           6.32540319   5.97203809 157.63845024   0.        ]\n",
      "close\n",
      "DIFFERENT SUB\n",
      "88 MERGE\n",
      "##########################################################################################\n",
      "CURRENT POINT [ 88.           6.33567175   6.25847719 150.17816796   0.        ]\n",
      "NEAREST POINT [ 85.           6.45508262   6.27650718 157.98641565   0.        ]\n",
      "close\n",
      "DIFFERENT SUB\n",
      "89 MERGE\n",
      "##########################################################################################\n",
      "CURRENT POINT [130.           6.22688319   6.1599121  150.3094038    0.        ]\n",
      "NEAREST POINT [186.           6.30813047   6.12066905 161.52987543   0.        ]\n",
      "close\n",
      "TOGETHER NONE\n",
      "##########################################################################################\n",
      "CURRENT POINT [ 29.           6.2029852    5.78437534 154.40102368   0.        ]\n",
      "NEAREST POINT [ 28.           6.2280145    5.83239853 158.12115711   0.        ]\n",
      "close\n",
      "DIFFERENT SUB\n",
      "91 MERGE\n",
      "##########################################################################################\n",
      "CURRENT POINT [134.           6.48684796   6.21830608 156.8887837    0.        ]\n",
      "NEAREST POINT [189.           6.4791741    6.26846995 158.62924292   0.        ]\n",
      "close\n",
      "DIFFERENT SUB\n",
      "92 MERGE\n",
      "##########################################################################################\n",
      "CURRENT POINT [113.           6.32540319   5.97203809 157.63845024   0.        ]\n",
      "NEAREST POINT [132.           6.25718864   5.90827363 159.01337468   0.        ]\n",
      "close\n",
      "DIFFERENT SUB\n",
      "93 MERGE\n",
      "##########################################################################################\n",
      "CURRENT POINT [ 85.           6.45508262   6.27650718 157.98641565   0.        ]\n",
      "NEAREST POINT [189.           6.4791741    6.26846995 158.62924292   0.        ]\n",
      "close\n",
      "DIFFERENT SUB\n",
      "94 NOT MERGE\n",
      "##########################################################################################\n",
      "CURRENT POINT [ 28.           6.2280145    5.83239853 158.12115711   0.        ]\n",
      "NEAREST POINT [132.           6.25718864   5.90827363 159.01337468   0.        ]\n",
      "close\n",
      "DIFFERENT SUB\n",
      "95 NOT MERGE\n",
      "##########################################################################################\n",
      "CURRENT POINT [189.           6.4791741    6.26846995 158.62924292   0.        ]\n",
      "NEAREST POINT [186.           6.30813047   6.12066905 161.52987543   0.        ]\n",
      "close\n",
      "DIFFERENT SUB\n",
      "96 MERGE\n",
      "##########################################################################################\n",
      "CURRENT POINT [132.           6.25718864   5.90827363 159.01337468   0.        ]\n",
      "NEAREST POINT [ 83.           6.32316462   6.08484703 161.75856972   0.        ]\n",
      "close\n",
      "DIFFERENT SUB\n",
      "97 MERGE\n",
      "##########################################################################################\n",
      "CURRENT POINT [186.           6.30813047   6.12066905 161.52987543   0.        ]\n",
      "NEAREST POINT [ 83.           6.32316462   6.08484703 161.75856972   0.        ]\n",
      "close\n",
      "DIFFERENT SUB\n",
      "98 NOT MERGE\n",
      "##########################################################################################\n",
      "CURRENT POINT [ 83.           6.32316462   6.08484703 161.75856972   0.        ]\n",
      "NEAREST POINT [186.           6.30813047   6.12066905 161.52987543   0.        ]\n",
      "close\n",
      "******************************\n",
      "100\n",
      "******************************\n",
      "{120: 20, 143: 19, 121: 18, 142: 19, 40: 19, 104: 4, 1: 4, 139: 19, 105: 4, 118: 20, 2: 4, 86: 19, 37: 19, 141: 19, 38: 19, 39: 19, 16: 20, 126: 18, 119: 20, 140: 19, 15: 20, 117: 20, 123: 18, 17: 20, 124: 18, 36: 19, 137: 19, 14: 20, 136: 19, 128: 20, 122: 18, 34: 19, 35: 19, 24: 18, 18: 18, 22: 18, 3: 4, 127: 18, 13: 20, 20: 18, 23: 18, 125: 18, 21: 18, 19: 18, 4: 4, 106: 4, 109: 4, 5: 4, 107: 4, 25: 18, 6: 4, 116: 20, 33: 19, 110: 4, 115: 20, 138: 19, 135: 19, 32: 19, 108: 4, 12: 20, 114: 20, 11: 20, 7: 4, 92: 20, 90: 4, 27: 18, 84: 18, 26: 18, 192: 18, 195: 18, 190: 20, 188: 18, 87: 19, 187: 20, 31: 18, 129: 18, 89: 18, 112: 20, 193: 18, 194: 18, 9: 4, 131: 18, 133: 19, 8: 4, 191: 4, 10: 19, 111: 18, 91: 18, 30: 18, 88: 20, 130: 20, 29: 4, 134: 19, 113: 18, 85: 20, 28: 4, 189: 20, 132: 4, 186: 20, 83: 20}\n",
      "100\n",
      "******************************\n",
      "62\n"
     ]
    }
   ],
   "source": [
    "subcluster_result = {int(x[0]):None for x in X}\n",
    "connected_points = {int(x[0]):[] for x in X}\n",
    "closed_points = []\n",
    "subcluster = 0\n",
    "start = True\n",
    "for k,p in enumerate(X):\n",
    "    print('###'*30)\n",
    "    print('CURRENT POINT', p)\n",
    "    if k == X.shape[0]-1:\n",
    "        index = calculate_distance(p,X)\n",
    "        subcluster_result[int(p[0])] = subcluster_result[int(X[index][0])]\n",
    "        nearest_p = X[index]\n",
    "        result, value = get_profile(F_matrix, p[:-1], nearest_p[:-1]) #calculate profile\n",
    "    else:\n",
    "        index = calculate_distance(p,X[k:]) # find nearest neighbor\n",
    "        result, value = get_profile(F_matrix, p[:-1], X[k+index,:-1]) #calculate profile\n",
    "        nearest_p = X[k+index]\n",
    "    print('NEAREST POINT', nearest_p)\n",
    "#     plt.scatter(X[:,1],X[:,2], c='b')\n",
    "#     plt.scatter(nearest_p[1],nearest_p[2], c='r')\n",
    "#     plt.scatter(p[1],p[2], c='g')\n",
    "#     plt.show()\n",
    "    print(result)\n",
    "    if result != 'common' and result != 'close': # Если точки разные\n",
    "        if subcluster_result[int(p[0])] == None:\n",
    "            if not start:\n",
    "                subcluster += 1\n",
    "            subcluster_result[int(p[0])] = subcluster\n",
    "            \n",
    "    else: # Если точки близки или профиль прошел проверку\n",
    "        #Обе точки не имеют подкластера-создаем новый\n",
    "        \n",
    "        if subcluster_result[int(p[0])] == None and subcluster_result[int(nearest_p[0])] == None:\n",
    "            print(\"TOGETHER NONE\")\n",
    "            if not start:\n",
    "                subcluster += 1\n",
    "            subcluster_result[int(p[0])] = subcluster\n",
    "            subcluster_result[int(nearest_p[0])] = subcluster\n",
    "            \n",
    "        #Одна из точек не имеет подкластера или они не совпадают\n",
    "        elif subcluster_result[int(p[0])] != subcluster_result[int(nearest_p[0])]:\n",
    "            print(\"DIFFERENT SUB\")\n",
    "#             if k == 96 or k == 97:\n",
    "#             print(subcluster_result)\n",
    "#             print(subcluster_result[int(p[0])])\n",
    "#             print(subcluster_result[int(nearest_p[0])])\n",
    "            A = [p]\n",
    "            B = [nearest_p]\n",
    "            #Находим все точки принадлежащие данным подкластерам\n",
    "            for point in closed_points:\n",
    "                if subcluster_result[int(point[0])] == subcluster_result[int(p[0])] and subcluster_result[int(p[0])]!= None:\n",
    "                    A.append(point)\n",
    "                if subcluster_result[int(point[0])] == subcluster_result[int(nearest_p[0])] and \\\n",
    "                    subcluster_result[int(nearest_p[0])]!= None:\n",
    "                    B.append(point)\n",
    "#             if k == 96 or k == 97:\n",
    "#             plt.figure(figsize=(15,15))\n",
    "#             plt.scatter(X[:,1],X[:,2], c='w')\n",
    "#             plt.scatter(np.stack(A)[:,1],np.stack(A)[:,2], c='r')\n",
    "#             plt.scatter(np.stack(B)[:,1],np.stack(B)[:,2], c='g')\n",
    "#             plt.show()\n",
    "#             print('A')\n",
    "#             for a in A:\n",
    "#                 print(a)\n",
    "#             print('B')\n",
    "#             for b in B:\n",
    "#                 print(b)\n",
    "            # Проверяем их на слияние\n",
    "            if not merge(A,B, F_matrix):#Если разные, то проверяем куда отнести ближайшую точку\n",
    "#                 if k == 206 or k == 97:\n",
    "                print(k, 'NOT MERGE')\n",
    "                if subcluster_result[int(p[0])] == None:\n",
    "                    if not start:\n",
    "                        subcluster += 1\n",
    "                    subcluster_result[int(p[0])] = subcluster\n",
    "                status = True\n",
    "                start_dist = calculate_distance_for_2_points(A[0],B[0])\n",
    "                for i in range(1,len(B)):\n",
    "                    if calculate_distance_for_2_points(B[0],B[i])<start_dist:\n",
    "                        status = False\n",
    "                        break\n",
    "                if status:\n",
    "                    subcluster_result[int(nearest_p[0])] = subcluster_result[int(p[0])]\n",
    "            else:#Если подкластеры сливаются - то всем точкам анализируемого подкластера сливаются\n",
    "#                 if k == 96 or k == 97:\n",
    "                print(k, 'MERGE')\n",
    "                if subcluster_result[int(nearest_p[0])] is None:\n",
    "                    subcluster_result[int(nearest_p[0])] = subcluster_result[int(p[0])]\n",
    "                else:\n",
    "                    if subcluster_result[int(p[0])] is None:\n",
    "                        subcluster_result[int(p[0])] = subcluster_result[int(nearest_p[0])]\n",
    "                    else:\n",
    "                        deleted_cluster = subcluster_result[int(p[0])]\n",
    "                        for p_name in subcluster_result:\n",
    "                            if subcluster_result[p_name] == deleted_cluster:\n",
    "                                subcluster_result[p_name] = subcluster_result[int(nearest_p[0])]\n",
    "            \n",
    "        connected_points[int(nearest_p[0])].append(p)# Добавляем в список точек текущую\n",
    "        \n",
    "#         connected_points[int(nearest_p[0])] += connected_points[int(p[0])]\n",
    "    start = False\n",
    "    closed_points.append(p)\n",
    "#     print('subcluster_result')\n",
    "#     print(subcluster_result)\n",
    "#     print(subcluster_result[int(p[0])])\n",
    "#     print(subcluster_result[int(nearest_p[0])])\n",
    "#     print('closed_points')\n",
    "#     print(closed_points)\n",
    "#     if check_levels(p, connected_points[int(p[0])], layers_F):\n",
    "#         closed_points.append(p)\n",
    "\n",
    "\n",
    "#     color = []\n",
    "#     for c in list(subcluster_result.values()):\n",
    "#         if c == None:\n",
    "#             color.append(-1)\n",
    "#         else:\n",
    "#             color.append(c)\n",
    "#     plt.scatter(X[:,1],X[:,2], c=color)\n",
    "#     plt.show()\n",
    "#     print('*^#'*30)\n",
    "#     for x in X:\n",
    "        \n",
    "#         plt.annotate(str(subcluster_result[int(x[0])]), xy = (x[1], x[2]))\n",
    "    \n",
    "#     YYY = np.stack(closed_points)\n",
    "#     plt.scatter(YYY[:,1],YYY[:,2], marker='^')\n",
    "    plt.show()\n",
    "    \n",
    "print('*'*30)\n",
    "print(len(connected_points))\n",
    "print('*'*30)\n",
    "print(subcluster_result)\n",
    "print(len(subcluster_result))\n",
    "print('*'*30)\n",
    "print(len(closed_points))"
   ]
  },
  {
   "cell_type": "code",
   "execution_count": 23,
   "metadata": {},
   "outputs": [
    {
     "data": {
      "text/plain": [
       "{4, 18, 19, 20}"
      ]
     },
     "execution_count": 23,
     "metadata": {},
     "output_type": "execute_result"
    }
   ],
   "source": [
    "set(subcluster_result.values())"
   ]
  },
  {
   "cell_type": "code",
   "execution_count": null,
   "metadata": {},
   "outputs": [],
   "source": [
    "fig, ax = plt.subplots(figsize=(13, 13))\n",
    "ax.scatter(X[:,1],X[:,2], c=list(subcluster_result.values()))\n",
    "for x in X:\n",
    "    ax.annotate(str(int(x[0])), xy = (x[1]+0.02, x[2]))\n",
    "    \n",
    "YYY = np.stack(closed_points)\n",
    "for y in YYY:\n",
    "    circle2 = plt.Circle((y[1], y[2]), 0.08, color='b', fill=False)\n",
    "    ax.add_patch(circle2)\n",
    "ax.plot()   #Causes an autoscale update.\n",
    "plt.show()"
   ]
  },
  {
   "cell_type": "code",
   "execution_count": null,
   "metadata": {
    "scrolled": false
   },
   "outputs": [],
   "source": [
    "plt.figure(figsize=(15,15))\n",
    "plt.scatter(X[:,1],X[:,2], c=list(subcluster_result.values()))\n",
    "for x in X:\n",
    "    plt.annotate(str(int(x[0])), xy = (x[1]+0.02, x[2]))\n",
    "    "
   ]
  },
  {
   "cell_type": "code",
   "execution_count": null,
   "metadata": {},
   "outputs": [],
   "source": [
    "fig, ax = plt.subplots(figsize=(13, 13))\n",
    "ax.scatter(X[:,1],X[:,2], c=list(subcluster_result.values()))\n",
    "for x in X:\n",
    "    ax.annotate(str(subcluster_result[int(x[0])]), xy = (x[1]+0.02, x[2]))\n",
    "    \n",
    "YYY = np.stack(closed_points)\n",
    "for y in YYY:\n",
    "    circle2 = plt.Circle((y[1], y[2]), 0.08, color='b', fill=False)\n",
    "    ax.add_patch(circle2)\n",
    "ax.plot()   #Causes an autoscale update.\n",
    "plt.show()"
   ]
  },
  {
   "cell_type": "markdown",
   "metadata": {},
   "source": [
    "# Merging check"
   ]
  },
  {
   "cell_type": "code",
   "execution_count": null,
   "metadata": {},
   "outputs": [],
   "source": [
    "def merge(A,B, F_matrix):\n",
    "    \"\"\"\n",
    "    A - list of points [id, X1,...,Xn,F, cluster_id]\n",
    "    B - list of points [id, X1,...,Xn,F, cluster_id]\n",
    "    F_matrix - [[id, X1,...,Xn,F],...,[id, X1,...,Xn,F]]\n",
    "    =======\n",
    "    return - bool value, status for merging clusters\n",
    "    \"\"\"\n",
    "    for p_1 in A:\n",
    "        for p_2 in B:\n",
    "            result, _ = get_profile(F_matrix, p_1[:-1], p_2[:-1])\n",
    "#             print(result)\n",
    "            if result == 'different':\n",
    "                print(p_1)\n",
    "                print(p_2)\n",
    "                return False\n",
    "    return True"
   ]
  },
  {
   "cell_type": "code",
   "execution_count": null,
   "metadata": {},
   "outputs": [],
   "source": [
    "cluster_1 = 39\n",
    "cluster_2 = 27\n",
    "A = []\n",
    "B = []\n",
    "for p in X:\n",
    "    if subcluster_result[int(p[0])] == cluster_1:\n",
    "        A.append(p)\n",
    "    if subcluster_result[int(p[0])] == cluster_2:\n",
    "        B.append(p)\n",
    "    "
   ]
  },
  {
   "cell_type": "code",
   "execution_count": null,
   "metadata": {},
   "outputs": [],
   "source": [
    "merge(A,B,F_matrix)"
   ]
  },
  {
   "cell_type": "markdown",
   "metadata": {},
   "source": [
    "# Profile Check"
   ]
  },
  {
   "cell_type": "code",
   "execution_count": null,
   "metadata": {},
   "outputs": [],
   "source": [
    "for x in X:\n",
    "    if x[0] == 144:\n",
    "        p1 = x\n",
    "    if x[0] == 185:\n",
    "        p2 = x"
   ]
  },
  {
   "cell_type": "code",
   "execution_count": null,
   "metadata": {},
   "outputs": [],
   "source": [
    "p1"
   ]
  },
  {
   "cell_type": "code",
   "execution_count": null,
   "metadata": {},
   "outputs": [],
   "source": [
    "p2"
   ]
  },
  {
   "cell_type": "code",
   "execution_count": null,
   "metadata": {},
   "outputs": [],
   "source": [
    "p1[1:-2]"
   ]
  },
  {
   "cell_type": "code",
   "execution_count": null,
   "metadata": {},
   "outputs": [],
   "source": [
    "np.linalg.norm(np.array(p1[1:-2]) - np.array(p2[1:-2]))"
   ]
  },
  {
   "cell_type": "code",
   "execution_count": null,
   "metadata": {},
   "outputs": [],
   "source": [
    "np.linalg.norm(np.array(p1[1:-2]) - np.array(p2[1:-2]))"
   ]
  },
  {
   "cell_type": "code",
   "execution_count": null,
   "metadata": {},
   "outputs": [],
   "source": [
    "np.linalg.norm(np.array(p1[1:-2]) - np.array(p2[1:-2]))"
   ]
  },
  {
   "cell_type": "code",
   "execution_count": null,
   "metadata": {},
   "outputs": [],
   "source": [
    "get_profile(F_matrix, p1[:-1], p2[:-1])"
   ]
  },
  {
   "cell_type": "code",
   "execution_count": null,
   "metadata": {},
   "outputs": [],
   "source": [
    "plt.scatter(X[:,1],X[:,2], c='b')\n",
    "plt.scatter(p1[1],p1[2], c='r')\n",
    "plt.scatter(p2[1],p2[2], c='g')"
   ]
  },
  {
   "cell_type": "markdown",
   "metadata": {},
   "source": [
    "# Grapth"
   ]
  },
  {
   "cell_type": "code",
   "execution_count": 25,
   "metadata": {},
   "outputs": [],
   "source": [
    "import plotly.express as px"
   ]
  },
  {
   "cell_type": "code",
   "execution_count": 26,
   "metadata": {},
   "outputs": [],
   "source": [
    "plot_df = first.copy()"
   ]
  },
  {
   "cell_type": "code",
   "execution_count": 27,
   "metadata": {},
   "outputs": [],
   "source": [
    "subcluster = []\n",
    "for ind in plot_df['id'].values:\n",
    "    subcluster.append(subcluster_result[ind])\n",
    "plot_df['sub'] = subcluster\n",
    "closed = []\n",
    "closed_find = np.stack(closed_points)\n",
    "for ind in plot_df['id'].values:\n",
    "    if ind in closed_find[:,0]:\n",
    "        closed.append(10)\n",
    "    else:\n",
    "        closed.append(1)\n",
    "plot_df['closed'] = closed  "
   ]
  },
  {
   "cell_type": "code",
   "execution_count": 28,
   "metadata": {},
   "outputs": [
    {
     "data": {
      "text/html": [
       "<div>\n",
       "<style scoped>\n",
       "    .dataframe tbody tr th:only-of-type {\n",
       "        vertical-align: middle;\n",
       "    }\n",
       "\n",
       "    .dataframe tbody tr th {\n",
       "        vertical-align: top;\n",
       "    }\n",
       "\n",
       "    .dataframe thead th {\n",
       "        text-align: right;\n",
       "    }\n",
       "</style>\n",
       "<table border=\"1\" class=\"dataframe\">\n",
       "  <thead>\n",
       "    <tr style=\"text-align: right;\">\n",
       "      <th></th>\n",
       "      <th>id</th>\n",
       "      <th>X1</th>\n",
       "      <th>X2</th>\n",
       "      <th>F</th>\n",
       "      <th>cluster_id</th>\n",
       "      <th>sub</th>\n",
       "      <th>closed</th>\n",
       "    </tr>\n",
       "  </thead>\n",
       "  <tbody>\n",
       "    <tr>\n",
       "      <th>119</th>\n",
       "      <td>120</td>\n",
       "      <td>6.262874</td>\n",
       "      <td>9.053999</td>\n",
       "      <td>33.021339</td>\n",
       "      <td>0</td>\n",
       "      <td>20</td>\n",
       "      <td>10</td>\n",
       "    </tr>\n",
       "    <tr>\n",
       "      <th>142</th>\n",
       "      <td>143</td>\n",
       "      <td>9.251026</td>\n",
       "      <td>6.458328</td>\n",
       "      <td>36.067290</td>\n",
       "      <td>0</td>\n",
       "      <td>19</td>\n",
       "      <td>10</td>\n",
       "    </tr>\n",
       "    <tr>\n",
       "      <th>120</th>\n",
       "      <td>121</td>\n",
       "      <td>3.398884</td>\n",
       "      <td>6.318578</td>\n",
       "      <td>36.309808</td>\n",
       "      <td>0</td>\n",
       "      <td>18</td>\n",
       "      <td>10</td>\n",
       "    </tr>\n",
       "    <tr>\n",
       "      <th>141</th>\n",
       "      <td>142</td>\n",
       "      <td>9.412711</td>\n",
       "      <td>5.764090</td>\n",
       "      <td>37.330300</td>\n",
       "      <td>0</td>\n",
       "      <td>19</td>\n",
       "      <td>10</td>\n",
       "    </tr>\n",
       "    <tr>\n",
       "      <th>39</th>\n",
       "      <td>40</td>\n",
       "      <td>9.213033</td>\n",
       "      <td>5.483324</td>\n",
       "      <td>37.551441</td>\n",
       "      <td>0</td>\n",
       "      <td>19</td>\n",
       "      <td>1</td>\n",
       "    </tr>\n",
       "  </tbody>\n",
       "</table>\n",
       "</div>"
      ],
      "text/plain": [
       "      id        X1        X2          F  cluster_id  sub  closed\n",
       "119  120  6.262874  9.053999  33.021339           0   20      10\n",
       "142  143  9.251026  6.458328  36.067290           0   19      10\n",
       "120  121  3.398884  6.318578  36.309808           0   18      10\n",
       "141  142  9.412711  5.764090  37.330300           0   19      10\n",
       "39    40  9.213033  5.483324  37.551441           0   19       1"
      ]
     },
     "execution_count": 28,
     "metadata": {},
     "output_type": "execute_result"
    }
   ],
   "source": [
    "plot_df.head()"
   ]
  },
  {
   "cell_type": "code",
   "execution_count": 31,
   "metadata": {},
   "outputs": [],
   "source": [
    "fig = px.scatter(plot_df, x=\"X1\", y=\"X2\", color=\"sub\", hover_data=['id', 'F'], )"
   ]
  },
  {
   "cell_type": "code",
   "execution_count": 32,
   "metadata": {},
   "outputs": [
    {
     "data": {
      "application/vnd.plotly.v1+json": {
       "config": {
        "plotlyServerURL": "https://plot.ly"
       },
       "data": [
        {
         "customdata": [
          [
           120,
           33.02133930635933
          ],
          [
           143,
           36.067290095298034
          ],
          [
           121,
           36.309807725533474
          ],
          [
           142,
           37.33029994847785
          ],
          [
           40,
           37.55144072327345
          ],
          [
           104,
           37.76739477673671
          ],
          [
           1,
           43.93299911516438
          ],
          [
           139,
           44.304565043382894
          ],
          [
           105,
           44.46748796669094
          ],
          [
           118,
           45.639076151242534
          ],
          [
           2,
           49.18126245579999
          ],
          [
           86,
           49.193410539536146
          ],
          [
           37,
           49.55462222909755
          ],
          [
           141,
           49.79205438078914
          ],
          [
           38,
           50.680815075456074
          ],
          [
           39,
           50.73673959000743
          ],
          [
           16,
           51.347776705545705
          ],
          [
           126,
           51.78970017921621
          ],
          [
           119,
           52.15760328680372
          ],
          [
           140,
           52.63738025711597
          ],
          [
           15,
           52.81005448541528
          ],
          [
           117,
           54.45393090382491
          ],
          [
           123,
           54.9931086253258
          ],
          [
           17,
           54.998332522659126
          ],
          [
           124,
           55.82748400690808
          ],
          [
           36,
           55.918840639564955
          ],
          [
           137,
           56.236341683712
          ],
          [
           14,
           56.46373707606819
          ],
          [
           136,
           56.466894406012884
          ],
          [
           128,
           59.133061211401056
          ],
          [
           122,
           59.420164476482555
          ],
          [
           34,
           59.590486721799266
          ],
          [
           35,
           60.22871032333647
          ],
          [
           24,
           60.57384757326247
          ],
          [
           18,
           60.5812627873095
          ],
          [
           22,
           60.68946322897522
          ],
          [
           3,
           61.23680513097451
          ],
          [
           127,
           62.63668796769568
          ],
          [
           13,
           62.900064131944546
          ],
          [
           20,
           63.464428991224764
          ],
          [
           23,
           63.575521143714695
          ],
          [
           125,
           63.720456211962755
          ],
          [
           21,
           64.25652831213637
          ],
          [
           19,
           64.64137584754062
          ],
          [
           4,
           65.47867087364848
          ],
          [
           106,
           67.27474769335463
          ],
          [
           109,
           68.40765208493463
          ],
          [
           5,
           71.26127893212262
          ],
          [
           107,
           73.05949642162567
          ],
          [
           25,
           74.49799323970274
          ],
          [
           6,
           74.65210889834043
          ],
          [
           116,
           75.22028807814779
          ],
          [
           33,
           77.18350430222077
          ],
          [
           110,
           79.56097249255524
          ],
          [
           115,
           79.5811799630198
          ],
          [
           138,
           80.65776511678133
          ],
          [
           135,
           83.73189718494774
          ],
          [
           32,
           84.82037417680033
          ],
          [
           108,
           86.60310397793484
          ],
          [
           12,
           90.98400978826427
          ],
          [
           114,
           93.46971854666364
          ],
          [
           11,
           93.67412704777031
          ],
          [
           7,
           97.4820802739224
          ],
          [
           92,
           99.09477529036351
          ],
          [
           90,
           105.58238591931871
          ],
          [
           27,
           107.13910218463053
          ],
          [
           84,
           113.18799458253889
          ],
          [
           26,
           114.36186189513222
          ],
          [
           192,
           115.35669071272525
          ],
          [
           195,
           117.38725227355243
          ],
          [
           190,
           117.76157696156582
          ],
          [
           188,
           118.10713063358617
          ],
          [
           87,
           119.64711342704933
          ],
          [
           187,
           120.3973557487534
          ],
          [
           31,
           123.6697985192283
          ],
          [
           129,
           125.91888319314683
          ],
          [
           89,
           127.04984346100372
          ],
          [
           112,
           129.84596829050977
          ],
          [
           193,
           132.7320498212589
          ],
          [
           194,
           135.20407966616227
          ],
          [
           9,
           138.8145844217632
          ],
          [
           131,
           138.82403239989605
          ],
          [
           133,
           138.85694296567476
          ],
          [
           8,
           140.23104819138143
          ],
          [
           191,
           143.37395329777794
          ],
          [
           10,
           143.5317780905844
          ],
          [
           111,
           145.84518658234936
          ],
          [
           91,
           146.68861346331522
          ],
          [
           30,
           147.6313448387842
          ],
          [
           88,
           150.17816796053967
          ],
          [
           130,
           150.3094038003507
          ],
          [
           29,
           154.40102368250444
          ],
          [
           134,
           156.88878370327276
          ],
          [
           113,
           157.6384502362569
          ],
          [
           85,
           157.98641564628107
          ],
          [
           28,
           158.12115710822968
          ],
          [
           189,
           158.62924292003868
          ],
          [
           132,
           159.01337467718037
          ],
          [
           186,
           161.52987542925297
          ],
          [
           83,
           161.7585697227778
          ]
         ],
         "hovertemplate": "X1=%{x}<br>X2=%{y}<br>id=%{customdata[0]}<br>F=%{customdata[1]}<br>sub=%{marker.color}<extra></extra>",
         "legendgroup": "",
         "marker": {
          "color": [
           20,
           19,
           18,
           19,
           19,
           4,
           4,
           19,
           4,
           20,
           4,
           19,
           19,
           19,
           19,
           19,
           20,
           18,
           20,
           19,
           20,
           20,
           18,
           20,
           18,
           19,
           19,
           20,
           19,
           20,
           18,
           19,
           19,
           18,
           18,
           18,
           4,
           18,
           20,
           18,
           18,
           18,
           18,
           18,
           4,
           4,
           4,
           4,
           4,
           18,
           4,
           20,
           19,
           4,
           20,
           19,
           19,
           19,
           4,
           20,
           20,
           20,
           4,
           20,
           4,
           18,
           18,
           18,
           18,
           18,
           20,
           18,
           19,
           20,
           18,
           18,
           18,
           20,
           18,
           18,
           4,
           18,
           19,
           4,
           4,
           19,
           18,
           18,
           18,
           20,
           20,
           4,
           19,
           18,
           20,
           4,
           20,
           4,
           20,
           20
          ],
          "coloraxis": "coloraxis",
          "symbol": "circle"
         },
         "mode": "markers",
         "name": "",
         "orientation": "v",
         "showlegend": false,
         "type": "scatter",
         "x": [
          6.262873556599609,
          9.25102618249211,
          3.3988839724581466,
          9.41271073990849,
          9.213032561524328,
          6.822310262916808,
          6.436438064094631,
          7.879709925259513,
          6.228502404613413,
          6.035923324390541,
          6.617603790550273,
          7.470967588418638,
          8.48268868144498,
          8.944322288609374,
          8.752228421882128,
          8.957933531538453,
          6.239313748146133,
          4.631595644111009,
          6.334313707846043,
          8.179948096883475,
          6.441311712362733,
          6.2159394017735705,
          3.951236619525332,
          6.2988820225029425,
          4.207955906768906,
          7.982580630892884,
          7.551818329284393,
          6.265846951670399,
          7.709054570172619,
          5.3984735651688975,
          4.025761868950123,
          7.706491607992135,
          7.723316506313088,
          4.947856398967908,
          3.7788129360577143,
          4.511591501312653,
          6.298267249343526,
          5.08447372970848,
          6.542766685576433,
          3.825930851699123,
          4.976779031556153,
          4.422881408268287,
          4.270350241214104,
          3.9957928711467736,
          6.409607621543012,
          6.5203445244957425,
          6.372806817579324,
          6.591651383470817,
          6.533853439689073,
          5.385113944708296,
          6.569373669754997,
          6.185900308297559,
          7.310758366997969,
          6.365637257630389,
          5.859898939963054,
          7.245724695901502,
          7.06009996182429,
          6.962870137640631,
          6.34821705998926,
          6.464976350693669,
          6.174368392869117,
          6.506623389056689,
          5.997188560200813,
          6.155420686433014,
          6.168554688510901,
          5.681436263174117,
          5.775529962648372,
          5.743081319871933,
          6.568403956468687,
          5.853251078668777,
          6.393938468813006,
          5.9110497170903304,
          6.6923307489212185,
          6.231877438569657,
          6.641822511810538,
          5.820490906266877,
          6.6072407393616475,
          6.432938004847792,
          5.906121995525385,
          5.93146304862215,
          6.288359000466092,
          6.004457707781809,
          6.577845747776734,
          6.23225641768652,
          6.1769086442865735,
          6.542567329933236,
          6.46667029018778,
          6.089637830507263,
          6.44457687350867,
          6.335671750997629,
          6.226883193859031,
          6.202985196055577,
          6.486847961671103,
          6.325403190198013,
          6.455082622593061,
          6.228014501153049,
          6.479174097156543,
          6.257188635086709,
          6.308130471350184,
          6.323164622219912
         ],
         "xaxis": "x",
         "y": [
          9.053998746991379,
          6.458327651040758,
          6.318577728133679,
          5.764089623807256,
          5.48332441298936,
          3.431659962699944,
          3.551314958974989,
          6.867343789698569,
          3.676678852413863,
          8.120133517746499,
          3.893796269070809,
          6.938874542583894,
          6.046537959641268,
          6.130471821329264,
          5.978838150667727,
          6.000821260930323,
          8.466658015717755,
          5.5223700273592415,
          8.595686089660811,
          5.965588775119891,
          7.794808220186818,
          7.834065658046266,
          6.236794659138521,
          8.55085083269611,
          6.268491994896307,
          5.813168346825777,
          6.392623319421385,
          7.659794928914378,
          5.255437563307895,
          6.733600725776085,
          5.826449645127108,
          5.372319142067364,
          5.69120958659508,
          5.784410669723954,
          5.99478238142261,
          5.83280941003499,
          4.2053973066675665,
          6.327127277933923,
          7.183077574276636,
          5.9699600948942795,
          6.0988585482359845,
          6.002359799885558,
          5.990678738399154,
          5.971304294710734,
          4.219015616381802,
          4.327964739130412,
          4.701986188569234,
          4.545726367592936,
          4.503955041436071,
          6.1684699400997145,
          5.0221801283452105,
          7.0072564750413395,
          5.778640775135264,
          5.023265590358777,
          6.682341401330444,
          5.8043190717972,
          5.838271056361689,
          6.23229532136485,
          5.184931636400878,
          6.831188049604418,
          6.792043438627853,
          6.767723090230122,
          5.412176290923264,
          6.692209200328694,
          5.420033341340179,
          5.876452282141224,
          5.68744667508806,
          5.7463744749771815,
          5.625052998505983,
          6.13202737535706,
          6.530179561994263,
          5.6576422174508005,
          6.133960868901978,
          6.44119439184916,
          5.802524994585747,
          5.929135310730253,
          5.750141043950764,
          6.433754366981715,
          5.870018857511444,
          6.0504832880621535,
          5.636211599384738,
          6.078220656563501,
          6.142654876311944,
          5.629993624771982,
          5.682398925617926,
          6.288840929423087,
          5.782774456950261,
          5.99262991618854,
          5.788621540461385,
          6.258477193331997,
          6.1599120954207125,
          5.784375339383488,
          6.218306077209286,
          5.972038087127999,
          6.276507181712108,
          5.83239852689857,
          6.268469951239958,
          5.908273633055215,
          6.120669051841744,
          6.084847026745483
         ],
         "yaxis": "y"
        }
       ],
       "layout": {
        "coloraxis": {
         "colorbar": {
          "title": {
           "text": "sub"
          }
         },
         "colorscale": [
          [
           0,
           "#0d0887"
          ],
          [
           0.1111111111111111,
           "#46039f"
          ],
          [
           0.2222222222222222,
           "#7201a8"
          ],
          [
           0.3333333333333333,
           "#9c179e"
          ],
          [
           0.4444444444444444,
           "#bd3786"
          ],
          [
           0.5555555555555556,
           "#d8576b"
          ],
          [
           0.6666666666666666,
           "#ed7953"
          ],
          [
           0.7777777777777778,
           "#fb9f3a"
          ],
          [
           0.8888888888888888,
           "#fdca26"
          ],
          [
           1,
           "#f0f921"
          ]
         ]
        },
        "legend": {
         "tracegroupgap": 0
        },
        "margin": {
         "t": 60
        },
        "template": {
         "data": {
          "bar": [
           {
            "error_x": {
             "color": "#2a3f5f"
            },
            "error_y": {
             "color": "#2a3f5f"
            },
            "marker": {
             "line": {
              "color": "#E5ECF6",
              "width": 0.5
             }
            },
            "type": "bar"
           }
          ],
          "barpolar": [
           {
            "marker": {
             "line": {
              "color": "#E5ECF6",
              "width": 0.5
             }
            },
            "type": "barpolar"
           }
          ],
          "carpet": [
           {
            "aaxis": {
             "endlinecolor": "#2a3f5f",
             "gridcolor": "white",
             "linecolor": "white",
             "minorgridcolor": "white",
             "startlinecolor": "#2a3f5f"
            },
            "baxis": {
             "endlinecolor": "#2a3f5f",
             "gridcolor": "white",
             "linecolor": "white",
             "minorgridcolor": "white",
             "startlinecolor": "#2a3f5f"
            },
            "type": "carpet"
           }
          ],
          "choropleth": [
           {
            "colorbar": {
             "outlinewidth": 0,
             "ticks": ""
            },
            "type": "choropleth"
           }
          ],
          "contour": [
           {
            "colorbar": {
             "outlinewidth": 0,
             "ticks": ""
            },
            "colorscale": [
             [
              0,
              "#0d0887"
             ],
             [
              0.1111111111111111,
              "#46039f"
             ],
             [
              0.2222222222222222,
              "#7201a8"
             ],
             [
              0.3333333333333333,
              "#9c179e"
             ],
             [
              0.4444444444444444,
              "#bd3786"
             ],
             [
              0.5555555555555556,
              "#d8576b"
             ],
             [
              0.6666666666666666,
              "#ed7953"
             ],
             [
              0.7777777777777778,
              "#fb9f3a"
             ],
             [
              0.8888888888888888,
              "#fdca26"
             ],
             [
              1,
              "#f0f921"
             ]
            ],
            "type": "contour"
           }
          ],
          "contourcarpet": [
           {
            "colorbar": {
             "outlinewidth": 0,
             "ticks": ""
            },
            "type": "contourcarpet"
           }
          ],
          "heatmap": [
           {
            "colorbar": {
             "outlinewidth": 0,
             "ticks": ""
            },
            "colorscale": [
             [
              0,
              "#0d0887"
             ],
             [
              0.1111111111111111,
              "#46039f"
             ],
             [
              0.2222222222222222,
              "#7201a8"
             ],
             [
              0.3333333333333333,
              "#9c179e"
             ],
             [
              0.4444444444444444,
              "#bd3786"
             ],
             [
              0.5555555555555556,
              "#d8576b"
             ],
             [
              0.6666666666666666,
              "#ed7953"
             ],
             [
              0.7777777777777778,
              "#fb9f3a"
             ],
             [
              0.8888888888888888,
              "#fdca26"
             ],
             [
              1,
              "#f0f921"
             ]
            ],
            "type": "heatmap"
           }
          ],
          "heatmapgl": [
           {
            "colorbar": {
             "outlinewidth": 0,
             "ticks": ""
            },
            "colorscale": [
             [
              0,
              "#0d0887"
             ],
             [
              0.1111111111111111,
              "#46039f"
             ],
             [
              0.2222222222222222,
              "#7201a8"
             ],
             [
              0.3333333333333333,
              "#9c179e"
             ],
             [
              0.4444444444444444,
              "#bd3786"
             ],
             [
              0.5555555555555556,
              "#d8576b"
             ],
             [
              0.6666666666666666,
              "#ed7953"
             ],
             [
              0.7777777777777778,
              "#fb9f3a"
             ],
             [
              0.8888888888888888,
              "#fdca26"
             ],
             [
              1,
              "#f0f921"
             ]
            ],
            "type": "heatmapgl"
           }
          ],
          "histogram": [
           {
            "marker": {
             "colorbar": {
              "outlinewidth": 0,
              "ticks": ""
             }
            },
            "type": "histogram"
           }
          ],
          "histogram2d": [
           {
            "colorbar": {
             "outlinewidth": 0,
             "ticks": ""
            },
            "colorscale": [
             [
              0,
              "#0d0887"
             ],
             [
              0.1111111111111111,
              "#46039f"
             ],
             [
              0.2222222222222222,
              "#7201a8"
             ],
             [
              0.3333333333333333,
              "#9c179e"
             ],
             [
              0.4444444444444444,
              "#bd3786"
             ],
             [
              0.5555555555555556,
              "#d8576b"
             ],
             [
              0.6666666666666666,
              "#ed7953"
             ],
             [
              0.7777777777777778,
              "#fb9f3a"
             ],
             [
              0.8888888888888888,
              "#fdca26"
             ],
             [
              1,
              "#f0f921"
             ]
            ],
            "type": "histogram2d"
           }
          ],
          "histogram2dcontour": [
           {
            "colorbar": {
             "outlinewidth": 0,
             "ticks": ""
            },
            "colorscale": [
             [
              0,
              "#0d0887"
             ],
             [
              0.1111111111111111,
              "#46039f"
             ],
             [
              0.2222222222222222,
              "#7201a8"
             ],
             [
              0.3333333333333333,
              "#9c179e"
             ],
             [
              0.4444444444444444,
              "#bd3786"
             ],
             [
              0.5555555555555556,
              "#d8576b"
             ],
             [
              0.6666666666666666,
              "#ed7953"
             ],
             [
              0.7777777777777778,
              "#fb9f3a"
             ],
             [
              0.8888888888888888,
              "#fdca26"
             ],
             [
              1,
              "#f0f921"
             ]
            ],
            "type": "histogram2dcontour"
           }
          ],
          "mesh3d": [
           {
            "colorbar": {
             "outlinewidth": 0,
             "ticks": ""
            },
            "type": "mesh3d"
           }
          ],
          "parcoords": [
           {
            "line": {
             "colorbar": {
              "outlinewidth": 0,
              "ticks": ""
             }
            },
            "type": "parcoords"
           }
          ],
          "pie": [
           {
            "automargin": true,
            "type": "pie"
           }
          ],
          "scatter": [
           {
            "marker": {
             "colorbar": {
              "outlinewidth": 0,
              "ticks": ""
             }
            },
            "type": "scatter"
           }
          ],
          "scatter3d": [
           {
            "line": {
             "colorbar": {
              "outlinewidth": 0,
              "ticks": ""
             }
            },
            "marker": {
             "colorbar": {
              "outlinewidth": 0,
              "ticks": ""
             }
            },
            "type": "scatter3d"
           }
          ],
          "scattercarpet": [
           {
            "marker": {
             "colorbar": {
              "outlinewidth": 0,
              "ticks": ""
             }
            },
            "type": "scattercarpet"
           }
          ],
          "scattergeo": [
           {
            "marker": {
             "colorbar": {
              "outlinewidth": 0,
              "ticks": ""
             }
            },
            "type": "scattergeo"
           }
          ],
          "scattergl": [
           {
            "marker": {
             "colorbar": {
              "outlinewidth": 0,
              "ticks": ""
             }
            },
            "type": "scattergl"
           }
          ],
          "scattermapbox": [
           {
            "marker": {
             "colorbar": {
              "outlinewidth": 0,
              "ticks": ""
             }
            },
            "type": "scattermapbox"
           }
          ],
          "scatterpolar": [
           {
            "marker": {
             "colorbar": {
              "outlinewidth": 0,
              "ticks": ""
             }
            },
            "type": "scatterpolar"
           }
          ],
          "scatterpolargl": [
           {
            "marker": {
             "colorbar": {
              "outlinewidth": 0,
              "ticks": ""
             }
            },
            "type": "scatterpolargl"
           }
          ],
          "scatterternary": [
           {
            "marker": {
             "colorbar": {
              "outlinewidth": 0,
              "ticks": ""
             }
            },
            "type": "scatterternary"
           }
          ],
          "surface": [
           {
            "colorbar": {
             "outlinewidth": 0,
             "ticks": ""
            },
            "colorscale": [
             [
              0,
              "#0d0887"
             ],
             [
              0.1111111111111111,
              "#46039f"
             ],
             [
              0.2222222222222222,
              "#7201a8"
             ],
             [
              0.3333333333333333,
              "#9c179e"
             ],
             [
              0.4444444444444444,
              "#bd3786"
             ],
             [
              0.5555555555555556,
              "#d8576b"
             ],
             [
              0.6666666666666666,
              "#ed7953"
             ],
             [
              0.7777777777777778,
              "#fb9f3a"
             ],
             [
              0.8888888888888888,
              "#fdca26"
             ],
             [
              1,
              "#f0f921"
             ]
            ],
            "type": "surface"
           }
          ],
          "table": [
           {
            "cells": {
             "fill": {
              "color": "#EBF0F8"
             },
             "line": {
              "color": "white"
             }
            },
            "header": {
             "fill": {
              "color": "#C8D4E3"
             },
             "line": {
              "color": "white"
             }
            },
            "type": "table"
           }
          ]
         },
         "layout": {
          "annotationdefaults": {
           "arrowcolor": "#2a3f5f",
           "arrowhead": 0,
           "arrowwidth": 1
          },
          "autotypenumbers": "strict",
          "coloraxis": {
           "colorbar": {
            "outlinewidth": 0,
            "ticks": ""
           }
          },
          "colorscale": {
           "diverging": [
            [
             0,
             "#8e0152"
            ],
            [
             0.1,
             "#c51b7d"
            ],
            [
             0.2,
             "#de77ae"
            ],
            [
             0.3,
             "#f1b6da"
            ],
            [
             0.4,
             "#fde0ef"
            ],
            [
             0.5,
             "#f7f7f7"
            ],
            [
             0.6,
             "#e6f5d0"
            ],
            [
             0.7,
             "#b8e186"
            ],
            [
             0.8,
             "#7fbc41"
            ],
            [
             0.9,
             "#4d9221"
            ],
            [
             1,
             "#276419"
            ]
           ],
           "sequential": [
            [
             0,
             "#0d0887"
            ],
            [
             0.1111111111111111,
             "#46039f"
            ],
            [
             0.2222222222222222,
             "#7201a8"
            ],
            [
             0.3333333333333333,
             "#9c179e"
            ],
            [
             0.4444444444444444,
             "#bd3786"
            ],
            [
             0.5555555555555556,
             "#d8576b"
            ],
            [
             0.6666666666666666,
             "#ed7953"
            ],
            [
             0.7777777777777778,
             "#fb9f3a"
            ],
            [
             0.8888888888888888,
             "#fdca26"
            ],
            [
             1,
             "#f0f921"
            ]
           ],
           "sequentialminus": [
            [
             0,
             "#0d0887"
            ],
            [
             0.1111111111111111,
             "#46039f"
            ],
            [
             0.2222222222222222,
             "#7201a8"
            ],
            [
             0.3333333333333333,
             "#9c179e"
            ],
            [
             0.4444444444444444,
             "#bd3786"
            ],
            [
             0.5555555555555556,
             "#d8576b"
            ],
            [
             0.6666666666666666,
             "#ed7953"
            ],
            [
             0.7777777777777778,
             "#fb9f3a"
            ],
            [
             0.8888888888888888,
             "#fdca26"
            ],
            [
             1,
             "#f0f921"
            ]
           ]
          },
          "colorway": [
           "#636efa",
           "#EF553B",
           "#00cc96",
           "#ab63fa",
           "#FFA15A",
           "#19d3f3",
           "#FF6692",
           "#B6E880",
           "#FF97FF",
           "#FECB52"
          ],
          "font": {
           "color": "#2a3f5f"
          },
          "geo": {
           "bgcolor": "white",
           "lakecolor": "white",
           "landcolor": "#E5ECF6",
           "showlakes": true,
           "showland": true,
           "subunitcolor": "white"
          },
          "hoverlabel": {
           "align": "left"
          },
          "hovermode": "closest",
          "mapbox": {
           "style": "light"
          },
          "paper_bgcolor": "white",
          "plot_bgcolor": "#E5ECF6",
          "polar": {
           "angularaxis": {
            "gridcolor": "white",
            "linecolor": "white",
            "ticks": ""
           },
           "bgcolor": "#E5ECF6",
           "radialaxis": {
            "gridcolor": "white",
            "linecolor": "white",
            "ticks": ""
           }
          },
          "scene": {
           "xaxis": {
            "backgroundcolor": "#E5ECF6",
            "gridcolor": "white",
            "gridwidth": 2,
            "linecolor": "white",
            "showbackground": true,
            "ticks": "",
            "zerolinecolor": "white"
           },
           "yaxis": {
            "backgroundcolor": "#E5ECF6",
            "gridcolor": "white",
            "gridwidth": 2,
            "linecolor": "white",
            "showbackground": true,
            "ticks": "",
            "zerolinecolor": "white"
           },
           "zaxis": {
            "backgroundcolor": "#E5ECF6",
            "gridcolor": "white",
            "gridwidth": 2,
            "linecolor": "white",
            "showbackground": true,
            "ticks": "",
            "zerolinecolor": "white"
           }
          },
          "shapedefaults": {
           "line": {
            "color": "#2a3f5f"
           }
          },
          "ternary": {
           "aaxis": {
            "gridcolor": "white",
            "linecolor": "white",
            "ticks": ""
           },
           "baxis": {
            "gridcolor": "white",
            "linecolor": "white",
            "ticks": ""
           },
           "bgcolor": "#E5ECF6",
           "caxis": {
            "gridcolor": "white",
            "linecolor": "white",
            "ticks": ""
           }
          },
          "title": {
           "x": 0.05
          },
          "xaxis": {
           "automargin": true,
           "gridcolor": "white",
           "linecolor": "white",
           "ticks": "",
           "title": {
            "standoff": 15
           },
           "zerolinecolor": "white",
           "zerolinewidth": 2
          },
          "yaxis": {
           "automargin": true,
           "gridcolor": "white",
           "linecolor": "white",
           "ticks": "",
           "title": {
            "standoff": 15
           },
           "zerolinecolor": "white",
           "zerolinewidth": 2
          }
         }
        },
        "xaxis": {
         "anchor": "y",
         "domain": [
          0,
          1
         ],
         "title": {
          "text": "X1"
         }
        },
        "yaxis": {
         "anchor": "x",
         "domain": [
          0,
          1
         ],
         "title": {
          "text": "X2"
         }
        }
       }
      },
      "text/html": [
       "<div>                            <div id=\"4111ee9b-2fbb-43b5-aef2-0a367c065489\" class=\"plotly-graph-div\" style=\"height:525px; width:100%;\"></div>            <script type=\"text/javascript\">                require([\"plotly\"], function(Plotly) {                    window.PLOTLYENV=window.PLOTLYENV || {};                                    if (document.getElementById(\"4111ee9b-2fbb-43b5-aef2-0a367c065489\")) {                    Plotly.newPlot(                        \"4111ee9b-2fbb-43b5-aef2-0a367c065489\",                        [{\"customdata\": [[120.0, 33.02133930635933], [143.0, 36.067290095298034], [121.0, 36.309807725533474], [142.0, 37.33029994847785], [40.0, 37.55144072327345], [104.0, 37.76739477673671], [1.0, 43.93299911516438], [139.0, 44.304565043382894], [105.0, 44.46748796669094], [118.0, 45.639076151242534], [2.0, 49.18126245579999], [86.0, 49.193410539536146], [37.0, 49.55462222909755], [141.0, 49.79205438078914], [38.0, 50.680815075456074], [39.0, 50.73673959000743], [16.0, 51.347776705545705], [126.0, 51.78970017921621], [119.0, 52.15760328680372], [140.0, 52.63738025711597], [15.0, 52.81005448541528], [117.0, 54.45393090382491], [123.0, 54.9931086253258], [17.0, 54.998332522659126], [124.0, 55.82748400690808], [36.0, 55.918840639564955], [137.0, 56.236341683712], [14.0, 56.46373707606819], [136.0, 56.466894406012884], [128.0, 59.133061211401056], [122.0, 59.420164476482555], [34.0, 59.590486721799266], [35.0, 60.22871032333647], [24.0, 60.57384757326247], [18.0, 60.5812627873095], [22.0, 60.68946322897522], [3.0, 61.23680513097451], [127.0, 62.63668796769568], [13.0, 62.900064131944546], [20.0, 63.464428991224764], [23.0, 63.575521143714695], [125.0, 63.720456211962755], [21.0, 64.25652831213637], [19.0, 64.64137584754062], [4.0, 65.47867087364848], [106.0, 67.27474769335463], [109.0, 68.40765208493463], [5.0, 71.26127893212262], [107.0, 73.05949642162567], [25.0, 74.49799323970274], [6.0, 74.65210889834043], [116.0, 75.22028807814779], [33.0, 77.18350430222077], [110.0, 79.56097249255524], [115.0, 79.5811799630198], [138.0, 80.65776511678133], [135.0, 83.73189718494774], [32.0, 84.82037417680033], [108.0, 86.60310397793484], [12.0, 90.98400978826427], [114.0, 93.46971854666364], [11.0, 93.67412704777031], [7.0, 97.4820802739224], [92.0, 99.09477529036351], [90.0, 105.58238591931871], [27.0, 107.13910218463053], [84.0, 113.18799458253889], [26.0, 114.36186189513222], [192.0, 115.35669071272525], [195.0, 117.38725227355243], [190.0, 117.76157696156582], [188.0, 118.10713063358617], [87.0, 119.64711342704933], [187.0, 120.3973557487534], [31.0, 123.6697985192283], [129.0, 125.91888319314683], [89.0, 127.04984346100372], [112.0, 129.84596829050977], [193.0, 132.7320498212589], [194.0, 135.20407966616227], [9.0, 138.8145844217632], [131.0, 138.82403239989605], [133.0, 138.85694296567476], [8.0, 140.23104819138143], [191.0, 143.37395329777794], [10.0, 143.5317780905844], [111.0, 145.84518658234936], [91.0, 146.68861346331522], [30.0, 147.6313448387842], [88.0, 150.17816796053967], [130.0, 150.3094038003507], [29.0, 154.40102368250444], [134.0, 156.88878370327276], [113.0, 157.6384502362569], [85.0, 157.98641564628107], [28.0, 158.12115710822968], [189.0, 158.62924292003868], [132.0, 159.01337467718037], [186.0, 161.52987542925297], [83.0, 161.7585697227778]], \"hovertemplate\": \"X1=%{x}<br>X2=%{y}<br>id=%{customdata[0]}<br>F=%{customdata[1]}<br>sub=%{marker.color}<extra></extra>\", \"legendgroup\": \"\", \"marker\": {\"color\": [20, 19, 18, 19, 19, 4, 4, 19, 4, 20, 4, 19, 19, 19, 19, 19, 20, 18, 20, 19, 20, 20, 18, 20, 18, 19, 19, 20, 19, 20, 18, 19, 19, 18, 18, 18, 4, 18, 20, 18, 18, 18, 18, 18, 4, 4, 4, 4, 4, 18, 4, 20, 19, 4, 20, 19, 19, 19, 4, 20, 20, 20, 4, 20, 4, 18, 18, 18, 18, 18, 20, 18, 19, 20, 18, 18, 18, 20, 18, 18, 4, 18, 19, 4, 4, 19, 18, 18, 18, 20, 20, 4, 19, 18, 20, 4, 20, 4, 20, 20], \"coloraxis\": \"coloraxis\", \"symbol\": \"circle\"}, \"mode\": \"markers\", \"name\": \"\", \"orientation\": \"v\", \"showlegend\": false, \"type\": \"scatter\", \"x\": [6.262873556599609, 9.25102618249211, 3.3988839724581466, 9.41271073990849, 9.213032561524328, 6.822310262916808, 6.436438064094631, 7.879709925259513, 6.228502404613413, 6.035923324390541, 6.617603790550273, 7.470967588418638, 8.48268868144498, 8.944322288609374, 8.752228421882128, 8.957933531538453, 6.239313748146133, 4.631595644111009, 6.334313707846043, 8.179948096883475, 6.441311712362733, 6.2159394017735705, 3.951236619525332, 6.2988820225029425, 4.207955906768906, 7.982580630892884, 7.551818329284393, 6.265846951670399, 7.709054570172619, 5.3984735651688975, 4.025761868950123, 7.706491607992135, 7.723316506313088, 4.947856398967908, 3.7788129360577143, 4.511591501312653, 6.298267249343526, 5.08447372970848, 6.542766685576433, 3.825930851699123, 4.976779031556153, 4.422881408268287, 4.270350241214104, 3.9957928711467736, 6.409607621543012, 6.5203445244957425, 6.372806817579324, 6.591651383470817, 6.533853439689073, 5.385113944708296, 6.569373669754997, 6.185900308297559, 7.310758366997969, 6.365637257630389, 5.859898939963054, 7.245724695901502, 7.06009996182429, 6.962870137640631, 6.34821705998926, 6.464976350693669, 6.174368392869117, 6.506623389056689, 5.997188560200813, 6.155420686433014, 6.168554688510901, 5.681436263174117, 5.775529962648372, 5.743081319871933, 6.568403956468687, 5.853251078668777, 6.393938468813006, 5.9110497170903304, 6.6923307489212185, 6.231877438569657, 6.641822511810538, 5.820490906266877, 6.6072407393616475, 6.432938004847792, 5.906121995525385, 5.93146304862215, 6.288359000466092, 6.004457707781809, 6.577845747776734, 6.23225641768652, 6.1769086442865735, 6.542567329933236, 6.46667029018778, 6.089637830507263, 6.44457687350867, 6.335671750997629, 6.226883193859031, 6.202985196055577, 6.486847961671103, 6.325403190198013, 6.455082622593061, 6.228014501153049, 6.479174097156543, 6.257188635086709, 6.308130471350184, 6.323164622219912], \"xaxis\": \"x\", \"y\": [9.053998746991379, 6.458327651040758, 6.318577728133679, 5.764089623807256, 5.48332441298936, 3.431659962699944, 3.551314958974989, 6.867343789698569, 3.676678852413863, 8.120133517746499, 3.893796269070809, 6.938874542583894, 6.046537959641268, 6.130471821329264, 5.978838150667727, 6.000821260930323, 8.466658015717755, 5.5223700273592415, 8.595686089660811, 5.965588775119891, 7.794808220186818, 7.834065658046266, 6.236794659138521, 8.55085083269611, 6.268491994896307, 5.813168346825777, 6.392623319421385, 7.659794928914378, 5.255437563307895, 6.733600725776085, 5.826449645127108, 5.372319142067364, 5.69120958659508, 5.784410669723954, 5.99478238142261, 5.83280941003499, 4.2053973066675665, 6.327127277933923, 7.183077574276636, 5.9699600948942795, 6.0988585482359845, 6.002359799885558, 5.990678738399154, 5.971304294710734, 4.219015616381802, 4.327964739130412, 4.701986188569234, 4.545726367592936, 4.503955041436071, 6.1684699400997145, 5.0221801283452105, 7.0072564750413395, 5.778640775135264, 5.023265590358777, 6.682341401330444, 5.8043190717972, 5.838271056361689, 6.23229532136485, 5.184931636400878, 6.831188049604418, 6.792043438627853, 6.767723090230122, 5.412176290923264, 6.692209200328694, 5.420033341340179, 5.876452282141224, 5.68744667508806, 5.7463744749771815, 5.625052998505983, 6.13202737535706, 6.530179561994263, 5.6576422174508005, 6.133960868901978, 6.44119439184916, 5.802524994585747, 5.929135310730253, 5.750141043950764, 6.433754366981715, 5.870018857511444, 6.0504832880621535, 5.636211599384738, 6.078220656563501, 6.142654876311944, 5.629993624771982, 5.682398925617926, 6.288840929423087, 5.782774456950261, 5.99262991618854, 5.788621540461385, 6.258477193331997, 6.1599120954207125, 5.784375339383488, 6.218306077209286, 5.972038087127999, 6.276507181712108, 5.83239852689857, 6.268469951239958, 5.908273633055215, 6.120669051841744, 6.084847026745483], \"yaxis\": \"y\"}],                        {\"coloraxis\": {\"colorbar\": {\"title\": {\"text\": \"sub\"}}, \"colorscale\": [[0.0, \"#0d0887\"], [0.1111111111111111, \"#46039f\"], [0.2222222222222222, \"#7201a8\"], [0.3333333333333333, \"#9c179e\"], [0.4444444444444444, \"#bd3786\"], [0.5555555555555556, \"#d8576b\"], [0.6666666666666666, \"#ed7953\"], [0.7777777777777778, \"#fb9f3a\"], [0.8888888888888888, \"#fdca26\"], [1.0, \"#f0f921\"]]}, \"legend\": {\"tracegroupgap\": 0}, \"margin\": {\"t\": 60}, \"template\": {\"data\": {\"bar\": [{\"error_x\": {\"color\": \"#2a3f5f\"}, \"error_y\": {\"color\": \"#2a3f5f\"}, \"marker\": {\"line\": {\"color\": \"#E5ECF6\", \"width\": 0.5}}, \"type\": \"bar\"}], \"barpolar\": [{\"marker\": {\"line\": {\"color\": \"#E5ECF6\", \"width\": 0.5}}, \"type\": \"barpolar\"}], \"carpet\": [{\"aaxis\": {\"endlinecolor\": \"#2a3f5f\", \"gridcolor\": \"white\", \"linecolor\": \"white\", \"minorgridcolor\": \"white\", \"startlinecolor\": \"#2a3f5f\"}, \"baxis\": {\"endlinecolor\": \"#2a3f5f\", \"gridcolor\": \"white\", \"linecolor\": \"white\", \"minorgridcolor\": \"white\", \"startlinecolor\": \"#2a3f5f\"}, \"type\": \"carpet\"}], \"choropleth\": [{\"colorbar\": {\"outlinewidth\": 0, \"ticks\": \"\"}, \"type\": \"choropleth\"}], \"contour\": [{\"colorbar\": {\"outlinewidth\": 0, \"ticks\": \"\"}, \"colorscale\": [[0.0, \"#0d0887\"], [0.1111111111111111, \"#46039f\"], [0.2222222222222222, \"#7201a8\"], [0.3333333333333333, \"#9c179e\"], [0.4444444444444444, \"#bd3786\"], [0.5555555555555556, \"#d8576b\"], [0.6666666666666666, \"#ed7953\"], [0.7777777777777778, \"#fb9f3a\"], [0.8888888888888888, \"#fdca26\"], [1.0, \"#f0f921\"]], \"type\": \"contour\"}], \"contourcarpet\": [{\"colorbar\": {\"outlinewidth\": 0, \"ticks\": \"\"}, \"type\": \"contourcarpet\"}], \"heatmap\": [{\"colorbar\": {\"outlinewidth\": 0, \"ticks\": \"\"}, \"colorscale\": [[0.0, \"#0d0887\"], [0.1111111111111111, \"#46039f\"], [0.2222222222222222, \"#7201a8\"], [0.3333333333333333, \"#9c179e\"], [0.4444444444444444, \"#bd3786\"], [0.5555555555555556, \"#d8576b\"], [0.6666666666666666, \"#ed7953\"], [0.7777777777777778, \"#fb9f3a\"], [0.8888888888888888, \"#fdca26\"], [1.0, \"#f0f921\"]], \"type\": \"heatmap\"}], \"heatmapgl\": [{\"colorbar\": {\"outlinewidth\": 0, \"ticks\": \"\"}, \"colorscale\": [[0.0, \"#0d0887\"], [0.1111111111111111, \"#46039f\"], [0.2222222222222222, \"#7201a8\"], [0.3333333333333333, \"#9c179e\"], [0.4444444444444444, \"#bd3786\"], [0.5555555555555556, \"#d8576b\"], [0.6666666666666666, \"#ed7953\"], [0.7777777777777778, \"#fb9f3a\"], [0.8888888888888888, \"#fdca26\"], [1.0, \"#f0f921\"]], \"type\": \"heatmapgl\"}], \"histogram\": [{\"marker\": {\"colorbar\": {\"outlinewidth\": 0, \"ticks\": \"\"}}, \"type\": \"histogram\"}], \"histogram2d\": [{\"colorbar\": {\"outlinewidth\": 0, \"ticks\": \"\"}, \"colorscale\": [[0.0, \"#0d0887\"], [0.1111111111111111, \"#46039f\"], [0.2222222222222222, \"#7201a8\"], [0.3333333333333333, \"#9c179e\"], [0.4444444444444444, \"#bd3786\"], [0.5555555555555556, \"#d8576b\"], [0.6666666666666666, \"#ed7953\"], [0.7777777777777778, \"#fb9f3a\"], [0.8888888888888888, \"#fdca26\"], [1.0, \"#f0f921\"]], \"type\": \"histogram2d\"}], \"histogram2dcontour\": [{\"colorbar\": {\"outlinewidth\": 0, \"ticks\": \"\"}, \"colorscale\": [[0.0, \"#0d0887\"], [0.1111111111111111, \"#46039f\"], [0.2222222222222222, \"#7201a8\"], [0.3333333333333333, \"#9c179e\"], [0.4444444444444444, \"#bd3786\"], [0.5555555555555556, \"#d8576b\"], [0.6666666666666666, \"#ed7953\"], [0.7777777777777778, \"#fb9f3a\"], [0.8888888888888888, \"#fdca26\"], [1.0, \"#f0f921\"]], \"type\": \"histogram2dcontour\"}], \"mesh3d\": [{\"colorbar\": {\"outlinewidth\": 0, \"ticks\": \"\"}, \"type\": \"mesh3d\"}], \"parcoords\": [{\"line\": {\"colorbar\": {\"outlinewidth\": 0, \"ticks\": \"\"}}, \"type\": \"parcoords\"}], \"pie\": [{\"automargin\": true, \"type\": \"pie\"}], \"scatter\": [{\"marker\": {\"colorbar\": {\"outlinewidth\": 0, \"ticks\": \"\"}}, \"type\": \"scatter\"}], \"scatter3d\": [{\"line\": {\"colorbar\": {\"outlinewidth\": 0, \"ticks\": \"\"}}, \"marker\": {\"colorbar\": {\"outlinewidth\": 0, \"ticks\": \"\"}}, \"type\": \"scatter3d\"}], \"scattercarpet\": [{\"marker\": {\"colorbar\": {\"outlinewidth\": 0, \"ticks\": \"\"}}, \"type\": \"scattercarpet\"}], \"scattergeo\": [{\"marker\": {\"colorbar\": {\"outlinewidth\": 0, \"ticks\": \"\"}}, \"type\": \"scattergeo\"}], \"scattergl\": [{\"marker\": {\"colorbar\": {\"outlinewidth\": 0, \"ticks\": \"\"}}, \"type\": \"scattergl\"}], \"scattermapbox\": [{\"marker\": {\"colorbar\": {\"outlinewidth\": 0, \"ticks\": \"\"}}, \"type\": \"scattermapbox\"}], \"scatterpolar\": [{\"marker\": {\"colorbar\": {\"outlinewidth\": 0, \"ticks\": \"\"}}, \"type\": \"scatterpolar\"}], \"scatterpolargl\": [{\"marker\": {\"colorbar\": {\"outlinewidth\": 0, \"ticks\": \"\"}}, \"type\": \"scatterpolargl\"}], \"scatterternary\": [{\"marker\": {\"colorbar\": {\"outlinewidth\": 0, \"ticks\": \"\"}}, \"type\": \"scatterternary\"}], \"surface\": [{\"colorbar\": {\"outlinewidth\": 0, \"ticks\": \"\"}, \"colorscale\": [[0.0, \"#0d0887\"], [0.1111111111111111, \"#46039f\"], [0.2222222222222222, \"#7201a8\"], [0.3333333333333333, \"#9c179e\"], [0.4444444444444444, \"#bd3786\"], [0.5555555555555556, \"#d8576b\"], [0.6666666666666666, \"#ed7953\"], [0.7777777777777778, \"#fb9f3a\"], [0.8888888888888888, \"#fdca26\"], [1.0, \"#f0f921\"]], \"type\": \"surface\"}], \"table\": [{\"cells\": {\"fill\": {\"color\": \"#EBF0F8\"}, \"line\": {\"color\": \"white\"}}, \"header\": {\"fill\": {\"color\": \"#C8D4E3\"}, \"line\": {\"color\": \"white\"}}, \"type\": \"table\"}]}, \"layout\": {\"annotationdefaults\": {\"arrowcolor\": \"#2a3f5f\", \"arrowhead\": 0, \"arrowwidth\": 1}, \"autotypenumbers\": \"strict\", \"coloraxis\": {\"colorbar\": {\"outlinewidth\": 0, \"ticks\": \"\"}}, \"colorscale\": {\"diverging\": [[0, \"#8e0152\"], [0.1, \"#c51b7d\"], [0.2, \"#de77ae\"], [0.3, \"#f1b6da\"], [0.4, \"#fde0ef\"], [0.5, \"#f7f7f7\"], [0.6, \"#e6f5d0\"], [0.7, \"#b8e186\"], [0.8, \"#7fbc41\"], [0.9, \"#4d9221\"], [1, \"#276419\"]], \"sequential\": [[0.0, \"#0d0887\"], [0.1111111111111111, \"#46039f\"], [0.2222222222222222, \"#7201a8\"], [0.3333333333333333, \"#9c179e\"], [0.4444444444444444, \"#bd3786\"], [0.5555555555555556, \"#d8576b\"], [0.6666666666666666, \"#ed7953\"], [0.7777777777777778, \"#fb9f3a\"], [0.8888888888888888, \"#fdca26\"], [1.0, \"#f0f921\"]], \"sequentialminus\": [[0.0, \"#0d0887\"], [0.1111111111111111, \"#46039f\"], [0.2222222222222222, \"#7201a8\"], [0.3333333333333333, \"#9c179e\"], [0.4444444444444444, \"#bd3786\"], [0.5555555555555556, \"#d8576b\"], [0.6666666666666666, \"#ed7953\"], [0.7777777777777778, \"#fb9f3a\"], [0.8888888888888888, \"#fdca26\"], [1.0, \"#f0f921\"]]}, \"colorway\": [\"#636efa\", \"#EF553B\", \"#00cc96\", \"#ab63fa\", \"#FFA15A\", \"#19d3f3\", \"#FF6692\", \"#B6E880\", \"#FF97FF\", \"#FECB52\"], \"font\": {\"color\": \"#2a3f5f\"}, \"geo\": {\"bgcolor\": \"white\", \"lakecolor\": \"white\", \"landcolor\": \"#E5ECF6\", \"showlakes\": true, \"showland\": true, \"subunitcolor\": \"white\"}, \"hoverlabel\": {\"align\": \"left\"}, \"hovermode\": \"closest\", \"mapbox\": {\"style\": \"light\"}, \"paper_bgcolor\": \"white\", \"plot_bgcolor\": \"#E5ECF6\", \"polar\": {\"angularaxis\": {\"gridcolor\": \"white\", \"linecolor\": \"white\", \"ticks\": \"\"}, \"bgcolor\": \"#E5ECF6\", \"radialaxis\": {\"gridcolor\": \"white\", \"linecolor\": \"white\", \"ticks\": \"\"}}, \"scene\": {\"xaxis\": {\"backgroundcolor\": \"#E5ECF6\", \"gridcolor\": \"white\", \"gridwidth\": 2, \"linecolor\": \"white\", \"showbackground\": true, \"ticks\": \"\", \"zerolinecolor\": \"white\"}, \"yaxis\": {\"backgroundcolor\": \"#E5ECF6\", \"gridcolor\": \"white\", \"gridwidth\": 2, \"linecolor\": \"white\", \"showbackground\": true, \"ticks\": \"\", \"zerolinecolor\": \"white\"}, \"zaxis\": {\"backgroundcolor\": \"#E5ECF6\", \"gridcolor\": \"white\", \"gridwidth\": 2, \"linecolor\": \"white\", \"showbackground\": true, \"ticks\": \"\", \"zerolinecolor\": \"white\"}}, \"shapedefaults\": {\"line\": {\"color\": \"#2a3f5f\"}}, \"ternary\": {\"aaxis\": {\"gridcolor\": \"white\", \"linecolor\": \"white\", \"ticks\": \"\"}, \"baxis\": {\"gridcolor\": \"white\", \"linecolor\": \"white\", \"ticks\": \"\"}, \"bgcolor\": \"#E5ECF6\", \"caxis\": {\"gridcolor\": \"white\", \"linecolor\": \"white\", \"ticks\": \"\"}}, \"title\": {\"x\": 0.05}, \"xaxis\": {\"automargin\": true, \"gridcolor\": \"white\", \"linecolor\": \"white\", \"ticks\": \"\", \"title\": {\"standoff\": 15}, \"zerolinecolor\": \"white\", \"zerolinewidth\": 2}, \"yaxis\": {\"automargin\": true, \"gridcolor\": \"white\", \"linecolor\": \"white\", \"ticks\": \"\", \"title\": {\"standoff\": 15}, \"zerolinecolor\": \"white\", \"zerolinewidth\": 2}}}, \"xaxis\": {\"anchor\": \"y\", \"domain\": [0.0, 1.0], \"title\": {\"text\": \"X1\"}}, \"yaxis\": {\"anchor\": \"x\", \"domain\": [0.0, 1.0], \"title\": {\"text\": \"X2\"}}},                        {\"responsive\": true}                    ).then(function(){\n",
       "                            \n",
       "var gd = document.getElementById('4111ee9b-2fbb-43b5-aef2-0a367c065489');\n",
       "var x = new MutationObserver(function (mutations, observer) {{\n",
       "        var display = window.getComputedStyle(gd).display;\n",
       "        if (!display || display === 'none') {{\n",
       "            console.log([gd, 'removed!']);\n",
       "            Plotly.purge(gd);\n",
       "            observer.disconnect();\n",
       "        }}\n",
       "}});\n",
       "\n",
       "// Listen for the removal of the full notebook cells\n",
       "var notebookContainer = gd.closest('#notebook-container');\n",
       "if (notebookContainer) {{\n",
       "    x.observe(notebookContainer, {childList: true});\n",
       "}}\n",
       "\n",
       "// Listen for the clearing of the current output cell\n",
       "var outputEl = gd.closest('.output');\n",
       "if (outputEl) {{\n",
       "    x.observe(outputEl, {childList: true});\n",
       "}}\n",
       "\n",
       "                        })                };                });            </script>        </div>"
      ]
     },
     "metadata": {},
     "output_type": "display_data"
    }
   ],
   "source": [
    "fig.show()"
   ]
  },
  {
   "cell_type": "code",
   "execution_count": null,
   "metadata": {},
   "outputs": [],
   "source": []
  },
  {
   "cell_type": "code",
   "execution_count": null,
   "metadata": {},
   "outputs": [],
   "source": []
  }
 ],
 "metadata": {
  "kernelspec": {
   "display_name": "Python 3",
   "language": "python",
   "name": "python3"
  },
  "language_info": {
   "codemirror_mode": {
    "name": "ipython",
    "version": 3
   },
   "file_extension": ".py",
   "mimetype": "text/x-python",
   "name": "python",
   "nbconvert_exporter": "python",
   "pygments_lexer": "ipython3",
   "version": "3.7.3"
  }
 },
 "nbformat": 4,
 "nbformat_minor": 2
}
