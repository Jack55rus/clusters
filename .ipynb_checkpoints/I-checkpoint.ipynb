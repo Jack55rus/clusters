{
 "cells": [
  {
   "cell_type": "code",
   "execution_count": 1,
   "metadata": {},
   "outputs": [],
   "source": [
    "from sklearn.metrics import pairwise_distances\n",
    "from scipy.spatial import distance\n",
    "from reader import Reader\n",
    "import yaml\n",
    "from const import Const\n",
    "import random\n",
    "import numpy as np\n",
    "from utils import get_F_example\n",
    "from clustering import Clusters\n",
    "from sklearn.datasets.samples_generator import make_blobs\n",
    "from i_merge import \n",
    "import matplotlib.pyplot as plt\n",
    "import pandas as pd"
   ]
  },
  {
   "cell_type": "code",
   "execution_count": 2,
   "metadata": {},
   "outputs": [
    {
     "data": {
      "text/html": [
       "<div>\n",
       "<style scoped>\n",
       "    .dataframe tbody tr th:only-of-type {\n",
       "        vertical-align: middle;\n",
       "    }\n",
       "\n",
       "    .dataframe tbody tr th {\n",
       "        vertical-align: top;\n",
       "    }\n",
       "\n",
       "    .dataframe thead th {\n",
       "        text-align: right;\n",
       "    }\n",
       "</style>\n",
       "<table border=\"1\" class=\"dataframe\">\n",
       "  <thead>\n",
       "    <tr style=\"text-align: right;\">\n",
       "      <th></th>\n",
       "      <th>Id</th>\n",
       "      <th>X1</th>\n",
       "      <th>X2</th>\n",
       "      <th>F</th>\n",
       "      <th>Cluster_id</th>\n",
       "      <th>Subcluster_id</th>\n",
       "    </tr>\n",
       "  </thead>\n",
       "  <tbody>\n",
       "    <tr>\n",
       "      <th>11</th>\n",
       "      <td>1</td>\n",
       "      <td>25.388056</td>\n",
       "      <td>10.849605</td>\n",
       "      <td>3.202699</td>\n",
       "      <td>0</td>\n",
       "      <td>0</td>\n",
       "    </tr>\n",
       "    <tr>\n",
       "      <th>14</th>\n",
       "      <td>2</td>\n",
       "      <td>26.102651</td>\n",
       "      <td>11.895918</td>\n",
       "      <td>3.665356</td>\n",
       "      <td>0</td>\n",
       "      <td>0</td>\n",
       "    </tr>\n",
       "    <tr>\n",
       "      <th>13</th>\n",
       "      <td>3</td>\n",
       "      <td>24.843052</td>\n",
       "      <td>12.847889</td>\n",
       "      <td>4.452695</td>\n",
       "      <td>0</td>\n",
       "      <td>0</td>\n",
       "    </tr>\n",
       "    <tr>\n",
       "      <th>15</th>\n",
       "      <td>4</td>\n",
       "      <td>25.282225</td>\n",
       "      <td>12.889494</td>\n",
       "      <td>4.779293</td>\n",
       "      <td>0</td>\n",
       "      <td>0</td>\n",
       "    </tr>\n",
       "    <tr>\n",
       "      <th>9</th>\n",
       "      <td>5</td>\n",
       "      <td>26.000284</td>\n",
       "      <td>13.887626</td>\n",
       "      <td>5.216364</td>\n",
       "      <td>0</td>\n",
       "      <td>0</td>\n",
       "    </tr>\n",
       "  </tbody>\n",
       "</table>\n",
       "</div>"
      ],
      "text/plain": [
       "    Id         X1         X2         F  Cluster_id  Subcluster_id\n",
       "11   1  25.388056  10.849605  3.202699           0              0\n",
       "14   2  26.102651  11.895918  3.665356           0              0\n",
       "13   3  24.843052  12.847889  4.452695           0              0\n",
       "15   4  25.282225  12.889494  4.779293           0              0\n",
       "9    5  26.000284  13.887626  5.216364           0              0"
      ]
     },
     "execution_count": 2,
     "metadata": {},
     "output_type": "execute_result"
    }
   ],
   "source": [
    "df = pd.read_csv('output.csv')\n",
    "df = df.sort_values(by=['Id'])\n",
    "df.head()"
   ]
  },
  {
   "cell_type": "code",
   "execution_count": null,
   "metadata": {},
   "outputs": [],
   "source": []
  },
  {
   "cell_type": "code",
   "execution_count": 3,
   "metadata": {},
   "outputs": [
    {
     "name": "stdout",
     "output_type": "stream",
     "text": [
      "5\n"
     ]
    },
    {
     "data": {
      "text/html": [
       "<div>\n",
       "<style scoped>\n",
       "    .dataframe tbody tr th:only-of-type {\n",
       "        vertical-align: middle;\n",
       "    }\n",
       "\n",
       "    .dataframe tbody tr th {\n",
       "        vertical-align: top;\n",
       "    }\n",
       "\n",
       "    .dataframe thead th {\n",
       "        text-align: right;\n",
       "    }\n",
       "</style>\n",
       "<table border=\"1\" class=\"dataframe\">\n",
       "  <thead>\n",
       "    <tr style=\"text-align: right;\">\n",
       "      <th></th>\n",
       "      <th>Id</th>\n",
       "      <th>X1</th>\n",
       "      <th>X2</th>\n",
       "      <th>F</th>\n",
       "      <th>Cluster_id</th>\n",
       "    </tr>\n",
       "  </thead>\n",
       "  <tbody>\n",
       "    <tr>\n",
       "      <th>11</th>\n",
       "      <td>1</td>\n",
       "      <td>25.388056</td>\n",
       "      <td>10.849605</td>\n",
       "      <td>3.202699</td>\n",
       "      <td>0</td>\n",
       "    </tr>\n",
       "    <tr>\n",
       "      <th>14</th>\n",
       "      <td>2</td>\n",
       "      <td>26.102651</td>\n",
       "      <td>11.895918</td>\n",
       "      <td>3.665356</td>\n",
       "      <td>0</td>\n",
       "    </tr>\n",
       "    <tr>\n",
       "      <th>13</th>\n",
       "      <td>3</td>\n",
       "      <td>24.843052</td>\n",
       "      <td>12.847889</td>\n",
       "      <td>4.452695</td>\n",
       "      <td>0</td>\n",
       "    </tr>\n",
       "    <tr>\n",
       "      <th>15</th>\n",
       "      <td>4</td>\n",
       "      <td>25.282225</td>\n",
       "      <td>12.889494</td>\n",
       "      <td>4.779293</td>\n",
       "      <td>0</td>\n",
       "    </tr>\n",
       "    <tr>\n",
       "      <th>9</th>\n",
       "      <td>5</td>\n",
       "      <td>26.000284</td>\n",
       "      <td>13.887626</td>\n",
       "      <td>5.216364</td>\n",
       "      <td>0</td>\n",
       "    </tr>\n",
       "  </tbody>\n",
       "</table>\n",
       "</div>"
      ],
      "text/plain": [
       "    Id         X1         X2         F  Cluster_id\n",
       "11   1  25.388056  10.849605  3.202699           0\n",
       "14   2  26.102651  11.895918  3.665356           0\n",
       "13   3  24.843052  12.847889  4.452695           0\n",
       "15   4  25.282225  12.889494  4.779293           0\n",
       "9    5  26.000284  13.887626  5.216364           0"
      ]
     },
     "execution_count": 3,
     "metadata": {},
     "output_type": "execute_result"
    }
   ],
   "source": [
    "if 'Subcluster_id' in df.columns:\n",
    "    del df['Subcluster_id']\n",
    "num_clusters = len(set(df['Cluster_id']))\n",
    "print(num_clusters)\n",
    "df.head()"
   ]
  },
  {
   "cell_type": "code",
   "execution_count": 4,
   "metadata": {},
   "outputs": [
    {
     "data": {
      "text/plain": [
       "<matplotlib.collections.PathCollection at 0x20fbc5f35c0>"
      ]
     },
     "execution_count": 4,
     "metadata": {},
     "output_type": "execute_result"
    },
    {
     "data": {
      "image/png": "[encoded data removed]",
      "text/plain": [
       "<Figure size 432x288 with 1 Axes>"
      ]
     },
     "metadata": {
      "needs_background": "light"
     },
     "output_type": "display_data"
    }
   ],
   "source": [
    "plt.scatter(df['X1'],df['X2'], c=df['Cluster_id'])"
   ]
  },
  {
   "cell_type": "code",
   "execution_count": 5,
   "metadata": {},
   "outputs": [
    {
     "data": {
      "text/plain": [
       "(206, 206)"
      ]
     },
     "execution_count": 5,
     "metadata": {},
     "output_type": "execute_result"
    }
   ],
   "source": [
    "matrix = df.iloc[:, 1:-2].values\n",
    "dist_matrix = np.zeros((len(matrix), len(matrix)))\n",
    "for i in range(len(matrix)):\n",
    "    for j in range(len(matrix)):\n",
    "        dist_matrix[i,j] = distance.euclidean(matrix[i], matrix[j])\n",
    "dist_matrix.shape"
   ]
  },
  {
   "cell_type": "code",
   "execution_count": 6,
   "metadata": {},
   "outputs": [],
   "source": [
    "id_cluster_matrix = df[['Id', 'Cluster_id']].iloc[:, ].values"
   ]
  },
  {
   "cell_type": "code",
   "execution_count": 7,
   "metadata": {},
   "outputs": [],
   "source": [
    "dist_arr = []\n",
    "for line1 in id_cluster_matrix:\n",
    "    a_dist = []\n",
    "    # набираем расстояния\n",
    "    for line2 in id_cluster_matrix:\n",
    "        # если тот же кластер - лесом\n",
    "        \n",
    "        if line1[1] == line2[1]:\n",
    "            continue\n",
    "        a_dist.append(\n",
    "            [line1[0], dist_matrix[int(line1[0])-1, int(line2[0])-1], line2[0], line2[1]])\n",
    "    a_dist.sort(key=lambda i: float(i[1]), reverse=False)\n",
    "    dist_arr.append(a_dist[0])"
   ]
  },
  {
   "cell_type": "code",
   "execution_count": 8,
   "metadata": {},
   "outputs": [
    {
     "data": {
      "text/plain": [
       "10"
      ]
     },
     "execution_count": 8,
     "metadata": {},
     "output_type": "execute_result"
    }
   ],
   "source": [
    "good_dots = []\n",
    "\n",
    "for b in dist_arr:\n",
    "    for c in dist_arr:\n",
    "        if b[0] == c[2] and b[1] == c[1]:\n",
    "            good_dots.append(b)\n",
    "len(good_dots)"
   ]
  },
  {
   "cell_type": "code",
   "execution_count": 9,
   "metadata": {},
   "outputs": [
    {
     "data": {
      "text/plain": [
       "[[57, 2.474189890866303, 162, 4],\n",
       " [67, 2.272236548483676, 169, 2],\n",
       " [80, 1.6847734327288637, 81, 3],\n",
       " [81, 1.6847734327288637, 80, 1],\n",
       " [142, 9.362841805897231, 144, 1],\n",
       " [144, 9.362841805897231, 142, 0],\n",
       " [160, 2.4611125111536523, 161, 1],\n",
       " [161, 2.4611125111536523, 160, 4],\n",
       " [162, 2.474189890866303, 57, 1],\n",
       " [169, 2.272236548483676, 67, 1]]"
      ]
     },
     "execution_count": 9,
     "metadata": {},
     "output_type": "execute_result"
    }
   ],
   "source": [
    "good_dots"
   ]
  },
  {
   "cell_type": "code",
   "execution_count": 10,
   "metadata": {},
   "outputs": [
    {
     "name": "stdout",
     "output_type": "stream",
     "text": [
      "10\n"
     ]
    }
   ],
   "source": [
    "data = []\n",
    "for g in good_dots:\n",
    "    dot1 = df[df['Id']==g[0]]\n",
    "    dot2 = df[df['Id']==g[2]]\n",
    "    f_max_clus_1 = df[df['Cluster_id']==dot1['Cluster_id'].values[0]]['F'].max()\n",
    "    f_max_clus_2 = df[df['Cluster_id']==dot2['Cluster_id'].values[0]]['F'].max()\n",
    "    data.append({'p1':dot1.values[0,:], 'F_max_cluster1':f_max_clus_1, 'p2':dot2.values[0,:], 'F_max_cluster2':f_max_clus_2})\n",
    "print(len(data))"
   ]
  },
  {
   "cell_type": "code",
   "execution_count": 11,
   "metadata": {},
   "outputs": [
    {
     "name": "stdout",
     "output_type": "stream",
     "text": [
      "5\n"
     ]
    },
    {
     "data": {
      "text/plain": [
       "[{'p1': array([57.      , 60.512535, -5.643347,  2.871419,  1.      ]),\n",
       "  'F_max_cluster1': 7.948055999999999,\n",
       "  'p2': array([162.      ,  62.661039,  -6.870354,   2.967165,   4.      ]),\n",
       "  'F_max_cluster2': 2.993245},\n",
       " {'p1': array([67.      , 48.839302, -4.600647,  3.17171 ,  1.      ]),\n",
       "  'F_max_cluster1': 7.948055999999999,\n",
       "  'p2': array([169.      ,  47.881026,  -6.66093 ,   3.215466,   2.      ]),\n",
       "  'F_max_cluster2': 3.270322},\n",
       " {'p1': array([80.      , 62.299744,  7.968449,  2.678518,  1.      ]),\n",
       "  'F_max_cluster1': 7.948055999999999,\n",
       "  'p2': array([81.      , 62.926846,  9.532164,  3.008878,  3.      ]),\n",
       "  'F_max_cluster2': 3.0088779999999997},\n",
       " {'p1': array([142.      ,  37.127745,  17.609842,   2.399255,   0.      ]),\n",
       "  'F_max_cluster1': 11.264201,\n",
       "  'p2': array([144.      ,  44.215469,  11.492083,   1.980179,   1.      ]),\n",
       "  'F_max_cluster2': 7.948055999999999},\n",
       " {'p1': array([160.      ,  62.640273,  -7.35715 ,   2.9447  ,   4.      ]),\n",
       "  'F_max_cluster1': 2.993245,\n",
       "  'p2': array([161.      ,  60.193044,  -7.618196,   2.35954 ,   1.      ]),\n",
       "  'F_max_cluster2': 7.948055999999999}]"
      ]
     },
     "execution_count": 11,
     "metadata": {},
     "output_type": "execute_result"
    }
   ],
   "source": [
    "i = 0\n",
    "while i<len(data):\n",
    "    for j in range(len(data)):\n",
    "        if data[i]['p1'][0]== data[j]['p2'][0] and j!=i:\n",
    "            data.pop(j)\n",
    "            break\n",
    "    i += 1\n",
    "print(len(data))\n",
    "data"
   ]
  },
  {
   "cell_type": "code",
   "execution_count": 12,
   "metadata": {},
   "outputs": [],
   "source": [
    "def get_profile(F, p1, p2, min_len=1.52, min_dif=0.52, divider=2, max_div_num=8, min_diff=0.52, a=1.52):\n",
    "\n",
    "    if np.linalg.norm(np.array(p1[1:-1]) - np.array(p2[1:-1]))/divider <= min_diff:\n",
    "        return min(p1[-1],p2[-1])\n",
    "    else:\n",
    "        div_num = 0\n",
    "        segment_len = np.linalg.norm( np.array(p1[1:-1]) - np.array(p2[1:-1]))\n",
    "        while (div_num < max_div_num-1) and (segment_len > min_len):\n",
    "            div_num+= 1\n",
    "            num_of_segments = (divider+1)*div_num + divider\n",
    "            segment_len = np.linalg.norm(np.array(p1[1:-1]) - np.array(p2[1:-1]))/num_of_segments\n",
    "\n",
    "        if div_num == 0:\n",
    "            return min(p1[-1],p2[-1])\n",
    "\n",
    "        points = []\n",
    "        for i in range(num_of_segments):\n",
    "            x = [-1.]\n",
    "            for j in range(1, len(p1)-1):\n",
    "                x.append((p1[j] + p2[j]*(i+1)/(num_of_segments-i))/(1+(i+1)/(num_of_segments-i)))\n",
    "            points.append(np.array(x))\n",
    "#         plt.scatter([p1[1],p2[1]],[p1[2],p2[2]])\n",
    "#         plt.annotate(str(p1[-1]), xy=(p1[1], p1[2]))\n",
    "#         plt.annotate(str(p2[-1]), xy=(p2[1], p2[2]))\n",
    "#         plt.scatter(np.array(points)[:,1],np.array(points)[:,2])\n",
    "        Fs = [[point[1],  point[2], get_F_example([f[:-1] for f in F], a, target=point)] for point in points]\n",
    "        min_F = Fs[0][-1]\n",
    "        for s in Fs:\n",
    "            if s[-1]<min_F:\n",
    "                min_F = s[-1]\n",
    "#             plt.annotate(str(s[-1]), xy=(s[0], s[1]))\n",
    "#         plt.show()\n",
    "        return min_F"
   ]
  },
  {
   "cell_type": "code",
   "execution_count": 13,
   "metadata": {},
   "outputs": [],
   "source": [
    "F = df.iloc[:].values[:,:4]"
   ]
  },
  {
   "cell_type": "code",
   "execution_count": 14,
   "metadata": {},
   "outputs": [],
   "source": [
    "F_matrix = np.full((num_clusters,num_clusters), np.inf)\n",
    "for i in range(len(data)):\n",
    "    if data[i]['F_max_cluster1']<=data[i]['F_max_cluster2']:\n",
    "        F_max = data[i]['F_max_cluster1']\n",
    "        x = int(data[i]['p2'][-1])\n",
    "        y = int(data[i]['p1'][-1])\n",
    "    else:\n",
    "        F_max = data[i]['F_max_cluster2']\n",
    "        x = int(data[i]['p1'][-1])\n",
    "        y = int(data[i]['p2'][-1])\n",
    "    delta = F_max - get_profile(F, data[i]['p1'][:-1], data[i]['p2'][:-1])\n",
    "    if F_matrix[x, y] == np.inf:\n",
    "        F_matrix[x, y] = delta\n",
    "    elif F_matrix[x, y] > delta:\n",
    "        F_matrix[x, y] = delta"
   ]
  },
  {
   "cell_type": "code",
   "execution_count": 15,
   "metadata": {},
   "outputs": [
    {
     "data": {
      "text/plain": [
       "array([[       inf, 7.23366561,        inf,        inf,        inf],\n",
       "       [       inf,        inf, 1.57752553, 1.45333508, 1.45212139],\n",
       "       [       inf,        inf,        inf,        inf,        inf],\n",
       "       [       inf,        inf,        inf,        inf,        inf],\n",
       "       [       inf,        inf,        inf,        inf,        inf]])"
      ]
     },
     "execution_count": 15,
     "metadata": {},
     "output_type": "execute_result"
    }
   ],
   "source": [
    "F_matrix"
   ]
  },
  {
   "cell_type": "code",
   "execution_count": 16,
   "metadata": {},
   "outputs": [],
   "source": [
    "def merge(M, num_clusters, df):\n",
    "    \n",
    "    min_item = M.argmin()\n",
    "    row = min_item//num_clusters\n",
    "    col = min_item%num_clusters\n",
    "    M[row,col]=np.inf\n",
    "    df.loc[df['Cluster_id']==col, 'Cluster_id'] = row\n",
    "    print(df[df['Cluster_id']==col]['Cluster_id'])\n",
    "    for i in range(num_clusters):\n",
    "        if M[row,i]>M[col,i]:\n",
    "            M[row,i] = M[col,i]\n",
    "        M[col,i] = np.inf"
   ]
  },
  {
   "cell_type": "code",
   "execution_count": 17,
   "metadata": {},
   "outputs": [],
   "source": [
    "threshold = 2"
   ]
  },
  {
   "cell_type": "code",
   "execution_count": 18,
   "metadata": {},
   "outputs": [
    {
     "name": "stdout",
     "output_type": "stream",
     "text": [
      "Series([], Name: Cluster_id, dtype: int64)\n",
      "Series([], Name: Cluster_id, dtype: int64)\n",
      "Series([], Name: Cluster_id, dtype: int64)\n"
     ]
    }
   ],
   "source": [
    "while F_matrix.min()<threshold:\n",
    "    merge(F_matrix, num_clusters, df)"
   ]
  },
  {
   "cell_type": "code",
   "execution_count": 19,
   "metadata": {},
   "outputs": [
    {
     "data": {
      "text/plain": [
       "<matplotlib.collections.PathCollection at 0x20fbc71fa58>"
      ]
     },
     "execution_count": 19,
     "metadata": {},
     "output_type": "execute_result"
    },
    {
     "data": {
      "image/png": "[encoded data removed]",
      "text/plain": [
       "<Figure size 432x288 with 1 Axes>"
      ]
     },
     "metadata": {
      "needs_background": "light"
     },
     "output_type": "display_data"
    }
   ],
   "source": [
    "plt.scatter(df['X1'],df['X2'], c=df['Cluster_id'])"
   ]
  },
  {
   "cell_type": "code",
   "execution_count": null,
   "metadata": {},
   "outputs": [],
   "source": []
  },
  {
   "cell_type": "code",
   "execution_count": null,
   "metadata": {},
   "outputs": [],
   "source": []
  },
  {
   "cell_type": "code",
   "execution_count": null,
   "metadata": {},
   "outputs": [],
   "source": []
  },
  {
   "cell_type": "code",
   "execution_count": 20,
   "metadata": {},
   "outputs": [
    {
     "name": "stderr",
     "output_type": "stream",
     "text": [
      "C:\\Users\\nekro\\Anaconda3\\lib\\site-packages\\ipykernel_launcher.py:5: SettingWithCopyWarning: \n",
      "A value is trying to be set on a copy of a slice from a DataFrame.\n",
      "Try using .loc[row_indexer,col_indexer] = value instead\n",
      "\n",
      "See the caveats in the documentation: http://pandas.pydata.org/pandas-docs/stable/indexing.html#indexing-view-versus-copy\n",
      "  \"\"\"\n"
     ]
    }
   ],
   "source": [
    "min_item = F_matrix.argmin()\n",
    "row = min_item//num_clusters\n",
    "col = min_item%num_clusters\n",
    "F_matrix[row,col]=np.inf\n",
    "df[df['Cluster_id']==col]['Cluster_id']=row\n",
    "for i in range(num_clusters):\n",
    "    if F_matrix[row,i]>F_matrix[col,i]:\n",
    "        F_matrix[row,i] = F_matrix[col,i]\n",
    "    F_matrix[col,i] = np.inf"
   ]
  },
  {
   "cell_type": "code",
   "execution_count": 21,
   "metadata": {},
   "outputs": [
    {
     "data": {
      "text/plain": [
       "array([[inf, inf, inf, inf, inf],\n",
       "       [inf, inf, inf, inf, inf],\n",
       "       [inf, inf, inf, inf, inf],\n",
       "       [inf, inf, inf, inf, inf],\n",
       "       [inf, inf, inf, inf, inf]])"
      ]
     },
     "execution_count": 21,
     "metadata": {},
     "output_type": "execute_result"
    }
   ],
   "source": [
    "F_matrix"
   ]
  },
  {
   "cell_type": "code",
   "execution_count": 22,
   "metadata": {},
   "outputs": [
    {
     "data": {
      "text/plain": [
       "180    1\n",
       "178    1\n",
       "164    1\n",
       "165    1\n",
       "166    1\n",
       "169    1\n",
       "172    1\n",
       "171    1\n",
       "175    1\n",
       "100    1\n",
       "111    1\n",
       "105    1\n",
       "159    1\n",
       "158    1\n",
       "157    1\n",
       "153    1\n",
       "152    1\n",
       "199    1\n",
       "205    1\n",
       "202    1\n",
       "201    1\n",
       "185    1\n",
       "187    1\n",
       "190    1\n",
       "191    1\n",
       "192    1\n",
       "136    1\n",
       "138    1\n",
       "139    1\n",
       "140    1\n",
       "      ..\n",
       "189    1\n",
       "184    1\n",
       "183    1\n",
       "137    1\n",
       "134    1\n",
       "141    1\n",
       "135    1\n",
       "143    1\n",
       "133    1\n",
       "101    1\n",
       "125    1\n",
       "115    1\n",
       "114    1\n",
       "123    1\n",
       "113    1\n",
       "118    1\n",
       "196    1\n",
       "195    1\n",
       "193    1\n",
       "176    1\n",
       "132    1\n",
       "149    1\n",
       "161    1\n",
       "147    1\n",
       "146    1\n",
       "108    1\n",
       "130    1\n",
       "128    1\n",
       "110    1\n",
       "112    1\n",
       "Name: Cluster_id, Length: 106, dtype: int64"
      ]
     },
     "execution_count": 22,
     "metadata": {},
     "output_type": "execute_result"
    }
   ],
   "source": [
    "df[df['Cluster_id']==col]['Cluster_id']"
   ]
  },
  {
   "cell_type": "code",
   "execution_count": null,
   "metadata": {},
   "outputs": [],
   "source": []
  }
 ],
 "metadata": {
  "kernelspec": {
   "display_name": "Python 3",
   "language": "python",
   "name": "python3"
  },
  "language_info": {
   "codemirror_mode": {
    "name": "ipython",
    "version": 3
   },
   "file_extension": ".py",
   "mimetype": "text/x-python",
   "name": "python",
   "nbconvert_exporter": "python",
   "pygments_lexer": "ipython3",
   "version": "3.7.3"
  }
 },
 "nbformat": 4,
 "nbformat_minor": 2
}
